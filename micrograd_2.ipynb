{
  "nbformat": 4,
  "nbformat_minor": 0,
  "metadata": {
    "colab": {
      "provenance": [],
      "include_colab_link": true
    },
    "kernelspec": {
      "name": "python3",
      "display_name": "Python 3"
    },
    "language_info": {
      "name": "python"
    }
  },
  "cells": [
    {
      "cell_type": "markdown",
      "metadata": {
        "id": "view-in-github",
        "colab_type": "text"
      },
      "source": [
        "<a href=\"https://colab.research.google.com/github/burakemretetik/micrograd/blob/main/micrograd_2.ipynb\" target=\"_parent\"><img src=\"https://colab.research.google.com/assets/colab-badge.svg\" alt=\"Open In Colab\"/></a>"
      ]
    },
    {
      "cell_type": "markdown",
      "source": [
        "# Micrograd"
      ],
      "metadata": {
        "id": "8458F6a3t3vS"
      }
    },
    {
      "cell_type": "markdown",
      "source": [
        "## Import the Libraries"
      ],
      "metadata": {
        "id": "DkxnYePXup69"
      }
    },
    {
      "cell_type": "code",
      "execution_count": 1,
      "metadata": {
        "id": "9s8hz04Y1ceq"
      },
      "outputs": [],
      "source": [
        "# https://github.com/karpathy/nn-zero-to-hero/blob/master/lectures/micrograd/micrograd_lecture_first_half_roughly.ipynb"
      ]
    },
    {
      "cell_type": "code",
      "source": [
        "import math\n",
        "import numpy as np\n",
        "import matplotlib.pyplot as plt\n",
        "%matplotlib inline"
      ],
      "metadata": {
        "id": "L31gPObr1fYG"
      },
      "execution_count": 2,
      "outputs": []
    },
    {
      "cell_type": "markdown",
      "source": [
        "## Defining Components"
      ],
      "metadata": {
        "id": "2mhvWllsnU5B"
      }
    },
    {
      "cell_type": "code",
      "source": [
        "class Value:\n",
        "\n",
        "  def __init__(self, data, _children=(), _op='', label=''):\n",
        "    self.data = data\n",
        "    self.grad = 0.0\n",
        "    self._backward = lambda: None\n",
        "    self._prev = set(_children)\n",
        "    self._op = _op\n",
        "    self.label = label\n",
        "\n",
        "  def __repr__(self):\n",
        "    return f\"Value(data={self.data})\"\n",
        "\n",
        "  def __add__(self, other):\n",
        "    other = other if isinstance(other, Value) else Value(other)\n",
        "    out = Value(self.data + other.data, (self, other), '+')\n",
        "\n",
        "    def _backward():\n",
        "      self.grad += 1.0 * out.grad\n",
        "      other.grad += 1.0 * out.grad\n",
        "    out._backward = _backward\n",
        "\n",
        "    return out\n",
        "\n",
        "  def exp(self):\n",
        "    x = self.data\n",
        "    out = Value(math.exp(x), (self, ), 'exp')\n",
        "\n",
        "    def _backward():\n",
        "      self.grad += out.data * out.grad\n",
        "    out._backward = _backward\n",
        "\n",
        "    return out\n",
        "\n",
        "  def __mul__(self, other):\n",
        "    other = other if isinstance(other, Value) else Value(other)\n",
        "    out = Value(self.data * other.data, (self, other), '*')\n",
        "\n",
        "    def _backward():\n",
        "      self.grad = other.data * out.grad\n",
        "      other.grad = self.data * out.grad\n",
        "    out._backward = _backward\n",
        "\n",
        "    return out\n",
        "\n",
        "  def __rmul__(self, other):\n",
        "    return self * other\n",
        "\n",
        "  def __radd__(self, other): # other + self\n",
        "    return self + other\n",
        "\n",
        "  def __truediv__(self, other):\n",
        "    return self * other**-1\n",
        "\n",
        "  def __neg__(self):\n",
        "    return self * -1\n",
        "\n",
        "  def __sub__(self, other):\n",
        "    return self + (-other)\n",
        "\n",
        "  def __pow__(self, other):\n",
        "    assert isinstance(other, (int, float)), \"Only supporting int/float powers.\"\n",
        "    out = Value(self.data**other, (self, ), f'**{other}')\n",
        "\n",
        "    def _backward():\n",
        "      self.grad += (other * self.data**(other - 1)) * out.grad\n",
        "    out._backward = _backward\n",
        "\n",
        "    return out\n",
        "\n",
        "  def tanh(self):\n",
        "    x = self.data\n",
        "    t = (math.exp(2*x) - 1) / (math.exp(2*x) + 1)\n",
        "    out = Value(t, (self, ), 'tanh')\n",
        "\n",
        "    def _backward():\n",
        "      self.grad = (1 - t**2) * out.grad\n",
        "    out._backward = _backward\n",
        "\n",
        "    return out\n",
        "\n",
        "  def backward(self):\n",
        "\n",
        "    topo = []\n",
        "    visited = set()\n",
        "    def build_topo(v):\n",
        "      if v not in visited:\n",
        "        visited.add(v)\n",
        "      for child in v._prev:\n",
        "        build_topo(child)\n",
        "      topo.append(v)\n",
        "    build_topo(self)\n",
        "\n",
        "    self.grad = 1.0\n",
        "    for node in reversed(topo):\n",
        "      node._backward()"
      ],
      "metadata": {
        "id": "2UpE7pDaKLsK"
      },
      "execution_count": 3,
      "outputs": []
    },
    {
      "cell_type": "code",
      "source": [
        "from graphviz import Digraph\n",
        "\n",
        "def trace(root):\n",
        "  # builds a set of all nodes and edges in a graph\n",
        "  nodes, edges = set(), set()\n",
        "  def build(v):\n",
        "    if v not in nodes:\n",
        "      nodes.add(v)\n",
        "      for child in v._prev:\n",
        "        edges.add((child, v))\n",
        "        build(child)\n",
        "  build(root)\n",
        "  return nodes, edges\n",
        "\n",
        "def draw_dot(root):\n",
        "  dot = Digraph(format='svg', graph_attr={'rankdir': 'LR'}) # LR = left to right\n",
        "\n",
        "  nodes, edges = trace(root)\n",
        "  for n in nodes:\n",
        "    uid = str(id(n))\n",
        "    # for any value in the graph, create a rectangular ('record') node for it\n",
        "    dot.node(name = uid, label = \"{ %s | data %.4f | grad %.4f }\" % (n.label, n.data, n.grad), shape='record')\n",
        "    if n._op:\n",
        "      # if this value is a result of some operation, create an op node for it\n",
        "      dot.node(name = uid + n._op, label = n._op)\n",
        "      # and connect this node to it\n",
        "      dot.edge(uid + n._op, uid)\n",
        "\n",
        "  for n1, n2 in edges:\n",
        "    # connect n1 to the op node of n2\n",
        "    dot.edge(str(id(n1)), str(id(n2)) + n2._op)\n",
        "\n",
        "  return dot"
      ],
      "metadata": {
        "id": "i6PDPhNb5ARH"
      },
      "execution_count": 4,
      "outputs": []
    },
    {
      "cell_type": "markdown",
      "source": [
        "## Backpropagation"
      ],
      "metadata": {
        "id": "YOEw4md9vMCq"
      }
    },
    {
      "cell_type": "code",
      "source": [
        "# inputs x1, x2\n",
        "x1 = Value(2.0, label='x1')\n",
        "x2 = Value(0.0, label='x2')\n",
        "\n",
        "# weights w1, w2\n",
        "w1 = Value(-3.0, label='w1')\n",
        "w2 = Value(1.0, label='w2')\n",
        "\n",
        "# bias\n",
        "b = Value(6.8813735870195432, label='b')\n",
        "\n",
        "x1w1 = x1 * w1; x1w1.label = 'x1*w1'\n",
        "x2w2 = x2 * w2; x2w2.label = 'x2*w2'\n",
        "x1w1x2w2 = x1w1 + x2w2; x1w1x2w2.label = 'x1*w1 + x2*w2'\n",
        "n = x1w1x2w2 + b; n.label = 'n'\n",
        "# ---\n",
        "e = (2*n).exp()\n",
        "o = (e-1) / (e+1); o.label = 'o'\n",
        "# ---\n",
        "draw_dot(o)"
      ],
      "metadata": {
        "id": "ADHTXrLsvT_R",
        "outputId": "24d3f702-4474-491e-dc50-e3b3e453a613",
        "colab": {
          "base_uri": "https://localhost:8080/",
          "height": 321
        }
      },
      "execution_count": 5,
      "outputs": [
        {
          "output_type": "execute_result",
          "data": {
            "image/svg+xml": "<?xml version=\"1.0\" encoding=\"UTF-8\" standalone=\"no\"?>\n<!DOCTYPE svg PUBLIC \"-//W3C//DTD SVG 1.1//EN\"\n \"http://www.w3.org/Graphics/SVG/1.1/DTD/svg11.dtd\">\n<!-- Generated by graphviz version 2.43.0 (0)\n -->\n<!-- Title: %3 Pages: 1 -->\n<svg width=\"2940pt\" height=\"210pt\"\n viewBox=\"0.00 0.00 2940.00 210.00\" xmlns=\"http://www.w3.org/2000/svg\" xmlns:xlink=\"http://www.w3.org/1999/xlink\">\n<g id=\"graph0\" class=\"graph\" transform=\"scale(1 1) rotate(0) translate(4 206)\">\n<title>%3</title>\n<polygon fill=\"white\" stroke=\"transparent\" points=\"-4,4 -4,-206 2936,-206 2936,4 -4,4\"/>\n<!-- 134159677195264 -->\n<g id=\"node1\" class=\"node\">\n<title>134159677195264</title>\n<polygon fill=\"none\" stroke=\"black\" points=\"2747,-80.5 2747,-116.5 2932,-116.5 2932,-80.5 2747,-80.5\"/>\n<text text-anchor=\"middle\" x=\"2758.5\" y=\"-94.8\" font-family=\"Times,serif\" font-size=\"14.00\">o</text>\n<polyline fill=\"none\" stroke=\"black\" points=\"2770,-80.5 2770,-116.5 \"/>\n<text text-anchor=\"middle\" x=\"2810\" y=\"-94.8\" font-family=\"Times,serif\" font-size=\"14.00\">data 0.7071</text>\n<polyline fill=\"none\" stroke=\"black\" points=\"2850,-80.5 2850,-116.5 \"/>\n<text text-anchor=\"middle\" x=\"2891\" y=\"-94.8\" font-family=\"Times,serif\" font-size=\"14.00\">grad 0.0000</text>\n</g>\n<!-- 134159677195264* -->\n<g id=\"node2\" class=\"node\">\n<title>134159677195264*</title>\n<ellipse fill=\"none\" stroke=\"black\" cx=\"2684\" cy=\"-98.5\" rx=\"27\" ry=\"18\"/>\n<text text-anchor=\"middle\" x=\"2684\" y=\"-94.8\" font-family=\"Times,serif\" font-size=\"14.00\">*</text>\n</g>\n<!-- 134159677195264*&#45;&gt;134159677195264 -->\n<g id=\"edge1\" class=\"edge\">\n<title>134159677195264*&#45;&gt;134159677195264</title>\n<path fill=\"none\" stroke=\"black\" d=\"M2711.04,-98.5C2718.58,-98.5 2727.3,-98.5 2736.57,-98.5\"/>\n<polygon fill=\"black\" stroke=\"black\" points=\"2736.81,-102 2746.81,-98.5 2736.81,-95 2736.81,-102\"/>\n</g>\n<!-- 134159677195840 -->\n<g id=\"node3\" class=\"node\">\n<title>134159677195840</title>\n<polygon fill=\"none\" stroke=\"black\" points=\"2003,-53.5 2003,-89.5 2185,-89.5 2185,-53.5 2003,-53.5\"/>\n<text text-anchor=\"middle\" x=\"2013\" y=\"-67.8\" font-family=\"Times,serif\" font-size=\"14.00\"> </text>\n<polyline fill=\"none\" stroke=\"black\" points=\"2023,-53.5 2023,-89.5 \"/>\n<text text-anchor=\"middle\" x=\"2063\" y=\"-67.8\" font-family=\"Times,serif\" font-size=\"14.00\">data 6.8284</text>\n<polyline fill=\"none\" stroke=\"black\" points=\"2103,-53.5 2103,-89.5 \"/>\n<text text-anchor=\"middle\" x=\"2144\" y=\"-67.8\" font-family=\"Times,serif\" font-size=\"14.00\">grad 0.0000</text>\n</g>\n<!-- 134159677207360**&#45;1 -->\n<g id=\"node21\" class=\"node\">\n<title>134159677207360**&#45;1</title>\n<ellipse fill=\"none\" stroke=\"black\" cx=\"2312\" cy=\"-71.5\" rx=\"27\" ry=\"18\"/>\n<text text-anchor=\"middle\" x=\"2312\" y=\"-67.8\" font-family=\"Times,serif\" font-size=\"14.00\">**&#45;1</text>\n</g>\n<!-- 134159677195840&#45;&gt;134159677207360**&#45;1 -->\n<g id=\"edge21\" class=\"edge\">\n<title>134159677195840&#45;&gt;134159677207360**&#45;1</title>\n<path fill=\"none\" stroke=\"black\" d=\"M2185.04,-71.5C2216.5,-71.5 2250.05,-71.5 2274.61,-71.5\"/>\n<polygon fill=\"black\" stroke=\"black\" points=\"2274.89,-75 2284.89,-71.5 2274.89,-68 2274.89,-75\"/>\n</g>\n<!-- 134159677195840+ -->\n<g id=\"node4\" class=\"node\">\n<title>134159677195840+</title>\n<ellipse fill=\"none\" stroke=\"black\" cx=\"1940\" cy=\"-71.5\" rx=\"27\" ry=\"18\"/>\n<text text-anchor=\"middle\" x=\"1940\" y=\"-67.8\" font-family=\"Times,serif\" font-size=\"14.00\">+</text>\n</g>\n<!-- 134159677195840+&#45;&gt;134159677195840 -->\n<g id=\"edge2\" class=\"edge\">\n<title>134159677195840+&#45;&gt;134159677195840</title>\n<path fill=\"none\" stroke=\"black\" d=\"M1967.13,-71.5C1974.67,-71.5 1983.39,-71.5 1992.64,-71.5\"/>\n<polygon fill=\"black\" stroke=\"black\" points=\"1992.87,-75 2002.87,-71.5 1992.87,-68 1992.87,-75\"/>\n</g>\n<!-- 134159678714304 -->\n<g id=\"node5\" class=\"node\">\n<title>134159678714304</title>\n<polygon fill=\"none\" stroke=\"black\" points=\"1690,-136.5 1690,-172.5 1877,-172.5 1877,-136.5 1690,-136.5\"/>\n<text text-anchor=\"middle\" x=\"1700\" y=\"-150.8\" font-family=\"Times,serif\" font-size=\"14.00\"> </text>\n<polyline fill=\"none\" stroke=\"black\" points=\"1710,-136.5 1710,-172.5 \"/>\n<text text-anchor=\"middle\" x=\"1752.5\" y=\"-150.8\" font-family=\"Times,serif\" font-size=\"14.00\">data &#45;1.0000</text>\n<polyline fill=\"none\" stroke=\"black\" points=\"1795,-136.5 1795,-172.5 \"/>\n<text text-anchor=\"middle\" x=\"1836\" y=\"-150.8\" font-family=\"Times,serif\" font-size=\"14.00\">grad 0.0000</text>\n</g>\n<!-- 134159678704896+ -->\n<g id=\"node14\" class=\"node\">\n<title>134159678704896+</title>\n<ellipse fill=\"none\" stroke=\"black\" cx=\"1940\" cy=\"-126.5\" rx=\"27\" ry=\"18\"/>\n<text text-anchor=\"middle\" x=\"1940\" y=\"-122.8\" font-family=\"Times,serif\" font-size=\"14.00\">+</text>\n</g>\n<!-- 134159678714304&#45;&gt;134159678704896+ -->\n<g id=\"edge25\" class=\"edge\">\n<title>134159678714304&#45;&gt;134159678704896+</title>\n<path fill=\"none\" stroke=\"black\" d=\"M1877.05,-137.73C1886.54,-136.01 1895.71,-134.35 1903.95,-132.85\"/>\n<polygon fill=\"black\" stroke=\"black\" points=\"1904.64,-136.28 1913.85,-131.06 1903.39,-129.4 1904.64,-136.28\"/>\n</g>\n<!-- 134159678717040 -->\n<g id=\"node6\" class=\"node\">\n<title>134159678717040</title>\n<polygon fill=\"none\" stroke=\"black\" points=\"1382,-81.5 1382,-117.5 1564,-117.5 1564,-81.5 1382,-81.5\"/>\n<text text-anchor=\"middle\" x=\"1392\" y=\"-95.8\" font-family=\"Times,serif\" font-size=\"14.00\"> </text>\n<polyline fill=\"none\" stroke=\"black\" points=\"1402,-81.5 1402,-117.5 \"/>\n<text text-anchor=\"middle\" x=\"1442\" y=\"-95.8\" font-family=\"Times,serif\" font-size=\"14.00\">data 1.7627</text>\n<polyline fill=\"none\" stroke=\"black\" points=\"1482,-81.5 1482,-117.5 \"/>\n<text text-anchor=\"middle\" x=\"1523\" y=\"-95.8\" font-family=\"Times,serif\" font-size=\"14.00\">grad 0.0000</text>\n</g>\n<!-- 134159678716848exp -->\n<g id=\"node27\" class=\"node\">\n<title>134159678716848exp</title>\n<ellipse fill=\"none\" stroke=\"black\" cx=\"1627\" cy=\"-99.5\" rx=\"27\" ry=\"18\"/>\n<text text-anchor=\"middle\" x=\"1627\" y=\"-95.8\" font-family=\"Times,serif\" font-size=\"14.00\">exp</text>\n</g>\n<!-- 134159678717040&#45;&gt;134159678716848exp -->\n<g id=\"edge19\" class=\"edge\">\n<title>134159678717040&#45;&gt;134159678716848exp</title>\n<path fill=\"none\" stroke=\"black\" d=\"M1564.18,-99.5C1573.14,-99.5 1581.83,-99.5 1589.73,-99.5\"/>\n<polygon fill=\"black\" stroke=\"black\" points=\"1589.96,-103 1599.96,-99.5 1589.96,-96 1589.96,-103\"/>\n</g>\n<!-- 134159678717040* -->\n<g id=\"node7\" class=\"node\">\n<title>134159678717040*</title>\n<ellipse fill=\"none\" stroke=\"black\" cx=\"1319\" cy=\"-99.5\" rx=\"27\" ry=\"18\"/>\n<text text-anchor=\"middle\" x=\"1319\" y=\"-95.8\" font-family=\"Times,serif\" font-size=\"14.00\">*</text>\n</g>\n<!-- 134159678717040*&#45;&gt;134159678717040 -->\n<g id=\"edge3\" class=\"edge\">\n<title>134159678717040*&#45;&gt;134159678717040</title>\n<path fill=\"none\" stroke=\"black\" d=\"M1346.13,-99.5C1353.67,-99.5 1362.39,-99.5 1371.64,-99.5\"/>\n<polygon fill=\"black\" stroke=\"black\" points=\"1371.87,-103 1381.87,-99.5 1371.87,-96 1371.87,-103\"/>\n</g>\n<!-- 134159677267136 -->\n<g id=\"node8\" class=\"node\">\n<title>134159677267136</title>\n<polygon fill=\"none\" stroke=\"black\" points=\"0,-55.5 0,-91.5 200,-91.5 200,-55.5 0,-55.5\"/>\n<text text-anchor=\"middle\" x=\"16.5\" y=\"-69.8\" font-family=\"Times,serif\" font-size=\"14.00\">w1</text>\n<polyline fill=\"none\" stroke=\"black\" points=\"33,-55.5 33,-91.5 \"/>\n<text text-anchor=\"middle\" x=\"75.5\" y=\"-69.8\" font-family=\"Times,serif\" font-size=\"14.00\">data &#45;3.0000</text>\n<polyline fill=\"none\" stroke=\"black\" points=\"118,-55.5 118,-91.5 \"/>\n<text text-anchor=\"middle\" x=\"159\" y=\"-69.8\" font-family=\"Times,serif\" font-size=\"14.00\">grad 0.0000</text>\n</g>\n<!-- 134159678717712* -->\n<g id=\"node18\" class=\"node\">\n<title>134159678717712*</title>\n<ellipse fill=\"none\" stroke=\"black\" cx=\"263\" cy=\"-73.5\" rx=\"27\" ry=\"18\"/>\n<text text-anchor=\"middle\" x=\"263\" y=\"-69.8\" font-family=\"Times,serif\" font-size=\"14.00\">*</text>\n</g>\n<!-- 134159677267136&#45;&gt;134159678717712* -->\n<g id=\"edge15\" class=\"edge\">\n<title>134159677267136&#45;&gt;134159678717712*</title>\n<path fill=\"none\" stroke=\"black\" d=\"M200.21,-73.5C209.2,-73.5 217.86,-73.5 225.7,-73.5\"/>\n<polygon fill=\"black\" stroke=\"black\" points=\"225.85,-77 235.85,-73.5 225.85,-70 225.85,-77\"/>\n</g>\n<!-- 134159678717136 -->\n<g id=\"node9\" class=\"node\">\n<title>134159678717136</title>\n<polygon fill=\"none\" stroke=\"black\" points=\"328.5,-110.5 328.5,-146.5 543.5,-146.5 543.5,-110.5 328.5,-110.5\"/>\n<text text-anchor=\"middle\" x=\"355\" y=\"-124.8\" font-family=\"Times,serif\" font-size=\"14.00\">x2*w2</text>\n<polyline fill=\"none\" stroke=\"black\" points=\"381.5,-110.5 381.5,-146.5 \"/>\n<text text-anchor=\"middle\" x=\"421.5\" y=\"-124.8\" font-family=\"Times,serif\" font-size=\"14.00\">data 0.0000</text>\n<polyline fill=\"none\" stroke=\"black\" points=\"461.5,-110.5 461.5,-146.5 \"/>\n<text text-anchor=\"middle\" x=\"502.5\" y=\"-124.8\" font-family=\"Times,serif\" font-size=\"14.00\">grad 0.0000</text>\n</g>\n<!-- 134159678703552+ -->\n<g id=\"node16\" class=\"node\">\n<title>134159678703552+</title>\n<ellipse fill=\"none\" stroke=\"black\" cx=\"609\" cy=\"-100.5\" rx=\"27\" ry=\"18\"/>\n<text text-anchor=\"middle\" x=\"609\" y=\"-96.8\" font-family=\"Times,serif\" font-size=\"14.00\">+</text>\n</g>\n<!-- 134159678717136&#45;&gt;134159678703552+ -->\n<g id=\"edge12\" class=\"edge\">\n<title>134159678717136&#45;&gt;134159678703552+</title>\n<path fill=\"none\" stroke=\"black\" d=\"M543.84,-111.01C554.01,-109.34 563.76,-107.74 572.44,-106.32\"/>\n<polygon fill=\"black\" stroke=\"black\" points=\"573.17,-109.75 582.47,-104.68 572.04,-102.84 573.17,-109.75\"/>\n</g>\n<!-- 134159678717136* -->\n<g id=\"node10\" class=\"node\">\n<title>134159678717136*</title>\n<ellipse fill=\"none\" stroke=\"black\" cx=\"263\" cy=\"-128.5\" rx=\"27\" ry=\"18\"/>\n<text text-anchor=\"middle\" x=\"263\" y=\"-124.8\" font-family=\"Times,serif\" font-size=\"14.00\">*</text>\n</g>\n<!-- 134159678717136*&#45;&gt;134159678717136 -->\n<g id=\"edge4\" class=\"edge\">\n<title>134159678717136*&#45;&gt;134159678717136</title>\n<path fill=\"none\" stroke=\"black\" d=\"M290.34,-128.5C298.51,-128.5 308.08,-128.5 318.36,-128.5\"/>\n<polygon fill=\"black\" stroke=\"black\" points=\"318.39,-132 328.39,-128.5 318.39,-125 318.39,-132\"/>\n</g>\n<!-- 134159678717664 -->\n<g id=\"node11\" class=\"node\">\n<title>134159678717664</title>\n<polygon fill=\"none\" stroke=\"black\" points=\"1072.5,-109.5 1072.5,-145.5 1254.5,-145.5 1254.5,-109.5 1072.5,-109.5\"/>\n<text text-anchor=\"middle\" x=\"1082.5\" y=\"-123.8\" font-family=\"Times,serif\" font-size=\"14.00\"> </text>\n<polyline fill=\"none\" stroke=\"black\" points=\"1092.5,-109.5 1092.5,-145.5 \"/>\n<text text-anchor=\"middle\" x=\"1132.5\" y=\"-123.8\" font-family=\"Times,serif\" font-size=\"14.00\">data 2.0000</text>\n<polyline fill=\"none\" stroke=\"black\" points=\"1172.5,-109.5 1172.5,-145.5 \"/>\n<text text-anchor=\"middle\" x=\"1213.5\" y=\"-123.8\" font-family=\"Times,serif\" font-size=\"14.00\">grad 0.0000</text>\n</g>\n<!-- 134159678717664&#45;&gt;134159678717040* -->\n<g id=\"edge26\" class=\"edge\">\n<title>134159678717664&#45;&gt;134159678717040*</title>\n<path fill=\"none\" stroke=\"black\" d=\"M1254.68,-111.05C1264.61,-109.24 1274.23,-107.48 1282.84,-105.91\"/>\n<polygon fill=\"black\" stroke=\"black\" points=\"1283.6,-109.33 1292.81,-104.09 1282.35,-102.45 1283.6,-109.33\"/>\n</g>\n<!-- 134159677197232 -->\n<g id=\"node12\" class=\"node\">\n<title>134159677197232</title>\n<polygon fill=\"none\" stroke=\"black\" points=\"1692.5,-26.5 1692.5,-62.5 1874.5,-62.5 1874.5,-26.5 1692.5,-26.5\"/>\n<text text-anchor=\"middle\" x=\"1702.5\" y=\"-40.8\" font-family=\"Times,serif\" font-size=\"14.00\"> </text>\n<polyline fill=\"none\" stroke=\"black\" points=\"1712.5,-26.5 1712.5,-62.5 \"/>\n<text text-anchor=\"middle\" x=\"1752.5\" y=\"-40.8\" font-family=\"Times,serif\" font-size=\"14.00\">data 1.0000</text>\n<polyline fill=\"none\" stroke=\"black\" points=\"1792.5,-26.5 1792.5,-62.5 \"/>\n<text text-anchor=\"middle\" x=\"1833.5\" y=\"-40.8\" font-family=\"Times,serif\" font-size=\"14.00\">grad 0.0000</text>\n</g>\n<!-- 134159677197232&#45;&gt;134159677195840+ -->\n<g id=\"edge17\" class=\"edge\">\n<title>134159677197232&#45;&gt;134159677195840+</title>\n<path fill=\"none\" stroke=\"black\" d=\"M1874.82,-60.28C1885.07,-62.08 1895.01,-63.81 1903.88,-65.36\"/>\n<polygon fill=\"black\" stroke=\"black\" points=\"1903.3,-68.81 1913.75,-67.09 1904.5,-61.92 1903.3,-68.81\"/>\n</g>\n<!-- 134159678704896 -->\n<g id=\"node13\" class=\"node\">\n<title>134159678704896</title>\n<polygon fill=\"none\" stroke=\"black\" points=\"2221,-108.5 2221,-144.5 2403,-144.5 2403,-108.5 2221,-108.5\"/>\n<text text-anchor=\"middle\" x=\"2231\" y=\"-122.8\" font-family=\"Times,serif\" font-size=\"14.00\"> </text>\n<polyline fill=\"none\" stroke=\"black\" points=\"2241,-108.5 2241,-144.5 \"/>\n<text text-anchor=\"middle\" x=\"2281\" y=\"-122.8\" font-family=\"Times,serif\" font-size=\"14.00\">data 4.8284</text>\n<polyline fill=\"none\" stroke=\"black\" points=\"2321,-108.5 2321,-144.5 \"/>\n<text text-anchor=\"middle\" x=\"2362\" y=\"-122.8\" font-family=\"Times,serif\" font-size=\"14.00\">grad 0.0000</text>\n</g>\n<!-- 134159678704896&#45;&gt;134159677195264* -->\n<g id=\"edge24\" class=\"edge\">\n<title>134159678704896&#45;&gt;134159677195264*</title>\n<path fill=\"none\" stroke=\"black\" d=\"M2403.31,-119.9C2464.7,-115.37 2547.76,-109.19 2621,-103.5 2629.42,-102.85 2638.48,-102.13 2647.01,-101.44\"/>\n<polygon fill=\"black\" stroke=\"black\" points=\"2647.37,-104.92 2657.06,-100.63 2646.81,-97.94 2647.37,-104.92\"/>\n</g>\n<!-- 134159678704896+&#45;&gt;134159678704896 -->\n<g id=\"edge5\" class=\"edge\">\n<title>134159678704896+&#45;&gt;134159678704896</title>\n<path fill=\"none\" stroke=\"black\" d=\"M1967.02,-126.5C2016.84,-126.5 2128.08,-126.5 2210.65,-126.5\"/>\n<polygon fill=\"black\" stroke=\"black\" points=\"2210.82,-130 2220.82,-126.5 2210.82,-123 2210.82,-130\"/>\n</g>\n<!-- 134159678703552 -->\n<g id=\"node15\" class=\"node\">\n<title>134159678703552</title>\n<polygon fill=\"none\" stroke=\"black\" points=\"672,-82.5 672,-118.5 945,-118.5 945,-82.5 672,-82.5\"/>\n<text text-anchor=\"middle\" x=\"725\" y=\"-96.8\" font-family=\"Times,serif\" font-size=\"14.00\">x1*w1 + x2*w2</text>\n<polyline fill=\"none\" stroke=\"black\" points=\"778,-82.5 778,-118.5 \"/>\n<text text-anchor=\"middle\" x=\"820.5\" y=\"-96.8\" font-family=\"Times,serif\" font-size=\"14.00\">data &#45;6.0000</text>\n<polyline fill=\"none\" stroke=\"black\" points=\"863,-82.5 863,-118.5 \"/>\n<text text-anchor=\"middle\" x=\"904\" y=\"-96.8\" font-family=\"Times,serif\" font-size=\"14.00\">grad 0.0000</text>\n</g>\n<!-- 134159678704032+ -->\n<g id=\"node25\" class=\"node\">\n<title>134159678704032+</title>\n<ellipse fill=\"none\" stroke=\"black\" cx=\"1008\" cy=\"-72.5\" rx=\"27\" ry=\"18\"/>\n<text text-anchor=\"middle\" x=\"1008\" y=\"-68.8\" font-family=\"Times,serif\" font-size=\"14.00\">+</text>\n</g>\n<!-- 134159678703552&#45;&gt;134159678704032+ -->\n<g id=\"edge28\" class=\"edge\">\n<title>134159678703552&#45;&gt;134159678704032+</title>\n<path fill=\"none\" stroke=\"black\" d=\"M936.53,-82.49C949.09,-80.71 960.99,-79.02 971.3,-77.56\"/>\n<polygon fill=\"black\" stroke=\"black\" points=\"972.03,-80.99 981.44,-76.12 971.05,-74.06 972.03,-80.99\"/>\n</g>\n<!-- 134159678703552+&#45;&gt;134159678703552 -->\n<g id=\"edge6\" class=\"edge\">\n<title>134159678703552+&#45;&gt;134159678703552</title>\n<path fill=\"none\" stroke=\"black\" d=\"M636.23,-100.5C643.7,-100.5 652.41,-100.5 661.87,-100.5\"/>\n<polygon fill=\"black\" stroke=\"black\" points=\"661.98,-104 671.98,-100.5 661.98,-97 661.98,-104\"/>\n</g>\n<!-- 134159678717712 -->\n<g id=\"node17\" class=\"node\">\n<title>134159678717712</title>\n<polygon fill=\"none\" stroke=\"black\" points=\"326,-55.5 326,-91.5 546,-91.5 546,-55.5 326,-55.5\"/>\n<text text-anchor=\"middle\" x=\"352.5\" y=\"-69.8\" font-family=\"Times,serif\" font-size=\"14.00\">x1*w1</text>\n<polyline fill=\"none\" stroke=\"black\" points=\"379,-55.5 379,-91.5 \"/>\n<text text-anchor=\"middle\" x=\"421.5\" y=\"-69.8\" font-family=\"Times,serif\" font-size=\"14.00\">data &#45;6.0000</text>\n<polyline fill=\"none\" stroke=\"black\" points=\"464,-55.5 464,-91.5 \"/>\n<text text-anchor=\"middle\" x=\"505\" y=\"-69.8\" font-family=\"Times,serif\" font-size=\"14.00\">grad 0.0000</text>\n</g>\n<!-- 134159678717712&#45;&gt;134159678703552+ -->\n<g id=\"edge11\" class=\"edge\">\n<title>134159678717712&#45;&gt;134159678703552+</title>\n<path fill=\"none\" stroke=\"black\" d=\"M546.27,-90.75C555.64,-92.23 564.6,-93.65 572.65,-94.92\"/>\n<polygon fill=\"black\" stroke=\"black\" points=\"572.23,-98.4 582.65,-96.5 573.32,-91.48 572.23,-98.4\"/>\n</g>\n<!-- 134159678717712*&#45;&gt;134159678717712 -->\n<g id=\"edge7\" class=\"edge\">\n<title>134159678717712*&#45;&gt;134159678717712</title>\n<path fill=\"none\" stroke=\"black\" d=\"M290.34,-73.5C297.77,-73.5 306.37,-73.5 315.6,-73.5\"/>\n<polygon fill=\"black\" stroke=\"black\" points=\"315.84,-77 325.84,-73.5 315.84,-70 315.84,-77\"/>\n</g>\n<!-- 134159677274912 -->\n<g id=\"node19\" class=\"node\">\n<title>134159677274912</title>\n<polygon fill=\"none\" stroke=\"black\" points=\"2.5,-165.5 2.5,-201.5 197.5,-201.5 197.5,-165.5 2.5,-165.5\"/>\n<text text-anchor=\"middle\" x=\"19\" y=\"-179.8\" font-family=\"Times,serif\" font-size=\"14.00\">w2</text>\n<polyline fill=\"none\" stroke=\"black\" points=\"35.5,-165.5 35.5,-201.5 \"/>\n<text text-anchor=\"middle\" x=\"75.5\" y=\"-179.8\" font-family=\"Times,serif\" font-size=\"14.00\">data 1.0000</text>\n<polyline fill=\"none\" stroke=\"black\" points=\"115.5,-165.5 115.5,-201.5 \"/>\n<text text-anchor=\"middle\" x=\"156.5\" y=\"-179.8\" font-family=\"Times,serif\" font-size=\"14.00\">grad 0.0000</text>\n</g>\n<!-- 134159677274912&#45;&gt;134159678717136* -->\n<g id=\"edge23\" class=\"edge\">\n<title>134159677274912&#45;&gt;134159678717136*</title>\n<path fill=\"none\" stroke=\"black\" d=\"M172.53,-165.44C181.84,-162.67 191.2,-159.67 200,-156.5 210.53,-152.71 221.75,-147.9 231.72,-143.33\"/>\n<polygon fill=\"black\" stroke=\"black\" points=\"233.25,-146.48 240.82,-139.07 230.28,-140.14 233.25,-146.48\"/>\n</g>\n<!-- 134159677207360 -->\n<g id=\"node20\" class=\"node\">\n<title>134159677207360</title>\n<polygon fill=\"none\" stroke=\"black\" points=\"2439,-57.5 2439,-93.5 2621,-93.5 2621,-57.5 2439,-57.5\"/>\n<text text-anchor=\"middle\" x=\"2449\" y=\"-71.8\" font-family=\"Times,serif\" font-size=\"14.00\"> </text>\n<polyline fill=\"none\" stroke=\"black\" points=\"2459,-57.5 2459,-93.5 \"/>\n<text text-anchor=\"middle\" x=\"2499\" y=\"-71.8\" font-family=\"Times,serif\" font-size=\"14.00\">data 0.1464</text>\n<polyline fill=\"none\" stroke=\"black\" points=\"2539,-57.5 2539,-93.5 \"/>\n<text text-anchor=\"middle\" x=\"2580\" y=\"-71.8\" font-family=\"Times,serif\" font-size=\"14.00\">grad 0.0000</text>\n</g>\n<!-- 134159677207360&#45;&gt;134159677195264* -->\n<g id=\"edge13\" class=\"edge\">\n<title>134159677207360&#45;&gt;134159677195264*</title>\n<path fill=\"none\" stroke=\"black\" d=\"M2621.18,-89.15C2630.42,-90.54 2639.38,-91.9 2647.47,-93.12\"/>\n<polygon fill=\"black\" stroke=\"black\" points=\"2647.15,-96.61 2657.56,-94.65 2648.19,-89.69 2647.15,-96.61\"/>\n</g>\n<!-- 134159677207360**&#45;1&#45;&gt;134159677207360 -->\n<g id=\"edge8\" class=\"edge\">\n<title>134159677207360**&#45;1&#45;&gt;134159677207360</title>\n<path fill=\"none\" stroke=\"black\" d=\"M2339.05,-71.98C2361.53,-72.4 2395.48,-73.03 2428.5,-73.64\"/>\n<polygon fill=\"black\" stroke=\"black\" points=\"2428.64,-77.14 2438.7,-73.83 2428.77,-70.14 2428.64,-77.14\"/>\n</g>\n<!-- 134159677275008 -->\n<g id=\"node22\" class=\"node\">\n<title>134159677275008</title>\n<polygon fill=\"none\" stroke=\"black\" points=\"4,-0.5 4,-36.5 196,-36.5 196,-0.5 4,-0.5\"/>\n<text text-anchor=\"middle\" x=\"19\" y=\"-14.8\" font-family=\"Times,serif\" font-size=\"14.00\">x1</text>\n<polyline fill=\"none\" stroke=\"black\" points=\"34,-0.5 34,-36.5 \"/>\n<text text-anchor=\"middle\" x=\"74\" y=\"-14.8\" font-family=\"Times,serif\" font-size=\"14.00\">data 2.0000</text>\n<polyline fill=\"none\" stroke=\"black\" points=\"114,-0.5 114,-36.5 \"/>\n<text text-anchor=\"middle\" x=\"155\" y=\"-14.8\" font-family=\"Times,serif\" font-size=\"14.00\">grad 0.0000</text>\n</g>\n<!-- 134159677275008&#45;&gt;134159678717712* -->\n<g id=\"edge16\" class=\"edge\">\n<title>134159677275008&#45;&gt;134159678717712*</title>\n<path fill=\"none\" stroke=\"black\" d=\"M172.53,-36.56C181.84,-39.33 191.2,-42.33 200,-45.5 210.53,-49.29 221.75,-54.1 231.72,-58.67\"/>\n<polygon fill=\"black\" stroke=\"black\" points=\"230.28,-61.86 240.82,-62.93 233.25,-55.52 230.28,-61.86\"/>\n</g>\n<!-- 134159677275536 -->\n<g id=\"node23\" class=\"node\">\n<title>134159677275536</title>\n<polygon fill=\"none\" stroke=\"black\" points=\"4,-110.5 4,-146.5 196,-146.5 196,-110.5 4,-110.5\"/>\n<text text-anchor=\"middle\" x=\"19\" y=\"-124.8\" font-family=\"Times,serif\" font-size=\"14.00\">x2</text>\n<polyline fill=\"none\" stroke=\"black\" points=\"34,-110.5 34,-146.5 \"/>\n<text text-anchor=\"middle\" x=\"74\" y=\"-124.8\" font-family=\"Times,serif\" font-size=\"14.00\">data 0.0000</text>\n<polyline fill=\"none\" stroke=\"black\" points=\"114,-110.5 114,-146.5 \"/>\n<text text-anchor=\"middle\" x=\"155\" y=\"-124.8\" font-family=\"Times,serif\" font-size=\"14.00\">grad 0.0000</text>\n</g>\n<!-- 134159677275536&#45;&gt;134159678717136* -->\n<g id=\"edge20\" class=\"edge\">\n<title>134159677275536&#45;&gt;134159678717136*</title>\n<path fill=\"none\" stroke=\"black\" d=\"M196.05,-128.5C206.52,-128.5 216.65,-128.5 225.71,-128.5\"/>\n<polygon fill=\"black\" stroke=\"black\" points=\"225.79,-132 235.79,-128.5 225.79,-125 225.79,-132\"/>\n</g>\n<!-- 134159678704032 -->\n<g id=\"node24\" class=\"node\">\n<title>134159678704032</title>\n<polygon fill=\"none\" stroke=\"black\" points=\"1071,-54.5 1071,-90.5 1256,-90.5 1256,-54.5 1071,-54.5\"/>\n<text text-anchor=\"middle\" x=\"1082.5\" y=\"-68.8\" font-family=\"Times,serif\" font-size=\"14.00\">n</text>\n<polyline fill=\"none\" stroke=\"black\" points=\"1094,-54.5 1094,-90.5 \"/>\n<text text-anchor=\"middle\" x=\"1134\" y=\"-68.8\" font-family=\"Times,serif\" font-size=\"14.00\">data 0.8814</text>\n<polyline fill=\"none\" stroke=\"black\" points=\"1174,-54.5 1174,-90.5 \"/>\n<text text-anchor=\"middle\" x=\"1215\" y=\"-68.8\" font-family=\"Times,serif\" font-size=\"14.00\">grad 0.0000</text>\n</g>\n<!-- 134159678704032&#45;&gt;134159678717040* -->\n<g id=\"edge22\" class=\"edge\">\n<title>134159678704032&#45;&gt;134159678717040*</title>\n<path fill=\"none\" stroke=\"black\" d=\"M1256.01,-88.6C1265.49,-90.26 1274.66,-91.88 1282.9,-93.33\"/>\n<polygon fill=\"black\" stroke=\"black\" points=\"1282.36,-96.78 1292.81,-95.07 1283.57,-89.89 1282.36,-96.78\"/>\n</g>\n<!-- 134159678704032+&#45;&gt;134159678704032 -->\n<g id=\"edge9\" class=\"edge\">\n<title>134159678704032+&#45;&gt;134159678704032</title>\n<path fill=\"none\" stroke=\"black\" d=\"M1035.04,-72.5C1042.58,-72.5 1051.3,-72.5 1060.57,-72.5\"/>\n<polygon fill=\"black\" stroke=\"black\" points=\"1060.81,-76 1070.81,-72.5 1060.81,-69 1060.81,-76\"/>\n</g>\n<!-- 134159678716848 -->\n<g id=\"node26\" class=\"node\">\n<title>134159678716848</title>\n<polygon fill=\"none\" stroke=\"black\" points=\"1692.5,-81.5 1692.5,-117.5 1874.5,-117.5 1874.5,-81.5 1692.5,-81.5\"/>\n<text text-anchor=\"middle\" x=\"1702.5\" y=\"-95.8\" font-family=\"Times,serif\" font-size=\"14.00\"> </text>\n<polyline fill=\"none\" stroke=\"black\" points=\"1712.5,-81.5 1712.5,-117.5 \"/>\n<text text-anchor=\"middle\" x=\"1752.5\" y=\"-95.8\" font-family=\"Times,serif\" font-size=\"14.00\">data 5.8284</text>\n<polyline fill=\"none\" stroke=\"black\" points=\"1792.5,-81.5 1792.5,-117.5 \"/>\n<text text-anchor=\"middle\" x=\"1833.5\" y=\"-95.8\" font-family=\"Times,serif\" font-size=\"14.00\">grad 0.0000</text>\n</g>\n<!-- 134159678716848&#45;&gt;134159677195840+ -->\n<g id=\"edge14\" class=\"edge\">\n<title>134159678716848&#45;&gt;134159677195840+</title>\n<path fill=\"none\" stroke=\"black\" d=\"M1874.82,-83.13C1885.07,-81.27 1895.01,-79.47 1903.88,-77.87\"/>\n<polygon fill=\"black\" stroke=\"black\" points=\"1904.54,-81.3 1913.75,-76.08 1903.29,-74.42 1904.54,-81.3\"/>\n</g>\n<!-- 134159678716848&#45;&gt;134159678704896+ -->\n<g id=\"edge27\" class=\"edge\">\n<title>134159678716848&#45;&gt;134159678704896+</title>\n<path fill=\"none\" stroke=\"black\" d=\"M1874.82,-115.28C1885.07,-117.08 1895.01,-118.81 1903.88,-120.36\"/>\n<polygon fill=\"black\" stroke=\"black\" points=\"1903.3,-123.81 1913.75,-122.09 1904.5,-116.92 1903.3,-123.81\"/>\n</g>\n<!-- 134159678716848exp&#45;&gt;134159678716848 -->\n<g id=\"edge10\" class=\"edge\">\n<title>134159678716848exp&#45;&gt;134159678716848</title>\n<path fill=\"none\" stroke=\"black\" d=\"M1654.21,-99.5C1662.34,-99.5 1671.85,-99.5 1681.94,-99.5\"/>\n<polygon fill=\"black\" stroke=\"black\" points=\"1682.19,-103 1692.19,-99.5 1682.19,-96 1682.19,-103\"/>\n</g>\n<!-- 134159677275584 -->\n<g id=\"node28\" class=\"node\">\n<title>134159677275584</title>\n<polygon fill=\"none\" stroke=\"black\" points=\"716,-27.5 716,-63.5 901,-63.5 901,-27.5 716,-27.5\"/>\n<text text-anchor=\"middle\" x=\"727.5\" y=\"-41.8\" font-family=\"Times,serif\" font-size=\"14.00\">b</text>\n<polyline fill=\"none\" stroke=\"black\" points=\"739,-27.5 739,-63.5 \"/>\n<text text-anchor=\"middle\" x=\"779\" y=\"-41.8\" font-family=\"Times,serif\" font-size=\"14.00\">data 6.8814</text>\n<polyline fill=\"none\" stroke=\"black\" points=\"819,-27.5 819,-63.5 \"/>\n<text text-anchor=\"middle\" x=\"860\" y=\"-41.8\" font-family=\"Times,serif\" font-size=\"14.00\">grad 0.0000</text>\n</g>\n<!-- 134159677275584&#45;&gt;134159678704032+ -->\n<g id=\"edge18\" class=\"edge\">\n<title>134159677275584&#45;&gt;134159678704032+</title>\n<path fill=\"none\" stroke=\"black\" d=\"M901.02,-58.01C926,-61.43 951.59,-64.93 971.37,-67.63\"/>\n<polygon fill=\"black\" stroke=\"black\" points=\"971.05,-71.12 981.43,-69.01 972,-64.18 971.05,-71.12\"/>\n</g>\n</g>\n</svg>\n",
            "text/plain": [
              "<graphviz.graphs.Digraph at 0x7a047bfe39a0>"
            ]
          },
          "metadata": {},
          "execution_count": 5
        }
      ]
    },
    {
      "cell_type": "code",
      "source": [
        "o.backward()\n",
        "\n",
        "draw_dot(o)"
      ],
      "metadata": {
        "colab": {
          "base_uri": "https://localhost:8080/",
          "height": 321
        },
        "id": "iZ-Y8zR4Kp6q",
        "outputId": "1ece5f68-87c7-49c3-d156-42685e72008f"
      },
      "execution_count": 6,
      "outputs": [
        {
          "output_type": "execute_result",
          "data": {
            "image/svg+xml": "<?xml version=\"1.0\" encoding=\"UTF-8\" standalone=\"no\"?>\n<!DOCTYPE svg PUBLIC \"-//W3C//DTD SVG 1.1//EN\"\n \"http://www.w3.org/Graphics/SVG/1.1/DTD/svg11.dtd\">\n<!-- Generated by graphviz version 2.43.0 (0)\n -->\n<!-- Title: %3 Pages: 1 -->\n<svg width=\"2964pt\" height=\"210pt\"\n viewBox=\"0.00 0.00 2964.00 210.00\" xmlns=\"http://www.w3.org/2000/svg\" xmlns:xlink=\"http://www.w3.org/1999/xlink\">\n<g id=\"graph0\" class=\"graph\" transform=\"scale(1 1) rotate(0) translate(4 206)\">\n<title>%3</title>\n<polygon fill=\"white\" stroke=\"transparent\" points=\"-4,4 -4,-206 2960,-206 2960,4 -4,4\"/>\n<!-- 134159677195264 -->\n<g id=\"node1\" class=\"node\">\n<title>134159677195264</title>\n<polygon fill=\"none\" stroke=\"black\" points=\"2771,-80.5 2771,-116.5 2956,-116.5 2956,-80.5 2771,-80.5\"/>\n<text text-anchor=\"middle\" x=\"2782.5\" y=\"-94.8\" font-family=\"Times,serif\" font-size=\"14.00\">o</text>\n<polyline fill=\"none\" stroke=\"black\" points=\"2794,-80.5 2794,-116.5 \"/>\n<text text-anchor=\"middle\" x=\"2834\" y=\"-94.8\" font-family=\"Times,serif\" font-size=\"14.00\">data 0.7071</text>\n<polyline fill=\"none\" stroke=\"black\" points=\"2874,-80.5 2874,-116.5 \"/>\n<text text-anchor=\"middle\" x=\"2915\" y=\"-94.8\" font-family=\"Times,serif\" font-size=\"14.00\">grad 1.0000</text>\n</g>\n<!-- 134159677195264* -->\n<g id=\"node2\" class=\"node\">\n<title>134159677195264*</title>\n<ellipse fill=\"none\" stroke=\"black\" cx=\"2708\" cy=\"-98.5\" rx=\"27\" ry=\"18\"/>\n<text text-anchor=\"middle\" x=\"2708\" y=\"-94.8\" font-family=\"Times,serif\" font-size=\"14.00\">*</text>\n</g>\n<!-- 134159677195264*&#45;&gt;134159677195264 -->\n<g id=\"edge1\" class=\"edge\">\n<title>134159677195264*&#45;&gt;134159677195264</title>\n<path fill=\"none\" stroke=\"black\" d=\"M2735.04,-98.5C2742.58,-98.5 2751.3,-98.5 2760.57,-98.5\"/>\n<polygon fill=\"black\" stroke=\"black\" points=\"2760.81,-102 2770.81,-98.5 2760.81,-95 2760.81,-102\"/>\n</g>\n<!-- 134159677195840 -->\n<g id=\"node3\" class=\"node\">\n<title>134159677195840</title>\n<polygon fill=\"none\" stroke=\"black\" points=\"2023,-53.5 2023,-89.5 2209,-89.5 2209,-53.5 2023,-53.5\"/>\n<text text-anchor=\"middle\" x=\"2033\" y=\"-67.8\" font-family=\"Times,serif\" font-size=\"14.00\"> </text>\n<polyline fill=\"none\" stroke=\"black\" points=\"2043,-53.5 2043,-89.5 \"/>\n<text text-anchor=\"middle\" x=\"2083\" y=\"-67.8\" font-family=\"Times,serif\" font-size=\"14.00\">data 6.8284</text>\n<polyline fill=\"none\" stroke=\"black\" points=\"2123,-53.5 2123,-89.5 \"/>\n<text text-anchor=\"middle\" x=\"2166\" y=\"-67.8\" font-family=\"Times,serif\" font-size=\"14.00\">grad &#45;0.1036</text>\n</g>\n<!-- 134159677207360**&#45;1 -->\n<g id=\"node21\" class=\"node\">\n<title>134159677207360**&#45;1</title>\n<ellipse fill=\"none\" stroke=\"black\" cx=\"2336\" cy=\"-71.5\" rx=\"27\" ry=\"18\"/>\n<text text-anchor=\"middle\" x=\"2336\" y=\"-67.8\" font-family=\"Times,serif\" font-size=\"14.00\">**&#45;1</text>\n</g>\n<!-- 134159677195840&#45;&gt;134159677207360**&#45;1 -->\n<g id=\"edge21\" class=\"edge\">\n<title>134159677195840&#45;&gt;134159677207360**&#45;1</title>\n<path fill=\"none\" stroke=\"black\" d=\"M2209.14,-71.5C2240.72,-71.5 2274.24,-71.5 2298.74,-71.5\"/>\n<polygon fill=\"black\" stroke=\"black\" points=\"2298.98,-75 2308.98,-71.5 2298.98,-68 2298.98,-75\"/>\n</g>\n<!-- 134159677195840+ -->\n<g id=\"node4\" class=\"node\">\n<title>134159677195840+</title>\n<ellipse fill=\"none\" stroke=\"black\" cx=\"1960\" cy=\"-71.5\" rx=\"27\" ry=\"18\"/>\n<text text-anchor=\"middle\" x=\"1960\" y=\"-67.8\" font-family=\"Times,serif\" font-size=\"14.00\">+</text>\n</g>\n<!-- 134159677195840+&#45;&gt;134159677195840 -->\n<g id=\"edge2\" class=\"edge\">\n<title>134159677195840+&#45;&gt;134159677195840</title>\n<path fill=\"none\" stroke=\"black\" d=\"M1987.12,-71.5C1994.62,-71.5 2003.29,-71.5 2012.5,-71.5\"/>\n<polygon fill=\"black\" stroke=\"black\" points=\"2012.69,-75 2022.69,-71.5 2012.69,-68 2012.69,-75\"/>\n</g>\n<!-- 134159678714304 -->\n<g id=\"node5\" class=\"node\">\n<title>134159678714304</title>\n<polygon fill=\"none\" stroke=\"black\" points=\"1710,-136.5 1710,-172.5 1897,-172.5 1897,-136.5 1710,-136.5\"/>\n<text text-anchor=\"middle\" x=\"1720\" y=\"-150.8\" font-family=\"Times,serif\" font-size=\"14.00\"> </text>\n<polyline fill=\"none\" stroke=\"black\" points=\"1730,-136.5 1730,-172.5 \"/>\n<text text-anchor=\"middle\" x=\"1772.5\" y=\"-150.8\" font-family=\"Times,serif\" font-size=\"14.00\">data &#45;1.0000</text>\n<polyline fill=\"none\" stroke=\"black\" points=\"1815,-136.5 1815,-172.5 \"/>\n<text text-anchor=\"middle\" x=\"1856\" y=\"-150.8\" font-family=\"Times,serif\" font-size=\"14.00\">grad 0.1464</text>\n</g>\n<!-- 134159678704896+ -->\n<g id=\"node14\" class=\"node\">\n<title>134159678704896+</title>\n<ellipse fill=\"none\" stroke=\"black\" cx=\"1960\" cy=\"-126.5\" rx=\"27\" ry=\"18\"/>\n<text text-anchor=\"middle\" x=\"1960\" y=\"-122.8\" font-family=\"Times,serif\" font-size=\"14.00\">+</text>\n</g>\n<!-- 134159678714304&#45;&gt;134159678704896+ -->\n<g id=\"edge25\" class=\"edge\">\n<title>134159678714304&#45;&gt;134159678704896+</title>\n<path fill=\"none\" stroke=\"black\" d=\"M1897.05,-137.73C1906.54,-136.01 1915.71,-134.35 1923.95,-132.85\"/>\n<polygon fill=\"black\" stroke=\"black\" points=\"1924.64,-136.28 1933.85,-131.06 1923.39,-129.4 1924.64,-136.28\"/>\n</g>\n<!-- 134159678717040 -->\n<g id=\"node6\" class=\"node\">\n<title>134159678717040</title>\n<polygon fill=\"none\" stroke=\"black\" points=\"1398,-81.5 1398,-117.5 1584,-117.5 1584,-81.5 1398,-81.5\"/>\n<text text-anchor=\"middle\" x=\"1408\" y=\"-95.8\" font-family=\"Times,serif\" font-size=\"14.00\"> </text>\n<polyline fill=\"none\" stroke=\"black\" points=\"1418,-81.5 1418,-117.5 \"/>\n<text text-anchor=\"middle\" x=\"1458\" y=\"-95.8\" font-family=\"Times,serif\" font-size=\"14.00\">data 1.7627</text>\n<polyline fill=\"none\" stroke=\"black\" points=\"1498,-81.5 1498,-117.5 \"/>\n<text text-anchor=\"middle\" x=\"1541\" y=\"-95.8\" font-family=\"Times,serif\" font-size=\"14.00\">grad &#45;0.3536</text>\n</g>\n<!-- 134159678716848exp -->\n<g id=\"node27\" class=\"node\">\n<title>134159678716848exp</title>\n<ellipse fill=\"none\" stroke=\"black\" cx=\"1647\" cy=\"-99.5\" rx=\"27\" ry=\"18\"/>\n<text text-anchor=\"middle\" x=\"1647\" y=\"-95.8\" font-family=\"Times,serif\" font-size=\"14.00\">exp</text>\n</g>\n<!-- 134159678717040&#45;&gt;134159678716848exp -->\n<g id=\"edge19\" class=\"edge\">\n<title>134159678717040&#45;&gt;134159678716848exp</title>\n<path fill=\"none\" stroke=\"black\" d=\"M1584.25,-99.5C1593.15,-99.5 1601.76,-99.5 1609.59,-99.5\"/>\n<polygon fill=\"black\" stroke=\"black\" points=\"1609.73,-103 1619.73,-99.5 1609.73,-96 1609.73,-103\"/>\n</g>\n<!-- 134159678717040* -->\n<g id=\"node7\" class=\"node\">\n<title>134159678717040*</title>\n<ellipse fill=\"none\" stroke=\"black\" cx=\"1335\" cy=\"-99.5\" rx=\"27\" ry=\"18\"/>\n<text text-anchor=\"middle\" x=\"1335\" y=\"-95.8\" font-family=\"Times,serif\" font-size=\"14.00\">*</text>\n</g>\n<!-- 134159678717040*&#45;&gt;134159678717040 -->\n<g id=\"edge3\" class=\"edge\">\n<title>134159678717040*&#45;&gt;134159678717040</title>\n<path fill=\"none\" stroke=\"black\" d=\"M1362.12,-99.5C1369.62,-99.5 1378.29,-99.5 1387.5,-99.5\"/>\n<polygon fill=\"black\" stroke=\"black\" points=\"1387.69,-103 1397.69,-99.5 1387.69,-96 1387.69,-103\"/>\n</g>\n<!-- 134159677267136 -->\n<g id=\"node8\" class=\"node\">\n<title>134159677267136</title>\n<polygon fill=\"none\" stroke=\"black\" points=\"0,-55.5 0,-91.5 204,-91.5 204,-55.5 0,-55.5\"/>\n<text text-anchor=\"middle\" x=\"16.5\" y=\"-69.8\" font-family=\"Times,serif\" font-size=\"14.00\">w1</text>\n<polyline fill=\"none\" stroke=\"black\" points=\"33,-55.5 33,-91.5 \"/>\n<text text-anchor=\"middle\" x=\"75.5\" y=\"-69.8\" font-family=\"Times,serif\" font-size=\"14.00\">data &#45;3.0000</text>\n<polyline fill=\"none\" stroke=\"black\" points=\"118,-55.5 118,-91.5 \"/>\n<text text-anchor=\"middle\" x=\"161\" y=\"-69.8\" font-family=\"Times,serif\" font-size=\"14.00\">grad &#45;6.2426</text>\n</g>\n<!-- 134159678717712* -->\n<g id=\"node18\" class=\"node\">\n<title>134159678717712*</title>\n<ellipse fill=\"none\" stroke=\"black\" cx=\"267\" cy=\"-73.5\" rx=\"27\" ry=\"18\"/>\n<text text-anchor=\"middle\" x=\"267\" y=\"-69.8\" font-family=\"Times,serif\" font-size=\"14.00\">*</text>\n</g>\n<!-- 134159677267136&#45;&gt;134159678717712* -->\n<g id=\"edge15\" class=\"edge\">\n<title>134159677267136&#45;&gt;134159678717712*</title>\n<path fill=\"none\" stroke=\"black\" d=\"M204.38,-73.5C213.37,-73.5 222.01,-73.5 229.84,-73.5\"/>\n<polygon fill=\"black\" stroke=\"black\" points=\"229.97,-77 239.97,-73.5 229.97,-70 229.97,-77\"/>\n</g>\n<!-- 134159678717136 -->\n<g id=\"node9\" class=\"node\">\n<title>134159678717136</title>\n<polygon fill=\"none\" stroke=\"black\" points=\"332.5,-110.5 332.5,-146.5 551.5,-146.5 551.5,-110.5 332.5,-110.5\"/>\n<text text-anchor=\"middle\" x=\"359\" y=\"-124.8\" font-family=\"Times,serif\" font-size=\"14.00\">x2*w2</text>\n<polyline fill=\"none\" stroke=\"black\" points=\"385.5,-110.5 385.5,-146.5 \"/>\n<text text-anchor=\"middle\" x=\"425.5\" y=\"-124.8\" font-family=\"Times,serif\" font-size=\"14.00\">data 0.0000</text>\n<polyline fill=\"none\" stroke=\"black\" points=\"465.5,-110.5 465.5,-146.5 \"/>\n<text text-anchor=\"middle\" x=\"508.5\" y=\"-124.8\" font-family=\"Times,serif\" font-size=\"14.00\">grad &#45;3.1213</text>\n</g>\n<!-- 134159678703552+ -->\n<g id=\"node16\" class=\"node\">\n<title>134159678703552+</title>\n<ellipse fill=\"none\" stroke=\"black\" cx=\"617\" cy=\"-100.5\" rx=\"27\" ry=\"18\"/>\n<text text-anchor=\"middle\" x=\"617\" y=\"-96.8\" font-family=\"Times,serif\" font-size=\"14.00\">+</text>\n</g>\n<!-- 134159678717136&#45;&gt;134159678703552+ -->\n<g id=\"edge12\" class=\"edge\">\n<title>134159678717136&#45;&gt;134159678703552+</title>\n<path fill=\"none\" stroke=\"black\" d=\"M551.58,-110.93C561.91,-109.25 571.79,-107.66 580.57,-106.23\"/>\n<polygon fill=\"black\" stroke=\"black\" points=\"581.39,-109.65 590.7,-104.59 580.27,-102.74 581.39,-109.65\"/>\n</g>\n<!-- 134159678717136* -->\n<g id=\"node10\" class=\"node\">\n<title>134159678717136*</title>\n<ellipse fill=\"none\" stroke=\"black\" cx=\"267\" cy=\"-128.5\" rx=\"27\" ry=\"18\"/>\n<text text-anchor=\"middle\" x=\"267\" y=\"-124.8\" font-family=\"Times,serif\" font-size=\"14.00\">*</text>\n</g>\n<!-- 134159678717136*&#45;&gt;134159678717136 -->\n<g id=\"edge4\" class=\"edge\">\n<title>134159678717136*&#45;&gt;134159678717136</title>\n<path fill=\"none\" stroke=\"black\" d=\"M294.27,-128.5C302.44,-128.5 312.03,-128.5 322.33,-128.5\"/>\n<polygon fill=\"black\" stroke=\"black\" points=\"322.39,-132 332.39,-128.5 322.39,-125 322.39,-132\"/>\n</g>\n<!-- 134159678717664 -->\n<g id=\"node11\" class=\"node\">\n<title>134159678717664</title>\n<polygon fill=\"none\" stroke=\"black\" points=\"1084.5,-109.5 1084.5,-145.5 1270.5,-145.5 1270.5,-109.5 1084.5,-109.5\"/>\n<text text-anchor=\"middle\" x=\"1094.5\" y=\"-123.8\" font-family=\"Times,serif\" font-size=\"14.00\"> </text>\n<polyline fill=\"none\" stroke=\"black\" points=\"1104.5,-109.5 1104.5,-145.5 \"/>\n<text text-anchor=\"middle\" x=\"1144.5\" y=\"-123.8\" font-family=\"Times,serif\" font-size=\"14.00\">data 2.0000</text>\n<polyline fill=\"none\" stroke=\"black\" points=\"1184.5,-109.5 1184.5,-145.5 \"/>\n<text text-anchor=\"middle\" x=\"1227.5\" y=\"-123.8\" font-family=\"Times,serif\" font-size=\"14.00\">grad &#45;0.3116</text>\n</g>\n<!-- 134159678717664&#45;&gt;134159678717040* -->\n<g id=\"edge26\" class=\"edge\">\n<title>134159678717664&#45;&gt;134159678717040*</title>\n<path fill=\"none\" stroke=\"black\" d=\"M1270.75,-110.89C1280.61,-109.11 1290.14,-107.4 1298.69,-105.86\"/>\n<polygon fill=\"black\" stroke=\"black\" points=\"1299.36,-109.29 1308.58,-104.08 1298.12,-102.4 1299.36,-109.29\"/>\n</g>\n<!-- 134159677197232 -->\n<g id=\"node12\" class=\"node\">\n<title>134159677197232</title>\n<polygon fill=\"none\" stroke=\"black\" points=\"1710.5,-26.5 1710.5,-62.5 1896.5,-62.5 1896.5,-26.5 1710.5,-26.5\"/>\n<text text-anchor=\"middle\" x=\"1720.5\" y=\"-40.8\" font-family=\"Times,serif\" font-size=\"14.00\"> </text>\n<polyline fill=\"none\" stroke=\"black\" points=\"1730.5,-26.5 1730.5,-62.5 \"/>\n<text text-anchor=\"middle\" x=\"1770.5\" y=\"-40.8\" font-family=\"Times,serif\" font-size=\"14.00\">data 1.0000</text>\n<polyline fill=\"none\" stroke=\"black\" points=\"1810.5,-26.5 1810.5,-62.5 \"/>\n<text text-anchor=\"middle\" x=\"1853.5\" y=\"-40.8\" font-family=\"Times,serif\" font-size=\"14.00\">grad &#45;0.1036</text>\n</g>\n<!-- 134159677197232&#45;&gt;134159677195840+ -->\n<g id=\"edge17\" class=\"edge\">\n<title>134159677197232&#45;&gt;134159677195840+</title>\n<path fill=\"none\" stroke=\"black\" d=\"M1896.6,-60.6C1906.15,-62.26 1915.37,-63.88 1923.68,-65.33\"/>\n<polygon fill=\"black\" stroke=\"black\" points=\"1923.2,-68.8 1933.65,-67.07 1924.4,-61.9 1923.2,-68.8\"/>\n</g>\n<!-- 134159678704896 -->\n<g id=\"node13\" class=\"node\">\n<title>134159678704896</title>\n<polygon fill=\"none\" stroke=\"black\" points=\"2245,-108.5 2245,-144.5 2427,-144.5 2427,-108.5 2245,-108.5\"/>\n<text text-anchor=\"middle\" x=\"2255\" y=\"-122.8\" font-family=\"Times,serif\" font-size=\"14.00\"> </text>\n<polyline fill=\"none\" stroke=\"black\" points=\"2265,-108.5 2265,-144.5 \"/>\n<text text-anchor=\"middle\" x=\"2305\" y=\"-122.8\" font-family=\"Times,serif\" font-size=\"14.00\">data 4.8284</text>\n<polyline fill=\"none\" stroke=\"black\" points=\"2345,-108.5 2345,-144.5 \"/>\n<text text-anchor=\"middle\" x=\"2386\" y=\"-122.8\" font-family=\"Times,serif\" font-size=\"14.00\">grad 0.1464</text>\n</g>\n<!-- 134159678704896&#45;&gt;134159677195264* -->\n<g id=\"edge24\" class=\"edge\">\n<title>134159678704896&#45;&gt;134159677195264*</title>\n<path fill=\"none\" stroke=\"black\" d=\"M2427.31,-119.9C2488.7,-115.37 2571.76,-109.19 2645,-103.5 2653.42,-102.85 2662.48,-102.13 2671.01,-101.44\"/>\n<polygon fill=\"black\" stroke=\"black\" points=\"2671.37,-104.92 2681.06,-100.63 2670.81,-97.94 2671.37,-104.92\"/>\n</g>\n<!-- 134159678704896+&#45;&gt;134159678704896 -->\n<g id=\"edge5\" class=\"edge\">\n<title>134159678704896+&#45;&gt;134159678704896</title>\n<path fill=\"none\" stroke=\"black\" d=\"M1987,-126.5C2037.46,-126.5 2151.06,-126.5 2234.81,-126.5\"/>\n<polygon fill=\"black\" stroke=\"black\" points=\"2234.87,-130 2244.87,-126.5 2234.87,-123 2234.87,-130\"/>\n</g>\n<!-- 134159678703552 -->\n<g id=\"node15\" class=\"node\">\n<title>134159678703552</title>\n<polygon fill=\"none\" stroke=\"black\" points=\"680,-82.5 680,-118.5 957,-118.5 957,-82.5 680,-82.5\"/>\n<text text-anchor=\"middle\" x=\"733\" y=\"-96.8\" font-family=\"Times,serif\" font-size=\"14.00\">x1*w1 + x2*w2</text>\n<polyline fill=\"none\" stroke=\"black\" points=\"786,-82.5 786,-118.5 \"/>\n<text text-anchor=\"middle\" x=\"828.5\" y=\"-96.8\" font-family=\"Times,serif\" font-size=\"14.00\">data &#45;6.0000</text>\n<polyline fill=\"none\" stroke=\"black\" points=\"871,-82.5 871,-118.5 \"/>\n<text text-anchor=\"middle\" x=\"914\" y=\"-96.8\" font-family=\"Times,serif\" font-size=\"14.00\">grad &#45;1.9142</text>\n</g>\n<!-- 134159678704032+ -->\n<g id=\"node25\" class=\"node\">\n<title>134159678704032+</title>\n<ellipse fill=\"none\" stroke=\"black\" cx=\"1020\" cy=\"-72.5\" rx=\"27\" ry=\"18\"/>\n<text text-anchor=\"middle\" x=\"1020\" y=\"-68.8\" font-family=\"Times,serif\" font-size=\"14.00\">+</text>\n</g>\n<!-- 134159678703552&#45;&gt;134159678704032+ -->\n<g id=\"edge28\" class=\"edge\">\n<title>134159678703552&#45;&gt;134159678704032+</title>\n<path fill=\"none\" stroke=\"black\" d=\"M947.82,-82.49C960.76,-80.67 972.99,-78.96 983.55,-77.48\"/>\n<polygon fill=\"black\" stroke=\"black\" points=\"984.1,-80.93 993.51,-76.08 983.12,-74 984.1,-80.93\"/>\n</g>\n<!-- 134159678703552+&#45;&gt;134159678703552 -->\n<g id=\"edge6\" class=\"edge\">\n<title>134159678703552+&#45;&gt;134159678703552</title>\n<path fill=\"none\" stroke=\"black\" d=\"M644.08,-100.5C651.53,-100.5 660.21,-100.5 669.65,-100.5\"/>\n<polygon fill=\"black\" stroke=\"black\" points=\"669.74,-104 679.74,-100.5 669.74,-97 669.74,-104\"/>\n</g>\n<!-- 134159678717712 -->\n<g id=\"node17\" class=\"node\">\n<title>134159678717712</title>\n<polygon fill=\"none\" stroke=\"black\" points=\"330,-55.5 330,-91.5 554,-91.5 554,-55.5 330,-55.5\"/>\n<text text-anchor=\"middle\" x=\"356.5\" y=\"-69.8\" font-family=\"Times,serif\" font-size=\"14.00\">x1*w1</text>\n<polyline fill=\"none\" stroke=\"black\" points=\"383,-55.5 383,-91.5 \"/>\n<text text-anchor=\"middle\" x=\"425.5\" y=\"-69.8\" font-family=\"Times,serif\" font-size=\"14.00\">data &#45;6.0000</text>\n<polyline fill=\"none\" stroke=\"black\" points=\"468,-55.5 468,-91.5 \"/>\n<text text-anchor=\"middle\" x=\"511\" y=\"-69.8\" font-family=\"Times,serif\" font-size=\"14.00\">grad &#45;3.1213</text>\n</g>\n<!-- 134159678717712&#45;&gt;134159678703552+ -->\n<g id=\"edge11\" class=\"edge\">\n<title>134159678717712&#45;&gt;134159678703552+</title>\n<path fill=\"none\" stroke=\"black\" d=\"M554.03,-90.83C563.46,-92.3 572.46,-93.7 580.54,-94.97\"/>\n<polygon fill=\"black\" stroke=\"black\" points=\"580.16,-98.45 590.58,-96.53 581.24,-91.53 580.16,-98.45\"/>\n</g>\n<!-- 134159678717712*&#45;&gt;134159678717712 -->\n<g id=\"edge7\" class=\"edge\">\n<title>134159678717712*&#45;&gt;134159678717712</title>\n<path fill=\"none\" stroke=\"black\" d=\"M294.27,-73.5C301.7,-73.5 310.31,-73.5 319.55,-73.5\"/>\n<polygon fill=\"black\" stroke=\"black\" points=\"319.81,-77 329.81,-73.5 319.81,-70 319.81,-77\"/>\n</g>\n<!-- 134159677274912 -->\n<g id=\"node19\" class=\"node\">\n<title>134159677274912</title>\n<polygon fill=\"none\" stroke=\"black\" points=\"2.5,-165.5 2.5,-201.5 201.5,-201.5 201.5,-165.5 2.5,-165.5\"/>\n<text text-anchor=\"middle\" x=\"19\" y=\"-179.8\" font-family=\"Times,serif\" font-size=\"14.00\">w2</text>\n<polyline fill=\"none\" stroke=\"black\" points=\"35.5,-165.5 35.5,-201.5 \"/>\n<text text-anchor=\"middle\" x=\"75.5\" y=\"-179.8\" font-family=\"Times,serif\" font-size=\"14.00\">data 1.0000</text>\n<polyline fill=\"none\" stroke=\"black\" points=\"115.5,-165.5 115.5,-201.5 \"/>\n<text text-anchor=\"middle\" x=\"158.5\" y=\"-179.8\" font-family=\"Times,serif\" font-size=\"14.00\">grad &#45;0.0000</text>\n</g>\n<!-- 134159677274912&#45;&gt;134159678717136* -->\n<g id=\"edge23\" class=\"edge\">\n<title>134159677274912&#45;&gt;134159678717136*</title>\n<path fill=\"none\" stroke=\"black\" d=\"M176.26,-165.43C185.67,-162.67 195.11,-159.67 204,-156.5 214.54,-152.74 225.77,-147.93 235.73,-143.36\"/>\n<polygon fill=\"black\" stroke=\"black\" points=\"237.26,-146.51 244.83,-139.09 234.29,-140.17 237.26,-146.51\"/>\n</g>\n<!-- 134159677207360 -->\n<g id=\"node20\" class=\"node\">\n<title>134159677207360</title>\n<polygon fill=\"none\" stroke=\"black\" points=\"2463,-57.5 2463,-93.5 2645,-93.5 2645,-57.5 2463,-57.5\"/>\n<text text-anchor=\"middle\" x=\"2473\" y=\"-71.8\" font-family=\"Times,serif\" font-size=\"14.00\"> </text>\n<polyline fill=\"none\" stroke=\"black\" points=\"2483,-57.5 2483,-93.5 \"/>\n<text text-anchor=\"middle\" x=\"2523\" y=\"-71.8\" font-family=\"Times,serif\" font-size=\"14.00\">data 0.1464</text>\n<polyline fill=\"none\" stroke=\"black\" points=\"2563,-57.5 2563,-93.5 \"/>\n<text text-anchor=\"middle\" x=\"2604\" y=\"-71.8\" font-family=\"Times,serif\" font-size=\"14.00\">grad 4.8284</text>\n</g>\n<!-- 134159677207360&#45;&gt;134159677195264* -->\n<g id=\"edge13\" class=\"edge\">\n<title>134159677207360&#45;&gt;134159677195264*</title>\n<path fill=\"none\" stroke=\"black\" d=\"M2645.18,-89.15C2654.42,-90.54 2663.38,-91.9 2671.47,-93.12\"/>\n<polygon fill=\"black\" stroke=\"black\" points=\"2671.15,-96.61 2681.56,-94.65 2672.19,-89.69 2671.15,-96.61\"/>\n</g>\n<!-- 134159677207360**&#45;1&#45;&gt;134159677207360 -->\n<g id=\"edge8\" class=\"edge\">\n<title>134159677207360**&#45;1&#45;&gt;134159677207360</title>\n<path fill=\"none\" stroke=\"black\" d=\"M2363.05,-71.98C2385.53,-72.4 2419.48,-73.03 2452.5,-73.64\"/>\n<polygon fill=\"black\" stroke=\"black\" points=\"2452.64,-77.14 2462.7,-73.83 2452.77,-70.14 2452.64,-77.14\"/>\n</g>\n<!-- 134159677275008 -->\n<g id=\"node22\" class=\"node\">\n<title>134159677275008</title>\n<polygon fill=\"none\" stroke=\"black\" points=\"6,-0.5 6,-36.5 198,-36.5 198,-0.5 6,-0.5\"/>\n<text text-anchor=\"middle\" x=\"21\" y=\"-14.8\" font-family=\"Times,serif\" font-size=\"14.00\">x1</text>\n<polyline fill=\"none\" stroke=\"black\" points=\"36,-0.5 36,-36.5 \"/>\n<text text-anchor=\"middle\" x=\"76\" y=\"-14.8\" font-family=\"Times,serif\" font-size=\"14.00\">data 2.0000</text>\n<polyline fill=\"none\" stroke=\"black\" points=\"116,-0.5 116,-36.5 \"/>\n<text text-anchor=\"middle\" x=\"157\" y=\"-14.8\" font-family=\"Times,serif\" font-size=\"14.00\">grad 9.3640</text>\n</g>\n<!-- 134159677275008&#45;&gt;134159678717712* -->\n<g id=\"edge16\" class=\"edge\">\n<title>134159677275008&#45;&gt;134159678717712*</title>\n<path fill=\"none\" stroke=\"black\" d=\"M176.26,-36.57C185.67,-39.33 195.11,-42.33 204,-45.5 214.54,-49.26 225.77,-54.07 235.73,-58.64\"/>\n<polygon fill=\"black\" stroke=\"black\" points=\"234.29,-61.83 244.83,-62.91 237.26,-55.49 234.29,-61.83\"/>\n</g>\n<!-- 134159677275536 -->\n<g id=\"node23\" class=\"node\">\n<title>134159677275536</title>\n<polygon fill=\"none\" stroke=\"black\" points=\"4,-110.5 4,-146.5 200,-146.5 200,-110.5 4,-110.5\"/>\n<text text-anchor=\"middle\" x=\"19\" y=\"-124.8\" font-family=\"Times,serif\" font-size=\"14.00\">x2</text>\n<polyline fill=\"none\" stroke=\"black\" points=\"34,-110.5 34,-146.5 \"/>\n<text text-anchor=\"middle\" x=\"74\" y=\"-124.8\" font-family=\"Times,serif\" font-size=\"14.00\">data 0.0000</text>\n<polyline fill=\"none\" stroke=\"black\" points=\"114,-110.5 114,-146.5 \"/>\n<text text-anchor=\"middle\" x=\"157\" y=\"-124.8\" font-family=\"Times,serif\" font-size=\"14.00\">grad &#45;3.1213</text>\n</g>\n<!-- 134159677275536&#45;&gt;134159678717136* -->\n<g id=\"edge20\" class=\"edge\">\n<title>134159677275536&#45;&gt;134159678717136*</title>\n<path fill=\"none\" stroke=\"black\" d=\"M200.17,-128.5C210.66,-128.5 220.79,-128.5 229.82,-128.5\"/>\n<polygon fill=\"black\" stroke=\"black\" points=\"229.89,-132 239.89,-128.5 229.89,-125 229.89,-132\"/>\n</g>\n<!-- 134159678704032 -->\n<g id=\"node24\" class=\"node\">\n<title>134159678704032</title>\n<polygon fill=\"none\" stroke=\"black\" points=\"1083,-54.5 1083,-90.5 1272,-90.5 1272,-54.5 1083,-54.5\"/>\n<text text-anchor=\"middle\" x=\"1094.5\" y=\"-68.8\" font-family=\"Times,serif\" font-size=\"14.00\">n</text>\n<polyline fill=\"none\" stroke=\"black\" points=\"1106,-54.5 1106,-90.5 \"/>\n<text text-anchor=\"middle\" x=\"1146\" y=\"-68.8\" font-family=\"Times,serif\" font-size=\"14.00\">data 0.8814</text>\n<polyline fill=\"none\" stroke=\"black\" points=\"1186,-54.5 1186,-90.5 \"/>\n<text text-anchor=\"middle\" x=\"1229\" y=\"-68.8\" font-family=\"Times,serif\" font-size=\"14.00\">grad &#45;0.7071</text>\n</g>\n<!-- 134159678704032&#45;&gt;134159678717040* -->\n<g id=\"edge22\" class=\"edge\">\n<title>134159678704032&#45;&gt;134159678717040*</title>\n<path fill=\"none\" stroke=\"black\" d=\"M1272.1,-88.75C1281.4,-90.37 1290.38,-91.93 1298.49,-93.33\"/>\n<polygon fill=\"black\" stroke=\"black\" points=\"1298.14,-96.83 1308.59,-95.09 1299.34,-89.93 1298.14,-96.83\"/>\n</g>\n<!-- 134159678704032+&#45;&gt;134159678704032 -->\n<g id=\"edge9\" class=\"edge\">\n<title>134159678704032+&#45;&gt;134159678704032</title>\n<path fill=\"none\" stroke=\"black\" d=\"M1047.03,-72.5C1054.66,-72.5 1063.52,-72.5 1072.94,-72.5\"/>\n<polygon fill=\"black\" stroke=\"black\" points=\"1072.94,-76 1082.94,-72.5 1072.94,-69 1072.94,-76\"/>\n</g>\n<!-- 134159678716848 -->\n<g id=\"node26\" class=\"node\">\n<title>134159678716848</title>\n<polygon fill=\"none\" stroke=\"black\" points=\"1712.5,-81.5 1712.5,-117.5 1894.5,-117.5 1894.5,-81.5 1712.5,-81.5\"/>\n<text text-anchor=\"middle\" x=\"1722.5\" y=\"-95.8\" font-family=\"Times,serif\" font-size=\"14.00\"> </text>\n<polyline fill=\"none\" stroke=\"black\" points=\"1732.5,-81.5 1732.5,-117.5 \"/>\n<text text-anchor=\"middle\" x=\"1772.5\" y=\"-95.8\" font-family=\"Times,serif\" font-size=\"14.00\">data 5.8284</text>\n<polyline fill=\"none\" stroke=\"black\" points=\"1812.5,-81.5 1812.5,-117.5 \"/>\n<text text-anchor=\"middle\" x=\"1853.5\" y=\"-95.8\" font-family=\"Times,serif\" font-size=\"14.00\">grad 0.0429</text>\n</g>\n<!-- 134159678716848&#45;&gt;134159677195840+ -->\n<g id=\"edge14\" class=\"edge\">\n<title>134159678716848&#45;&gt;134159677195840+</title>\n<path fill=\"none\" stroke=\"black\" d=\"M1894.82,-83.13C1905.07,-81.27 1915.01,-79.47 1923.88,-77.87\"/>\n<polygon fill=\"black\" stroke=\"black\" points=\"1924.54,-81.3 1933.75,-76.08 1923.29,-74.42 1924.54,-81.3\"/>\n</g>\n<!-- 134159678716848&#45;&gt;134159678704896+ -->\n<g id=\"edge27\" class=\"edge\">\n<title>134159678716848&#45;&gt;134159678704896+</title>\n<path fill=\"none\" stroke=\"black\" d=\"M1894.82,-115.28C1905.07,-117.08 1915.01,-118.81 1923.88,-120.36\"/>\n<polygon fill=\"black\" stroke=\"black\" points=\"1923.3,-123.81 1933.75,-122.09 1924.5,-116.92 1923.3,-123.81\"/>\n</g>\n<!-- 134159678716848exp&#45;&gt;134159678716848 -->\n<g id=\"edge10\" class=\"edge\">\n<title>134159678716848exp&#45;&gt;134159678716848</title>\n<path fill=\"none\" stroke=\"black\" d=\"M1674.21,-99.5C1682.34,-99.5 1691.85,-99.5 1701.94,-99.5\"/>\n<polygon fill=\"black\" stroke=\"black\" points=\"1702.19,-103 1712.19,-99.5 1702.19,-96 1702.19,-103\"/>\n</g>\n<!-- 134159677275584 -->\n<g id=\"node28\" class=\"node\">\n<title>134159677275584</title>\n<polygon fill=\"none\" stroke=\"black\" points=\"724,-27.5 724,-63.5 913,-63.5 913,-27.5 724,-27.5\"/>\n<text text-anchor=\"middle\" x=\"735.5\" y=\"-41.8\" font-family=\"Times,serif\" font-size=\"14.00\">b</text>\n<polyline fill=\"none\" stroke=\"black\" points=\"747,-27.5 747,-63.5 \"/>\n<text text-anchor=\"middle\" x=\"787\" y=\"-41.8\" font-family=\"Times,serif\" font-size=\"14.00\">data 6.8814</text>\n<polyline fill=\"none\" stroke=\"black\" points=\"827,-27.5 827,-63.5 \"/>\n<text text-anchor=\"middle\" x=\"870\" y=\"-41.8\" font-family=\"Times,serif\" font-size=\"14.00\">grad &#45;1.9142</text>\n</g>\n<!-- 134159677275584&#45;&gt;134159678704032+ -->\n<g id=\"edge18\" class=\"edge\">\n<title>134159677275584&#45;&gt;134159678704032+</title>\n<path fill=\"none\" stroke=\"black\" d=\"M913.12,-58.17C938,-61.54 963.4,-64.98 983.08,-67.64\"/>\n<polygon fill=\"black\" stroke=\"black\" points=\"982.72,-71.12 993.1,-68.99 983.66,-64.19 982.72,-71.12\"/>\n</g>\n</g>\n</svg>\n",
            "text/plain": [
              "<graphviz.graphs.Digraph at 0x7a047bfe3010>"
            ]
          },
          "metadata": {},
          "execution_count": 6
        }
      ]
    },
    {
      "cell_type": "markdown",
      "source": [
        "## Pytorch Implementation"
      ],
      "metadata": {
        "id": "43qv1LVjYZyE"
      }
    },
    {
      "cell_type": "code",
      "source": [
        "import torch\n",
        "import random"
      ],
      "metadata": {
        "id": "kzgSp-OeYtnM"
      },
      "execution_count": 7,
      "outputs": []
    },
    {
      "cell_type": "code",
      "source": [
        "x1 = torch.Tensor([2.0]).double()                ; x1.requires_grad = True\n",
        "x2 = torch.Tensor([0.0]).double()                ; x2.requires_grad = True\n",
        "w1 = torch.Tensor([-3.0]).double()               ; w1.requires_grad = True\n",
        "w2 = torch.Tensor([1.0]).double()                ; w2.requires_grad = True\n",
        "b = torch.Tensor([6.8813735870195432]).double()  ; b.requires_grad = True\n",
        "n = x1*w1 + x2*w2 + b\n",
        "o = torch.tanh(n)\n",
        "\n",
        "print(o.data.item())\n",
        "\n",
        "o.backward()\n",
        "\n",
        "print('---')\n",
        "print('x2', x2.grad.item())\n",
        "print('w2', w2.grad.item())\n",
        "print('x1', x1.grad.item())\n",
        "print('w1', w1.grad.item())"
      ],
      "metadata": {
        "colab": {
          "base_uri": "https://localhost:8080/"
        },
        "id": "dJ0vXfaSY123",
        "outputId": "523757a3-8bde-461b-ee64-154fb3bee928"
      },
      "execution_count": 8,
      "outputs": [
        {
          "output_type": "stream",
          "name": "stdout",
          "text": [
            "0.7071066904050358\n",
            "---\n",
            "x2 0.5000001283844369\n",
            "w2 0.0\n",
            "x1 -1.5000003851533106\n",
            "w1 1.0000002567688737\n"
          ]
        }
      ]
    },
    {
      "cell_type": "code",
      "source": [
        "class Neuron:\n",
        "\n",
        "  def __init__(self, nin):\n",
        "\n",
        "        self.w = [Value(random.uniform(-1,1)) for _ in range(nin)]\n",
        "        self.b = Value(random.uniform(-1,1))\n",
        "\n",
        "  def __call__(self, x):\n",
        "\n",
        "    act = sum((xi*wi for wi, xi, in zip(self.w, x)), self.b)\n",
        "    out = act.tanh()\n",
        "    return out\n",
        "\n",
        "  def parameters(self):\n",
        "    return self.w + [self.b]\n",
        "\n",
        "class Layer:\n",
        "\n",
        "  def __init__(self, nin, nout):\n",
        "    self.neurons = [Neuron(nin) for _ in range(nout)]\n",
        "\n",
        "  def __call__(self, x):\n",
        "    outs = [n(x) for n in self.neurons]\n",
        "    return outs[0] if len(outs) == 1 else outs\n",
        "\n",
        "  def parameters(self):\n",
        "    return self.w + [self.b]\n",
        "\n",
        "class MLP:\n",
        "\n",
        "  def __init__(self, nin, nouts):\n",
        "    sz = [nin] + nouts\n",
        "    self.layers = [Layer(sz[i], sz[i+1]) for i in range(len(nouts))]\n",
        "\n",
        "  def __call__(self, x):\n",
        "    for layer in self.layers:\n",
        "      x = layer(x)\n",
        "    return x\n",
        "\n",
        "  def parameters(self):\n",
        "    return [p for layer in self.layers for p in layer.parameters()]"
      ],
      "metadata": {
        "id": "09P5a76ckV4x"
      },
      "execution_count": 9,
      "outputs": []
    },
    {
      "cell_type": "code",
      "source": [
        "x = [2.0, 3.0, -1.0]\n",
        "n = MLP(3,[4, 4, 1])\n",
        "n(x)"
      ],
      "metadata": {
        "colab": {
          "base_uri": "https://localhost:8080/"
        },
        "id": "MaS5JWfHlsYl",
        "outputId": "4c5d06cd-f102-44c6-fcb2-4484362ee705"
      },
      "execution_count": 10,
      "outputs": [
        {
          "output_type": "execute_result",
          "data": {
            "text/plain": [
              "Value(data=-0.6132024476458722)"
            ]
          },
          "metadata": {},
          "execution_count": 10
        }
      ]
    },
    {
      "cell_type": "code",
      "source": [
        "xs = [\n",
        "  [2.0, 3.0, -1.0],\n",
        "  [3.0, -1.0, 0.5],\n",
        "  [0.5, 1.0, 1.0],\n",
        "  [1.0, 1.0, -1.0],\n",
        "]\n",
        "\n",
        "ys = [1.0, -1.0, -1.0, 1.0]\n",
        "\n",
        "ypred = [n(x) for x in xs]\n",
        "ypred"
      ],
      "metadata": {
        "colab": {
          "base_uri": "https://localhost:8080/"
        },
        "id": "s5iWyW-Io5jV",
        "outputId": "4e564ab5-137a-4c10-9f78-bf9911601f7f"
      },
      "execution_count": 11,
      "outputs": [
        {
          "output_type": "execute_result",
          "data": {
            "text/plain": [
              "[Value(data=-0.6132024476458722),\n",
              " Value(data=-0.9561881297039733),\n",
              " Value(data=-0.7484262670933076),\n",
              " Value(data=-0.9060632274709799)]"
            ]
          },
          "metadata": {},
          "execution_count": 11
        }
      ]
    },
    {
      "cell_type": "code",
      "source": [
        "loss = [(yout - ygt)**2 for ygt, yout in zip(ys, ypred)]\n",
        "loss"
      ],
      "metadata": {
        "colab": {
          "base_uri": "https://localhost:8080/"
        },
        "id": "ML2h8gocwpaL",
        "outputId": "b92eca16-f7c9-4311-a4ef-914bc74ea3c6"
      },
      "execution_count": 12,
      "outputs": [
        {
          "output_type": "execute_result",
          "data": {
            "text/plain": [
              "[Value(data=2.602422137090633),\n",
              " Value(data=0.0019194799788358695),\n",
              " Value(data=0.0632893430886078),\n",
              " Value(data=3.6330770271170882)]"
            ]
          },
          "metadata": {},
          "execution_count": 12
        }
      ]
    },
    {
      "cell_type": "code",
      "source": [
        "loss = sum((yout - ygt)**2 for ygt, yout in zip(ys, ypred))\n",
        "loss"
      ],
      "metadata": {
        "colab": {
          "base_uri": "https://localhost:8080/"
        },
        "id": "f7pQcdv6wOgo",
        "outputId": "5dc8cf6b-f0f5-4b63-d40b-69f6d4515daf"
      },
      "execution_count": 14,
      "outputs": [
        {
          "output_type": "execute_result",
          "data": {
            "text/plain": [
              "Value(data=6.300707987275165)"
            ]
          },
          "metadata": {},
          "execution_count": 14
        }
      ]
    }
  ]
}