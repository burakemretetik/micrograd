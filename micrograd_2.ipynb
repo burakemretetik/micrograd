{
  "nbformat": 4,
  "nbformat_minor": 0,
  "metadata": {
    "colab": {
      "provenance": [],
      "include_colab_link": true
    },
    "kernelspec": {
      "name": "python3",
      "display_name": "Python 3"
    },
    "language_info": {
      "name": "python"
    }
  },
  "cells": [
    {
      "cell_type": "markdown",
      "metadata": {
        "id": "view-in-github",
        "colab_type": "text"
      },
      "source": [
        "<a href=\"https://colab.research.google.com/github/burakemretetik/micrograd/blob/main/micrograd_2.ipynb\" target=\"_parent\"><img src=\"https://colab.research.google.com/assets/colab-badge.svg\" alt=\"Open In Colab\"/></a>"
      ]
    },
    {
      "cell_type": "markdown",
      "source": [
        "# Micrograd"
      ],
      "metadata": {
        "id": "8458F6a3t3vS"
      }
    },
    {
      "cell_type": "markdown",
      "source": [
        "## Import the Libraries"
      ],
      "metadata": {
        "id": "DkxnYePXup69"
      }
    },
    {
      "cell_type": "code",
      "execution_count": 3,
      "metadata": {
        "id": "9s8hz04Y1ceq"
      },
      "outputs": [],
      "source": [
        "# https://github.com/karpathy/nn-zero-to-hero/blob/master/lectures/micrograd/micrograd_lecture_first_half_roughly.ipynb"
      ]
    },
    {
      "cell_type": "code",
      "source": [
        "import math\n",
        "import numpy as np\n",
        "import matplotlib.pyplot as plt\n",
        "import torch\n",
        "import random\n",
        "%matplotlib inline"
      ],
      "metadata": {
        "id": "L31gPObr1fYG"
      },
      "execution_count": 4,
      "outputs": []
    },
    {
      "cell_type": "markdown",
      "source": [
        "## Defining Classes and Functions"
      ],
      "metadata": {
        "id": "2mhvWllsnU5B"
      }
    },
    {
      "cell_type": "code",
      "source": [
        "class Value:\n",
        "    \"\"\" stores a single scalar value and its gradient \"\"\"\n",
        "\n",
        "    def __init__(self, data, _children=(), _op=''):\n",
        "        self.data = data\n",
        "        self.grad = 0\n",
        "        # internal variables used for autograd graph construction\n",
        "        self._backward = lambda: None\n",
        "        self._prev = set(_children)\n",
        "        self._op = _op # the op that produced this node, for graphviz / debugging / etc\n",
        "\n",
        "    def __add__(self, other):\n",
        "        other = other if isinstance(other, Value) else Value(other)\n",
        "        out = Value(self.data + other.data, (self, other), '+')\n",
        "\n",
        "        def _backward():\n",
        "            self.grad += out.grad\n",
        "            other.grad += out.grad\n",
        "        out._backward = _backward\n",
        "\n",
        "        return out\n",
        "\n",
        "    def __mul__(self, other):\n",
        "        other = other if isinstance(other, Value) else Value(other)\n",
        "        out = Value(self.data * other.data, (self, other), '*')\n",
        "\n",
        "        def _backward():\n",
        "            self.grad += other.data * out.grad\n",
        "            other.grad += self.data * out.grad\n",
        "        out._backward = _backward\n",
        "\n",
        "        return out\n",
        "\n",
        "    def __pow__(self, other):\n",
        "        assert isinstance(other, (int, float)), \"only supporting int/float powers for now\"\n",
        "        out = Value(self.data**other, (self,), f'**{other}')\n",
        "\n",
        "        def _backward():\n",
        "            self.grad += (other * self.data**(other-1)) * out.grad\n",
        "        out._backward = _backward\n",
        "\n",
        "        return out\n",
        "\n",
        "    def relu(self):\n",
        "        out = Value(0 if self.data < 0 else self.data, (self,), 'ReLU')\n",
        "\n",
        "        def _backward():\n",
        "            self.grad += (out.data > 0) * out.grad\n",
        "        out._backward = _backward\n",
        "\n",
        "        return out\n",
        "\n",
        "    def backward(self):\n",
        "\n",
        "        # topological order all of the children in the graph\n",
        "        topo = []\n",
        "        visited = set()\n",
        "        def build_topo(v):\n",
        "            if v not in visited:\n",
        "                visited.add(v)\n",
        "                for child in v._prev:\n",
        "                    build_topo(child)\n",
        "                topo.append(v)\n",
        "        build_topo(self)\n",
        "\n",
        "        # go one variable at a time and apply the chain rule to get its gradient\n",
        "        self.grad = 1\n",
        "        for v in reversed(topo):\n",
        "            v._backward()\n",
        "\n",
        "    def __neg__(self): # -self\n",
        "        return self * -1\n",
        "\n",
        "    def __radd__(self, other): # other + self\n",
        "        return self + other\n",
        "\n",
        "    def __sub__(self, other): # self - other\n",
        "        return self + (-other)\n",
        "\n",
        "    def __rsub__(self, other): # other - self\n",
        "        return other + (-self)\n",
        "\n",
        "    def __rmul__(self, other): # other * self\n",
        "        return self * other\n",
        "\n",
        "    def __truediv__(self, other): # self / other\n",
        "        return self * other**-1\n",
        "\n",
        "    def __rtruediv__(self, other): # other / self\n",
        "        return other * self**-1\n",
        "\n",
        "    def __repr__(self):\n",
        "        return f\"Value(data={self.data}, grad={self.grad})\""
      ],
      "metadata": {
        "id": "2UpE7pDaKLsK"
      },
      "execution_count": 5,
      "outputs": []
    },
    {
      "cell_type": "code",
      "source": [
        "class Module:\n",
        "\n",
        "    def zero_grad(self):\n",
        "        for p in self.parameters():\n",
        "            p.grad = 0\n",
        "\n",
        "    def parameters(self):\n",
        "        return []\n",
        "\n",
        "class Neuron(Module):\n",
        "\n",
        "    def __init__(self, nin, nonlin=True):\n",
        "        self.w = [Value(random.uniform(-1,1)) for _ in range(nin)]\n",
        "        self.b = Value(0)\n",
        "        self.nonlin = nonlin\n",
        "\n",
        "    def __call__(self, x):\n",
        "        act = sum((wi*xi for wi,xi in zip(self.w, x)), self.b)\n",
        "        return act.relu() if self.nonlin else act\n",
        "\n",
        "    def parameters(self):\n",
        "        return self.w + [self.b]\n",
        "\n",
        "    def __repr__(self):\n",
        "        return f\"{'ReLU' if self.nonlin else 'Linear'}Neuron({len(self.w)})\"\n",
        "\n",
        "class Layer(Module):\n",
        "\n",
        "    def __init__(self, nin, nout, **kwargs):\n",
        "        self.neurons = [Neuron(nin, **kwargs) for _ in range(nout)]\n",
        "\n",
        "    def __call__(self, x):\n",
        "        out = [n(x) for n in self.neurons]\n",
        "        return out[0] if len(out) == 1 else out\n",
        "\n",
        "    def parameters(self):\n",
        "        return [p for n in self.neurons for p in n.parameters()]\n",
        "\n",
        "    def __repr__(self):\n",
        "        return f\"Layer of [{', '.join(str(n) for n in self.neurons)}]\"\n",
        "\n",
        "class MLP(Module):\n",
        "\n",
        "    def __init__(self, nin, nouts):\n",
        "        sz = [nin] + nouts\n",
        "        self.layers = [Layer(sz[i], sz[i+1], nonlin=i!=len(nouts)-1) for i in range(len(nouts))]\n",
        "\n",
        "    def __call__(self, x):\n",
        "        for layer in self.layers:\n",
        "            x = layer(x)\n",
        "        return x\n",
        "\n",
        "    def parameters(self):\n",
        "        return [p for layer in self.layers for p in layer.parameters()]\n",
        "\n",
        "    def __repr__(self):\n",
        "        return f\"MLP of [{', '.join(str(layer) for layer in self.layers)}]\""
      ],
      "metadata": {
        "id": "uz_ELmk01cjr"
      },
      "execution_count": 6,
      "outputs": []
    },
    {
      "cell_type": "markdown",
      "source": [
        "## Backpropagation"
      ],
      "metadata": {
        "id": "43qv1LVjYZyE"
      }
    },
    {
      "cell_type": "code",
      "source": [
        "# Build a multi-layer-perceptron\n",
        "\n",
        "x = [2.0, 3.0, -1.0]\n",
        "n = MLP(3,[4, 4, 1])\n",
        "n(x)"
      ],
      "metadata": {
        "colab": {
          "base_uri": "https://localhost:8080/"
        },
        "id": "MaS5JWfHlsYl",
        "outputId": "dd1e481f-30f8-46dc-f2e8-9956c04ab991"
      },
      "execution_count": 7,
      "outputs": [
        {
          "output_type": "execute_result",
          "data": {
            "text/plain": [
              "Value(data=0.8721051509623368, grad=0)"
            ]
          },
          "metadata": {},
          "execution_count": 7
        }
      ]
    },
    {
      "cell_type": "code",
      "source": [
        "# Define xs, ys, ypred, and loss\n",
        "\n",
        "xs = [\n",
        "  [2.0, 3.0, -1.0],\n",
        "  [3.0, -1.0, 0.5],\n",
        "  [0.5, 1.0, 1.0],\n",
        "  [1.0, 1.0, -1.0],\n",
        "]\n",
        "\n",
        "ys = [1.0, -1.0, -1.0, 1.0]\n",
        "\n",
        "ypred = [n(x) for x in xs]\n",
        "loss = sum((yout - ygt)**2 for ygt, yout in zip(ys, ypred))\n",
        "loss"
      ],
      "metadata": {
        "id": "s5iWyW-Io5jV",
        "colab": {
          "base_uri": "https://localhost:8080/"
        },
        "outputId": "6da6446a-a477-4121-fc89-4f770dada612"
      },
      "execution_count": 8,
      "outputs": [
        {
          "output_type": "execute_result",
          "data": {
            "text/plain": [
              "Value(data=4.0793897502568095, grad=0)"
            ]
          },
          "metadata": {},
          "execution_count": 8
        }
      ]
    },
    {
      "cell_type": "code",
      "source": [
        "# Initialize lists to store loss values\n",
        "loss_history = []\n",
        "\n",
        "# Training loop\n",
        "for epoch in range(190):  # Adjust the number of epochs as needed\n",
        "    # Forward pass: compute predictions\n",
        "    ypred = [n(x) for x in xs]\n",
        "\n",
        "    # Compute loss\n",
        "    loss = sum((yout - ygt)**2 for ygt, yout in zip(ys, ypred))\n",
        "    loss_history.append(loss.data)  # Store the loss value\n",
        "\n",
        "    # Backward pass: compute gradients\n",
        "    loss.backward()\n",
        "\n",
        "    # Update weights\n",
        "    for p in n.parameters():\n",
        "        p.data -= 0.01 * p.grad  # Learning rate of 0.01\n",
        "\n",
        "    # Zero the gradients for the next iteration\n",
        "    for p in n.parameters():\n",
        "        p.grad = 0.0\n",
        "\n",
        "# Plot the loss curve\n",
        "plt.plot(loss_history, label=\"Loss\")\n",
        "plt.xlabel(\"Epoch\")\n",
        "plt.ylabel(\"Loss\")\n",
        "plt.title(\"Loss Curve\")\n",
        "plt.legend()\n",
        "plt.show()"
      ],
      "metadata": {
        "id": "XOUkfqjr2g04",
        "outputId": "cdb4cd3d-4e5c-4cf0-c494-5b5ec5fab81a",
        "colab": {
          "base_uri": "https://localhost:8080/",
          "height": 472
        }
      },
      "execution_count": 9,
      "outputs": [
        {
          "output_type": "display_data",
          "data": {
            "text/plain": [
              "<Figure size 640x480 with 1 Axes>"
            ],
            "image/png": "[encoded data removed]"
          },
          "metadata": {}
        }
      ]
    },
    {
      "cell_type": "markdown",
      "source": [
        "## Implementation on Wine Dataset"
      ],
      "metadata": {
        "id": "-5b_EGe69IdT"
      }
    },
    {
      "cell_type": "code",
      "source": [
        "from sklearn.datasets import load_wine\n",
        "\n",
        "# Load the dataset\n",
        "wine = load_wine()\n",
        "\n",
        "# Features (Xs)\n",
        "X = wine.data  # Shape: (178, 13)\n",
        "\n",
        "# Target labels (ys)\n",
        "y = wine.target  # Shape: (178,)\n",
        "\n",
        "# Feature names\n",
        "feature_names = wine.feature_names  # List of 13 feature names\n",
        "\n",
        "# Class names\n",
        "class_names = wine.target_names  # List of 3 class names"
      ],
      "metadata": {
        "id": "WGdyK_tQ9NJA"
      },
      "execution_count": 10,
      "outputs": []
    },
    {
      "cell_type": "code",
      "source": [
        "feature_names"
      ],
      "metadata": {
        "colab": {
          "base_uri": "https://localhost:8080/"
        },
        "id": "ojQs6pZU-oab",
        "outputId": "3ff6348c-8322-4dd7-fa51-6948d2391ec6"
      },
      "execution_count": 11,
      "outputs": [
        {
          "output_type": "execute_result",
          "data": {
            "text/plain": [
              "['alcohol',\n",
              " 'malic_acid',\n",
              " 'ash',\n",
              " 'alcalinity_of_ash',\n",
              " 'magnesium',\n",
              " 'total_phenols',\n",
              " 'flavanoids',\n",
              " 'nonflavanoid_phenols',\n",
              " 'proanthocyanins',\n",
              " 'color_intensity',\n",
              " 'hue',\n",
              " 'od280/od315_of_diluted_wines',\n",
              " 'proline']"
            ]
          },
          "metadata": {},
          "execution_count": 11
        }
      ]
    },
    {
      "cell_type": "code",
      "source": [
        "class_names"
      ],
      "metadata": {
        "colab": {
          "base_uri": "https://localhost:8080/"
        },
        "id": "fUa83ucz_42W",
        "outputId": "764cc4be-4ede-4109-e0d8-656b6b909d31"
      },
      "execution_count": 12,
      "outputs": [
        {
          "output_type": "execute_result",
          "data": {
            "text/plain": [
              "array(['class_0', 'class_1', 'class_2'], dtype='<U7')"
            ]
          },
          "metadata": {},
          "execution_count": 12
        }
      ]
    },
    {
      "cell_type": "code",
      "source": [
        "# Compute mean and standard deviation for each feature\n",
        "mean = np.mean(X, axis=0)  # Mean of each column (feature)\n",
        "std = np.std(X, axis=0)    # Standard deviation of each column (feature)\n",
        "\n",
        "# Standardize the features\n",
        "X_scaled = (X - mean) / std"
      ],
      "metadata": {
        "id": "gNtavrbm_5w0"
      },
      "execution_count": 13,
      "outputs": []
    },
    {
      "cell_type": "code",
      "source": [
        "# Compute mean and standard deviation of X_scaled\n",
        "mean_scaled = np.mean(X_scaled, axis=0)  # Mean of each feature\n",
        "std_scaled = np.std(X_scaled, axis=0)    # Standard deviation of each feature\n",
        "\n",
        "# Print the results\n",
        "print(\"Mean of X_scaled (should be close to 0):\")\n",
        "print(mean_scaled)\n",
        "\n",
        "print(\"\\nStandard Deviation of X_scaled (should be close to 1):\")\n",
        "print(std_scaled)"
      ],
      "metadata": {
        "id": "jK1425FYETp-",
        "outputId": "41b438f1-ee36-40fb-eda0-a3ace194ab34",
        "colab": {
          "base_uri": "https://localhost:8080/"
        }
      },
      "execution_count": 14,
      "outputs": [
        {
          "output_type": "stream",
          "name": "stdout",
          "text": [
            "Mean of X_scaled (should be close to 0):\n",
            "[ 7.84141790e-15  2.44498554e-16 -4.05917497e-15 -7.11041712e-17\n",
            " -2.49488320e-17 -1.95536471e-16  9.44313292e-16 -4.17892936e-16\n",
            " -1.54059038e-15 -4.12903170e-16  1.39838203e-15  2.12688793e-15\n",
            " -6.98567296e-17]\n",
            "\n",
            "Standard Deviation of X_scaled (should be close to 1):\n",
            "[1. 1. 1. 1. 1. 1. 1. 1. 1. 1. 1. 1. 1.]\n"
          ]
        }
      ]
    },
    {
      "cell_type": "code",
      "source": [
        "# One hot encoding the targets\n",
        "\n",
        "# Number of classes\n",
        "num_classes = len(np.unique(y))\n",
        "\n",
        "# Initialize a matrix of zeros with shape (num_samples, num_classes)\n",
        "y_one_hot = np.zeros((len(y), num_classes))\n",
        "\n",
        "# Fill the matrix with 1s at the appropriate positions\n",
        "y_one_hot[np.arange(len(y)), y] = 1\n",
        "\n",
        "# Print the first 5 rows of the one-hot encoded targets\n",
        "print(\"One-Hot Encoded Targets (First 5 Rows):\")\n",
        "print(y_one_hot[:5])"
      ],
      "metadata": {
        "id": "lVRH4HnKE7p1",
        "outputId": "2862d8eb-f48a-4d05-be7f-5717b41d80a8",
        "colab": {
          "base_uri": "https://localhost:8080/"
        }
      },
      "execution_count": 15,
      "outputs": [
        {
          "output_type": "stream",
          "name": "stdout",
          "text": [
            "One-Hot Encoded Targets (First 5 Rows):\n",
            "[[1. 0. 0.]\n",
            " [1. 0. 0.]\n",
            " [1. 0. 0.]\n",
            " [1. 0. 0.]\n",
            " [1. 0. 0.]]\n"
          ]
        }
      ]
    },
    {
      "cell_type": "code",
      "source": [
        "# Set a random seed for reproducibility\n",
        "np.random.seed(24)\n",
        "\n",
        "# Shuffle the dataset\n",
        "indices = np.arange(len(X))  # Create an array of indices\n",
        "np.random.shuffle(indices)   # Shuffle the indices\n",
        "\n",
        "# Split into training and testing sets\n",
        "test_size = 0.2  # 20% of the data for testing\n",
        "split_index = int(len(X) * (1 - test_size))  # Calculate the split index\n",
        "\n",
        "# Split the features (X) and labels (y)\n",
        "X_train, X_test = X_scaled[indices[:split_index]], X_scaled[indices[split_index:]]\n",
        "y_train_one_hot , y_test = y_one_hot[indices[:split_index]], y_one_hot[indices[split_index:]]\n",
        "\n",
        "y_train_one_hot = [[Value(ygt_i) for ygt_i in ygt] for ygt in y_train_one_hot] # Convert y_train to Value objects"
      ],
      "metadata": {
        "id": "sJBUclu7AnoN"
      },
      "execution_count": 21,
      "outputs": []
    },
    {
      "cell_type": "code",
      "source": [
        "X_train[0][0:5], y_train[0:5]"
      ],
      "metadata": {
        "id": "8puw6iKcBsZd",
        "outputId": "51021df8-3345-4a5e-84b1-87bdd18db920",
        "colab": {
          "base_uri": "https://localhost:8080/"
        }
      },
      "execution_count": 22,
      "outputs": [
        {
          "output_type": "execute_result",
          "data": {
            "text/plain": [
              "(array([-1.49543397, -0.18523128,  1.51142186,  2.70408323, -0.5435617 ]),\n",
              " array([[0., 1., 0.],\n",
              "        [0., 0., 1.],\n",
              "        [0., 1., 0.],\n",
              "        [0., 1., 0.],\n",
              "        [0., 0., 1.]]))"
            ]
          },
          "metadata": {},
          "execution_count": 22
        }
      ]
    },
    {
      "cell_type": "code",
      "source": [
        "model = MLP(13, [16, 16, 3]) # Define the MLP model with the number of features (13), hidden layers (2x16), classes (3)"
      ],
      "metadata": {
        "id": "w64oggjANPMi"
      },
      "execution_count": 24,
      "outputs": []
    },
    {
      "cell_type": "code",
      "source": [
        "# Training loop\n",
        "num_epochs = 40\n",
        "learning_rate = 0.01\n",
        "decay_rate = 0.1  # Reduce learning rate by 10x\n",
        "decay_epochs = 10  # Reduce learning rate every 30 epochs\n",
        "loss_history = []\n",
        "\n",
        "for epoch in range(num_epochs):\n",
        "    # Reduce learning rate every `decay_epochs` epochs\n",
        "    if epoch > 0 and epoch % decay_epochs == 0:\n",
        "        learning_rate *= decay_rate\n",
        "        print(f\"Reduced learning rate to {learning_rate} at epoch {epoch + 1}\")\n",
        "\n",
        "    # Forward pass: compute predictions\n",
        "    ypred = [model(x) for x in X_train]  # Ensure model(x) returns a Value object\n",
        "\n",
        "    # Compute loss (mean squared error) using Value objects\n",
        "    loss = sum(sum((yout_i - ygt_i)**2 for yout_i, ygt_i in zip(yout, ygt)) for ygt, yout in zip(y_train_one_hot, ypred)) / len(y_train)\n",
        "    loss_history.append(loss.data)\n",
        "\n",
        "    # Backward pass: compute gradients\n",
        "    loss.backward()  # Now loss is a Value object, so this works\n",
        "\n",
        "    # Update weights with the current learning rate\n",
        "    for p in model.parameters():\n",
        "        p.data -= learning_rate * p.grad\n",
        "\n",
        "    # Zero the gradients for the next iteration\n",
        "    for p in model.parameters():\n",
        "        p.grad = 0.0\n",
        "\n",
        "    # Print loss every 10 epochs\n",
        "    if (epoch + 1) % 10 == 0:\n",
        "        print(f\"Epoch {epoch + 1}, Loss: {loss.data}, Learning Rate: {learning_rate}\")"
      ],
      "metadata": {
        "id": "Ys7C0X9PHjmL",
        "outputId": "fb305d81-33c0-42c6-deb5-24bc397d21f5",
        "colab": {
          "base_uri": "https://localhost:8080/",
          "height": 594
        }
      },
      "execution_count": 25,
      "outputs": [
        {
          "output_type": "stream",
          "name": "stdout",
          "text": [
            "Epoch 10, Loss: 3.752165721274365, Learning Rate: 0.01\n",
            "Reduced learning rate to 0.001 at epoch 11\n",
            "Epoch 20, Loss: 3.121130300927703, Learning Rate: 0.001\n",
            "Reduced learning rate to 0.0001 at epoch 21\n",
            "Epoch 30, Loss: 3.0704226133278665, Learning Rate: 0.0001\n",
            "Reduced learning rate to 1e-05 at epoch 31\n",
            "Epoch 40, Loss: 3.0654627887694534, Learning Rate: 1e-05\n"
          ]
        },
        {
          "output_type": "display_data",
          "data": {
            "text/plain": [
              "<Figure size 640x480 with 1 Axes>"
            ],
            "image/png": "[encoded data removed]"
          },
          "metadata": {}
        }
      ]
    },
    {
      "cell_type": "code",
      "source": [
        "# Plot the loss curve\n",
        "plt.plot(loss_history, label=\"Loss\")\n",
        "plt.xlabel(\"Epoch\")\n",
        "plt.ylabel(\"Loss\")\n",
        "plt.title(\"Loss Curve with Learning Rate Decay\")\n",
        "plt.legend()\n",
        "plt.show()"
      ],
      "metadata": {
        "id": "5O3puakcOkfs",
        "outputId": "8a8da1ae-aea5-471d-85c5-1a24943097e6",
        "colab": {
          "base_uri": "https://localhost:8080/",
          "height": 472
        }
      },
      "execution_count": 26,
      "outputs": [
        {
          "output_type": "display_data",
          "data": {
            "text/plain": [
              "<Figure size 640x480 with 1 Axes>"
            ],
            "image/png": "[encoded data removed]"
          },
          "metadata": {}
        }
      ]
    },
    {
      "cell_type": "code",
      "source": [
        "# Make predictions on the test set\n",
        "ypred_test = [model(x) for x in X_test]\n",
        "\n",
        "# Extract .data from nested lists of Value objects\n",
        "ypred_test_data = [[y_i.data for y_i in y] for y in ypred_test]\n",
        "\n",
        "# Convert to NumPy array\n",
        "ypred_test_data = np.array(ypred_test_data)\n",
        "\n",
        "# Convert predictions to class labels\n",
        "ypred_test_labels = np.argmax(ypred_test_data, axis=1)\n",
        "\n",
        "# Convert y_test from one-hot encoded to class labels\n",
        "y_test_labels = np.argmax(y_test, axis=1)\n",
        "\n",
        "# Compute accuracy\n",
        "accuracy = np.mean(ypred_test_labels == y_test_labels)\n",
        "print(f\"Test Accuracy: {accuracy * 100:.2f}%\")\n",
        "\n",
        "# Compute confusion matrix\n",
        "from sklearn.metrics import confusion_matrix\n",
        "import seaborn as sns\n",
        "import matplotlib.pyplot as plt\n",
        "\n",
        "cm = confusion_matrix(y_test_labels, ypred_test_labels)\n",
        "\n",
        "plt.figure(figsize=(8, 6))\n",
        "sns.heatmap(cm, annot=True, fmt=\"d\", cmap=\"Blues\", xticklabels=wine.target_names, yticklabels=wine.target_names)\n",
        "plt.xlabel(\"Predicted Labels\")\n",
        "plt.ylabel(\"True Labels\")\n",
        "plt.title(\"Confusion Matrix\")\n",
        "plt.show()\n",
        "\n",
        "# Compute classification report\n",
        "from sklearn.metrics import classification_report\n",
        "\n",
        "print(\"Classification Report:\")\n",
        "print(classification_report(y_test_labels, ypred_test_labels, target_names=wine.target_names))"
      ],
      "metadata": {
        "id": "Qh6TmFeBHpYp",
        "outputId": "83ea10a9-3632-48ea-b0e6-c022663c8c28",
        "colab": {
          "base_uri": "https://localhost:8080/",
          "height": 772
        }
      },
      "execution_count": 30,
      "outputs": [
        {
          "output_type": "stream",
          "name": "stdout",
          "text": [
            "Test Accuracy: 50.00%\n"
          ]
        },
        {
          "output_type": "display_data",
          "data": {
            "text/plain": [
              "<Figure size 800x600 with 2 Axes>"
            ],
            "image/png": "[encoded data removed]"
          },
          "metadata": {}
        },
        {
          "output_type": "stream",
          "name": "stdout",
          "text": [
            "Classification Report:\n",
            "              precision    recall  f1-score   support\n",
            "\n",
            "     class_0       0.22      0.22      0.22         9\n",
            "     class_1       0.53      0.67      0.59        15\n",
            "     class_2       0.75      0.50      0.60        12\n",
            "\n",
            "    accuracy                           0.50        36\n",
            "   macro avg       0.50      0.46      0.47        36\n",
            "weighted avg       0.52      0.50      0.50        36\n",
            "\n"
          ]
        }
      ]
    }
  ]
}