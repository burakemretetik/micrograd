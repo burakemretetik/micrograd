{
  "nbformat": 4,
  "nbformat_minor": 0,
  "metadata": {
    "colab": {
      "provenance": [],
      "include_colab_link": true
    },
    "kernelspec": {
      "name": "python3",
      "display_name": "Python 3"
    },
    "language_info": {
      "name": "python"
    }
  },
  "cells": [
    {
      "cell_type": "markdown",
      "metadata": {
        "id": "view-in-github",
        "colab_type": "text"
      },
      "source": [
        "<a href=\"https://colab.research.google.com/github/burakemretetik/micrograd/blob/main/micrograd_2.ipynb\" target=\"_parent\"><img src=\"https://colab.research.google.com/assets/colab-badge.svg\" alt=\"Open In Colab\"/></a>"
      ]
    },
    {
      "cell_type": "markdown",
      "source": [
        "# Micrograd"
      ],
      "metadata": {
        "id": "8458F6a3t3vS"
      }
    },
    {
      "cell_type": "markdown",
      "source": [
        "## Import the Libraries"
      ],
      "metadata": {
        "id": "DkxnYePXup69"
      }
    },
    {
      "cell_type": "code",
      "execution_count": null,
      "metadata": {
        "id": "9s8hz04Y1ceq"
      },
      "outputs": [],
      "source": [
        "# https://github.com/karpathy/nn-zero-to-hero/blob/master/lectures/micrograd/micrograd_lecture_first_half_roughly.ipynb"
      ]
    },
    {
      "cell_type": "code",
      "source": [
        "import math\n",
        "import numpy as np\n",
        "import matplotlib.pyplot as plt\n",
        "import torch\n",
        "import random\n",
        "%matplotlib inline"
      ],
      "metadata": {
        "id": "L31gPObr1fYG"
      },
      "execution_count": null,
      "outputs": []
    },
    {
      "cell_type": "markdown",
      "source": [
        "## Defining Components"
      ],
      "metadata": {
        "id": "2mhvWllsnU5B"
      }
    },
    {
      "cell_type": "code",
      "source": [
        "class Value:\n",
        "\n",
        "  def __init__(self, data, _children=(), _op='', label=''):\n",
        "    self.data = data\n",
        "    self.grad = 0.0\n",
        "    self._backward = lambda: None\n",
        "    self._prev = set(_children)\n",
        "    self._op = _op\n",
        "    self.label = label\n",
        "\n",
        "  def __repr__(self):\n",
        "    return f\"Value(data={self.data})\"\n",
        "\n",
        "  def __add__(self, other):\n",
        "    other = other if isinstance(other, Value) else Value(other)\n",
        "    out = Value(self.data + other.data, (self, other), '+')\n",
        "\n",
        "    def _backward():\n",
        "      self.grad += 1.0 * out.grad\n",
        "      other.grad += 1.0 * out.grad\n",
        "    out._backward = _backward\n",
        "\n",
        "    return out\n",
        "\n",
        "  def exp(self):\n",
        "    x = self.data\n",
        "    out = Value(math.exp(x), (self, ), 'exp')\n",
        "\n",
        "    def _backward():\n",
        "      self.grad += out.data * out.grad\n",
        "    out._backward = _backward\n",
        "\n",
        "    return out\n",
        "\n",
        "  def __mul__(self, other):\n",
        "    other = other if isinstance(other, Value) else Value(other)\n",
        "    out = Value(self.data * other.data, (self, other), '*')\n",
        "\n",
        "    def _backward():\n",
        "      self.grad = other.data * out.grad\n",
        "      other.grad = self.data * out.grad\n",
        "    out._backward = _backward\n",
        "\n",
        "    return out\n",
        "\n",
        "  def __rmul__(self, other):\n",
        "    return self * other\n",
        "\n",
        "  def __radd__(self, other): # other + self\n",
        "    return self + other\n",
        "\n",
        "  def __truediv__(self, other):\n",
        "    return self * other**-1\n",
        "\n",
        "  def __neg__(self):\n",
        "    return self * -1\n",
        "\n",
        "  def __sub__(self, other):\n",
        "    return self + (-other)\n",
        "\n",
        "  def __pow__(self, other):\n",
        "    assert isinstance(other, (int, float)), \"Only supporting int/float powers.\"\n",
        "    out = Value(self.data**other, (self, ), f'**{other}')\n",
        "\n",
        "    def _backward():\n",
        "      self.grad += (other * self.data**(other - 1)) * out.grad\n",
        "    out._backward = _backward\n",
        "\n",
        "    return out\n",
        "\n",
        "  def tanh(self):\n",
        "    x = self.data\n",
        "    t = (math.exp(2*x) - 1) / (math.exp(2*x) + 1)\n",
        "    out = Value(t, (self, ), 'tanh')\n",
        "\n",
        "    def _backward():\n",
        "      self.grad = (1 - t**2) * out.grad\n",
        "    out._backward = _backward\n",
        "\n",
        "    return out\n",
        "\n",
        "  def backward(self):\n",
        "\n",
        "    topo = []\n",
        "    visited = set()\n",
        "    def build_topo(v):\n",
        "      if v not in visited:\n",
        "        visited.add(v)\n",
        "      for child in v._prev:\n",
        "        build_topo(child)\n",
        "      topo.append(v)\n",
        "    build_topo(self)\n",
        "\n",
        "    self.grad = 1.0\n",
        "    for node in reversed(topo):\n",
        "      node._backward()"
      ],
      "metadata": {
        "id": "2UpE7pDaKLsK"
      },
      "execution_count": null,
      "outputs": []
    },
    {
      "cell_type": "code",
      "source": [
        "from graphviz import Digraph\n",
        "\n",
        "def trace(root):\n",
        "  # builds a set of all nodes and edges in a graph\n",
        "  nodes, edges = set(), set()\n",
        "  def build(v):\n",
        "    if v not in nodes:\n",
        "      nodes.add(v)\n",
        "      for child in v._prev:\n",
        "        edges.add((child, v))\n",
        "        build(child)\n",
        "  build(root)\n",
        "  return nodes, edges\n",
        "\n",
        "def draw_dot(root):\n",
        "  dot = Digraph(format='svg', graph_attr={'rankdir': 'LR'}) # LR = left to right\n",
        "\n",
        "  nodes, edges = trace(root)\n",
        "  for n in nodes:\n",
        "    uid = str(id(n))\n",
        "    # for any value in the graph, create a rectangular ('record') node for it\n",
        "    dot.node(name = uid, label = \"{ %s | data %.4f | grad %.4f }\" % (n.label, n.data, n.grad), shape='record')\n",
        "    if n._op:\n",
        "      # if this value is a result of some operation, create an op node for it\n",
        "      dot.node(name = uid + n._op, label = n._op)\n",
        "      # and connect this node to it\n",
        "      dot.edge(uid + n._op, uid)\n",
        "\n",
        "  for n1, n2 in edges:\n",
        "    # connect n1 to the op node of n2\n",
        "    dot.edge(str(id(n1)), str(id(n2)) + n2._op)\n",
        "\n",
        "  return dot"
      ],
      "metadata": {
        "id": "i6PDPhNb5ARH"
      },
      "execution_count": null,
      "outputs": []
    },
    {
      "cell_type": "markdown",
      "source": [
        "## Backpropagation"
      ],
      "metadata": {
        "id": "YOEw4md9vMCq"
      }
    },
    {
      "cell_type": "code",
      "source": [
        "# inputs x1, x2\n",
        "x1 = Value(2.0, label='x1')\n",
        "x2 = Value(0.0, label='x2')\n",
        "\n",
        "# weights w1, w2\n",
        "w1 = Value(-3.0, label='w1')\n",
        "w2 = Value(1.0, label='w2')\n",
        "\n",
        "# bias\n",
        "b = Value(6.8813735870195432, label='b')\n",
        "\n",
        "x1w1 = x1 * w1; x1w1.label = 'x1*w1'\n",
        "x2w2 = x2 * w2; x2w2.label = 'x2*w2'\n",
        "x1w1x2w2 = x1w1 + x2w2; x1w1x2w2.label = 'x1*w1 + x2*w2'\n",
        "n = x1w1x2w2 + b; n.label = 'n'\n",
        "# ---\n",
        "e = (2*n).exp()\n",
        "o = (e-1) / (e+1); o.label = 'o'\n",
        "# ---\n",
        "draw_dot(o)"
      ],
      "metadata": {
        "id": "ADHTXrLsvT_R",
        "outputId": "49e88fd7-987f-4d3c-8f85-1b0b9d41865f",
        "colab": {
          "base_uri": "https://localhost:8080/",
          "height": 360
        }
      },
      "execution_count": null,
      "outputs": [
        {
          "output_type": "execute_result",
          "data": {
            "image/svg+xml": "<?xml version=\"1.0\" encoding=\"UTF-8\" standalone=\"no\"?>\n<!DOCTYPE svg PUBLIC \"-//W3C//DTD SVG 1.1//EN\"\n \"http://www.w3.org/Graphics/SVG/1.1/DTD/svg11.dtd\">\n<!-- Generated by graphviz version 2.43.0 (0)\n -->\n<!-- Title: %3 Pages: 1 -->\n<svg width=\"2940pt\" height=\"239pt\"\n viewBox=\"0.00 0.00 2940.00 239.00\" xmlns=\"http://www.w3.org/2000/svg\" xmlns:xlink=\"http://www.w3.org/1999/xlink\">\n<g id=\"graph0\" class=\"graph\" transform=\"scale(1 1) rotate(0) translate(4 235)\">\n<title>%3</title>\n<polygon fill=\"white\" stroke=\"transparent\" points=\"-4,4 -4,-235 2936,-235 2936,4 -4,4\"/>\n<!-- 136125141520384 -->\n<g id=\"node1\" class=\"node\">\n<title>136125141520384</title>\n<polygon fill=\"none\" stroke=\"black\" points=\"4,-194.5 4,-230.5 196,-230.5 196,-194.5 4,-194.5\"/>\n<text text-anchor=\"middle\" x=\"19\" y=\"-208.8\" font-family=\"Times,serif\" font-size=\"14.00\">x1</text>\n<polyline fill=\"none\" stroke=\"black\" points=\"34,-194.5 34,-230.5 \"/>\n<text text-anchor=\"middle\" x=\"74\" y=\"-208.8\" font-family=\"Times,serif\" font-size=\"14.00\">data 2.0000</text>\n<polyline fill=\"none\" stroke=\"black\" points=\"114,-194.5 114,-230.5 \"/>\n<text text-anchor=\"middle\" x=\"155\" y=\"-208.8\" font-family=\"Times,serif\" font-size=\"14.00\">grad 0.0000</text>\n</g>\n<!-- 136125141703968* -->\n<g id=\"node16\" class=\"node\">\n<title>136125141703968*</title>\n<ellipse fill=\"none\" stroke=\"black\" cx=\"263\" cy=\"-157.5\" rx=\"27\" ry=\"18\"/>\n<text text-anchor=\"middle\" x=\"263\" y=\"-153.8\" font-family=\"Times,serif\" font-size=\"14.00\">*</text>\n</g>\n<!-- 136125141520384&#45;&gt;136125141703968* -->\n<g id=\"edge16\" class=\"edge\">\n<title>136125141520384&#45;&gt;136125141703968*</title>\n<path fill=\"none\" stroke=\"black\" d=\"M172.53,-194.44C181.84,-191.67 191.2,-188.67 200,-185.5 210.53,-181.71 221.75,-176.9 231.72,-172.33\"/>\n<polygon fill=\"black\" stroke=\"black\" points=\"233.25,-175.48 240.82,-168.07 230.28,-169.14 233.25,-175.48\"/>\n</g>\n<!-- 136125141701664 -->\n<g id=\"node2\" class=\"node\">\n<title>136125141701664</title>\n<polygon fill=\"none\" stroke=\"black\" points=\"1692.5,-0.5 1692.5,-36.5 1874.5,-36.5 1874.5,-0.5 1692.5,-0.5\"/>\n<text text-anchor=\"middle\" x=\"1702.5\" y=\"-14.8\" font-family=\"Times,serif\" font-size=\"14.00\"> </text>\n<polyline fill=\"none\" stroke=\"black\" points=\"1712.5,-0.5 1712.5,-36.5 \"/>\n<text text-anchor=\"middle\" x=\"1752.5\" y=\"-14.8\" font-family=\"Times,serif\" font-size=\"14.00\">data 1.0000</text>\n<polyline fill=\"none\" stroke=\"black\" points=\"1792.5,-0.5 1792.5,-36.5 \"/>\n<text text-anchor=\"middle\" x=\"1833.5\" y=\"-14.8\" font-family=\"Times,serif\" font-size=\"14.00\">grad 0.0000</text>\n</g>\n<!-- 136125141706704+ -->\n<g id=\"node27\" class=\"node\">\n<title>136125141706704+</title>\n<ellipse fill=\"none\" stroke=\"black\" cx=\"1940\" cy=\"-45.5\" rx=\"27\" ry=\"18\"/>\n<text text-anchor=\"middle\" x=\"1940\" y=\"-41.8\" font-family=\"Times,serif\" font-size=\"14.00\">+</text>\n</g>\n<!-- 136125141701664&#45;&gt;136125141706704+ -->\n<g id=\"edge28\" class=\"edge\">\n<title>136125141701664&#45;&gt;136125141706704+</title>\n<path fill=\"none\" stroke=\"black\" d=\"M1874.82,-34.28C1885.07,-36.08 1895.01,-37.81 1903.88,-39.36\"/>\n<polygon fill=\"black\" stroke=\"black\" points=\"1903.3,-42.81 1913.75,-41.09 1904.5,-35.92 1903.3,-42.81\"/>\n</g>\n<!-- 136125141708336 -->\n<g id=\"node3\" class=\"node\">\n<title>136125141708336</title>\n<polygon fill=\"none\" stroke=\"black\" points=\"1690,-110.5 1690,-146.5 1877,-146.5 1877,-110.5 1690,-110.5\"/>\n<text text-anchor=\"middle\" x=\"1700\" y=\"-124.8\" font-family=\"Times,serif\" font-size=\"14.00\"> </text>\n<polyline fill=\"none\" stroke=\"black\" points=\"1710,-110.5 1710,-146.5 \"/>\n<text text-anchor=\"middle\" x=\"1752.5\" y=\"-124.8\" font-family=\"Times,serif\" font-size=\"14.00\">data &#45;1.0000</text>\n<polyline fill=\"none\" stroke=\"black\" points=\"1795,-110.5 1795,-146.5 \"/>\n<text text-anchor=\"middle\" x=\"1836\" y=\"-124.8\" font-family=\"Times,serif\" font-size=\"14.00\">grad 0.0000</text>\n</g>\n<!-- 136125141698784+ -->\n<g id=\"node12\" class=\"node\">\n<title>136125141698784+</title>\n<ellipse fill=\"none\" stroke=\"black\" cx=\"1940\" cy=\"-100.5\" rx=\"27\" ry=\"18\"/>\n<text text-anchor=\"middle\" x=\"1940\" y=\"-96.8\" font-family=\"Times,serif\" font-size=\"14.00\">+</text>\n</g>\n<!-- 136125141708336&#45;&gt;136125141698784+ -->\n<g id=\"edge11\" class=\"edge\">\n<title>136125141708336&#45;&gt;136125141698784+</title>\n<path fill=\"none\" stroke=\"black\" d=\"M1877.05,-111.73C1886.54,-110.01 1895.71,-108.35 1903.95,-106.85\"/>\n<polygon fill=\"black\" stroke=\"black\" points=\"1904.64,-110.28 1913.85,-105.06 1903.39,-103.4 1904.64,-110.28\"/>\n</g>\n<!-- 136125141707856 -->\n<g id=\"node4\" class=\"node\">\n<title>136125141707856</title>\n<polygon fill=\"none\" stroke=\"black\" points=\"672,-111.5 672,-147.5 945,-147.5 945,-111.5 672,-111.5\"/>\n<text text-anchor=\"middle\" x=\"725\" y=\"-125.8\" font-family=\"Times,serif\" font-size=\"14.00\">x1*w1 + x2*w2</text>\n<polyline fill=\"none\" stroke=\"black\" points=\"778,-111.5 778,-147.5 \"/>\n<text text-anchor=\"middle\" x=\"820.5\" y=\"-125.8\" font-family=\"Times,serif\" font-size=\"14.00\">data &#45;6.0000</text>\n<polyline fill=\"none\" stroke=\"black\" points=\"863,-111.5 863,-147.5 \"/>\n<text text-anchor=\"middle\" x=\"904\" y=\"-125.8\" font-family=\"Times,serif\" font-size=\"14.00\">grad 0.0000</text>\n</g>\n<!-- 136125141708144+ -->\n<g id=\"node21\" class=\"node\">\n<title>136125141708144+</title>\n<ellipse fill=\"none\" stroke=\"black\" cx=\"1008\" cy=\"-101.5\" rx=\"27\" ry=\"18\"/>\n<text text-anchor=\"middle\" x=\"1008\" y=\"-97.8\" font-family=\"Times,serif\" font-size=\"14.00\">+</text>\n</g>\n<!-- 136125141707856&#45;&gt;136125141708144+ -->\n<g id=\"edge19\" class=\"edge\">\n<title>136125141707856&#45;&gt;136125141708144+</title>\n<path fill=\"none\" stroke=\"black\" d=\"M936.53,-111.49C949.09,-109.71 960.99,-108.02 971.3,-106.56\"/>\n<polygon fill=\"black\" stroke=\"black\" points=\"972.03,-109.99 981.44,-105.12 971.05,-103.06 972.03,-109.99\"/>\n</g>\n<!-- 136125141707856+ -->\n<g id=\"node5\" class=\"node\">\n<title>136125141707856+</title>\n<ellipse fill=\"none\" stroke=\"black\" cx=\"609\" cy=\"-129.5\" rx=\"27\" ry=\"18\"/>\n<text text-anchor=\"middle\" x=\"609\" y=\"-125.8\" font-family=\"Times,serif\" font-size=\"14.00\">+</text>\n</g>\n<!-- 136125141707856+&#45;&gt;136125141707856 -->\n<g id=\"edge1\" class=\"edge\">\n<title>136125141707856+&#45;&gt;136125141707856</title>\n<path fill=\"none\" stroke=\"black\" d=\"M636.23,-129.5C643.7,-129.5 652.41,-129.5 661.87,-129.5\"/>\n<polygon fill=\"black\" stroke=\"black\" points=\"661.98,-133 671.98,-129.5 661.98,-126 661.98,-133\"/>\n</g>\n<!-- 136125141712464 -->\n<g id=\"node6\" class=\"node\">\n<title>136125141712464</title>\n<polygon fill=\"none\" stroke=\"black\" points=\"2.5,-84.5 2.5,-120.5 197.5,-120.5 197.5,-84.5 2.5,-84.5\"/>\n<text text-anchor=\"middle\" x=\"19\" y=\"-98.8\" font-family=\"Times,serif\" font-size=\"14.00\">w2</text>\n<polyline fill=\"none\" stroke=\"black\" points=\"35.5,-84.5 35.5,-120.5 \"/>\n<text text-anchor=\"middle\" x=\"75.5\" y=\"-98.8\" font-family=\"Times,serif\" font-size=\"14.00\">data 1.0000</text>\n<polyline fill=\"none\" stroke=\"black\" points=\"115.5,-84.5 115.5,-120.5 \"/>\n<text text-anchor=\"middle\" x=\"156.5\" y=\"-98.8\" font-family=\"Times,serif\" font-size=\"14.00\">grad 0.0000</text>\n</g>\n<!-- 136125141704448* -->\n<g id=\"node14\" class=\"node\">\n<title>136125141704448*</title>\n<ellipse fill=\"none\" stroke=\"black\" cx=\"263\" cy=\"-102.5\" rx=\"27\" ry=\"18\"/>\n<text text-anchor=\"middle\" x=\"263\" y=\"-98.8\" font-family=\"Times,serif\" font-size=\"14.00\">*</text>\n</g>\n<!-- 136125141712464&#45;&gt;136125141704448* -->\n<g id=\"edge26\" class=\"edge\">\n<title>136125141712464&#45;&gt;136125141704448*</title>\n<path fill=\"none\" stroke=\"black\" d=\"M197.91,-102.5C207.65,-102.5 217.05,-102.5 225.52,-102.5\"/>\n<polygon fill=\"black\" stroke=\"black\" points=\"225.7,-106 235.7,-102.5 225.7,-99 225.7,-106\"/>\n</g>\n<!-- 136125141696672 -->\n<g id=\"node7\" class=\"node\">\n<title>136125141696672</title>\n<polygon fill=\"none\" stroke=\"black\" points=\"2439,-31.5 2439,-67.5 2621,-67.5 2621,-31.5 2439,-31.5\"/>\n<text text-anchor=\"middle\" x=\"2449\" y=\"-45.8\" font-family=\"Times,serif\" font-size=\"14.00\"> </text>\n<polyline fill=\"none\" stroke=\"black\" points=\"2459,-31.5 2459,-67.5 \"/>\n<text text-anchor=\"middle\" x=\"2499\" y=\"-45.8\" font-family=\"Times,serif\" font-size=\"14.00\">data 0.1464</text>\n<polyline fill=\"none\" stroke=\"black\" points=\"2539,-31.5 2539,-67.5 \"/>\n<text text-anchor=\"middle\" x=\"2580\" y=\"-45.8\" font-family=\"Times,serif\" font-size=\"14.00\">grad 0.0000</text>\n</g>\n<!-- 136125141696816* -->\n<g id=\"node18\" class=\"node\">\n<title>136125141696816*</title>\n<ellipse fill=\"none\" stroke=\"black\" cx=\"2684\" cy=\"-72.5\" rx=\"27\" ry=\"18\"/>\n<text text-anchor=\"middle\" x=\"2684\" y=\"-68.8\" font-family=\"Times,serif\" font-size=\"14.00\">*</text>\n</g>\n<!-- 136125141696672&#45;&gt;136125141696816* -->\n<g id=\"edge24\" class=\"edge\">\n<title>136125141696672&#45;&gt;136125141696816*</title>\n<path fill=\"none\" stroke=\"black\" d=\"M2621.18,-63.15C2630.42,-64.54 2639.38,-65.9 2647.47,-67.12\"/>\n<polygon fill=\"black\" stroke=\"black\" points=\"2647.15,-70.61 2657.56,-68.65 2648.19,-63.69 2647.15,-70.61\"/>\n</g>\n<!-- 136125141696672**&#45;1 -->\n<g id=\"node8\" class=\"node\">\n<title>136125141696672**&#45;1</title>\n<ellipse fill=\"none\" stroke=\"black\" cx=\"2312\" cy=\"-45.5\" rx=\"27\" ry=\"18\"/>\n<text text-anchor=\"middle\" x=\"2312\" y=\"-41.8\" font-family=\"Times,serif\" font-size=\"14.00\">**&#45;1</text>\n</g>\n<!-- 136125141696672**&#45;1&#45;&gt;136125141696672 -->\n<g id=\"edge2\" class=\"edge\">\n<title>136125141696672**&#45;1&#45;&gt;136125141696672</title>\n<path fill=\"none\" stroke=\"black\" d=\"M2339.05,-45.98C2361.53,-46.4 2395.48,-47.03 2428.5,-47.64\"/>\n<polygon fill=\"black\" stroke=\"black\" points=\"2428.64,-51.14 2438.7,-47.83 2428.77,-44.14 2428.64,-51.14\"/>\n</g>\n<!-- 136125141700512 -->\n<g id=\"node9\" class=\"node\">\n<title>136125141700512</title>\n<polygon fill=\"none\" stroke=\"black\" points=\"1072.5,-28.5 1072.5,-64.5 1254.5,-64.5 1254.5,-28.5 1072.5,-28.5\"/>\n<text text-anchor=\"middle\" x=\"1082.5\" y=\"-42.8\" font-family=\"Times,serif\" font-size=\"14.00\"> </text>\n<polyline fill=\"none\" stroke=\"black\" points=\"1092.5,-28.5 1092.5,-64.5 \"/>\n<text text-anchor=\"middle\" x=\"1132.5\" y=\"-42.8\" font-family=\"Times,serif\" font-size=\"14.00\">data 2.0000</text>\n<polyline fill=\"none\" stroke=\"black\" points=\"1172.5,-28.5 1172.5,-64.5 \"/>\n<text text-anchor=\"middle\" x=\"1213.5\" y=\"-42.8\" font-family=\"Times,serif\" font-size=\"14.00\">grad 0.0000</text>\n</g>\n<!-- 136125141700992* -->\n<g id=\"node23\" class=\"node\">\n<title>136125141700992*</title>\n<ellipse fill=\"none\" stroke=\"black\" cx=\"1319\" cy=\"-73.5\" rx=\"27\" ry=\"18\"/>\n<text text-anchor=\"middle\" x=\"1319\" y=\"-69.8\" font-family=\"Times,serif\" font-size=\"14.00\">*</text>\n</g>\n<!-- 136125141700512&#45;&gt;136125141700992* -->\n<g id=\"edge21\" class=\"edge\">\n<title>136125141700512&#45;&gt;136125141700992*</title>\n<path fill=\"none\" stroke=\"black\" d=\"M1254.68,-62.36C1264.61,-64.11 1274.23,-65.8 1282.84,-67.32\"/>\n<polygon fill=\"black\" stroke=\"black\" points=\"1282.36,-70.78 1292.81,-69.07 1283.57,-63.89 1282.36,-70.78\"/>\n</g>\n<!-- 136125141518512 -->\n<g id=\"node10\" class=\"node\">\n<title>136125141518512</title>\n<polygon fill=\"none\" stroke=\"black\" points=\"4,-29.5 4,-65.5 196,-65.5 196,-29.5 4,-29.5\"/>\n<text text-anchor=\"middle\" x=\"19\" y=\"-43.8\" font-family=\"Times,serif\" font-size=\"14.00\">x2</text>\n<polyline fill=\"none\" stroke=\"black\" points=\"34,-29.5 34,-65.5 \"/>\n<text text-anchor=\"middle\" x=\"74\" y=\"-43.8\" font-family=\"Times,serif\" font-size=\"14.00\">data 0.0000</text>\n<polyline fill=\"none\" stroke=\"black\" points=\"114,-29.5 114,-65.5 \"/>\n<text text-anchor=\"middle\" x=\"155\" y=\"-43.8\" font-family=\"Times,serif\" font-size=\"14.00\">grad 0.0000</text>\n</g>\n<!-- 136125141518512&#45;&gt;136125141704448* -->\n<g id=\"edge25\" class=\"edge\">\n<title>136125141518512&#45;&gt;136125141704448*</title>\n<path fill=\"none\" stroke=\"black\" d=\"M169.28,-65.5C179.65,-68.61 190.16,-71.98 200,-75.5 210.28,-79.17 221.28,-83.74 231.11,-88.07\"/>\n<polygon fill=\"black\" stroke=\"black\" points=\"229.93,-91.37 240.48,-92.27 232.79,-84.99 229.93,-91.37\"/>\n</g>\n<!-- 136125141698784 -->\n<g id=\"node11\" class=\"node\">\n<title>136125141698784</title>\n<polygon fill=\"none\" stroke=\"black\" points=\"2221,-82.5 2221,-118.5 2403,-118.5 2403,-82.5 2221,-82.5\"/>\n<text text-anchor=\"middle\" x=\"2231\" y=\"-96.8\" font-family=\"Times,serif\" font-size=\"14.00\"> </text>\n<polyline fill=\"none\" stroke=\"black\" points=\"2241,-82.5 2241,-118.5 \"/>\n<text text-anchor=\"middle\" x=\"2281\" y=\"-96.8\" font-family=\"Times,serif\" font-size=\"14.00\">data 4.8284</text>\n<polyline fill=\"none\" stroke=\"black\" points=\"2321,-82.5 2321,-118.5 \"/>\n<text text-anchor=\"middle\" x=\"2362\" y=\"-96.8\" font-family=\"Times,serif\" font-size=\"14.00\">grad 0.0000</text>\n</g>\n<!-- 136125141698784&#45;&gt;136125141696816* -->\n<g id=\"edge20\" class=\"edge\">\n<title>136125141698784&#45;&gt;136125141696816*</title>\n<path fill=\"none\" stroke=\"black\" d=\"M2403.31,-93.9C2464.7,-89.37 2547.76,-83.19 2621,-77.5 2629.42,-76.85 2638.48,-76.13 2647.01,-75.44\"/>\n<polygon fill=\"black\" stroke=\"black\" points=\"2647.37,-78.92 2657.06,-74.63 2646.81,-71.94 2647.37,-78.92\"/>\n</g>\n<!-- 136125141698784+&#45;&gt;136125141698784 -->\n<g id=\"edge3\" class=\"edge\">\n<title>136125141698784+&#45;&gt;136125141698784</title>\n<path fill=\"none\" stroke=\"black\" d=\"M1967.02,-100.5C2016.84,-100.5 2128.08,-100.5 2210.65,-100.5\"/>\n<polygon fill=\"black\" stroke=\"black\" points=\"2210.82,-104 2220.82,-100.5 2210.82,-97 2210.82,-104\"/>\n</g>\n<!-- 136125141704448 -->\n<g id=\"node13\" class=\"node\">\n<title>136125141704448</title>\n<polygon fill=\"none\" stroke=\"black\" points=\"328.5,-84.5 328.5,-120.5 543.5,-120.5 543.5,-84.5 328.5,-84.5\"/>\n<text text-anchor=\"middle\" x=\"355\" y=\"-98.8\" font-family=\"Times,serif\" font-size=\"14.00\">x2*w2</text>\n<polyline fill=\"none\" stroke=\"black\" points=\"381.5,-84.5 381.5,-120.5 \"/>\n<text text-anchor=\"middle\" x=\"421.5\" y=\"-98.8\" font-family=\"Times,serif\" font-size=\"14.00\">data 0.0000</text>\n<polyline fill=\"none\" stroke=\"black\" points=\"461.5,-84.5 461.5,-120.5 \"/>\n<text text-anchor=\"middle\" x=\"502.5\" y=\"-98.8\" font-family=\"Times,serif\" font-size=\"14.00\">grad 0.0000</text>\n</g>\n<!-- 136125141704448&#45;&gt;136125141707856+ -->\n<g id=\"edge27\" class=\"edge\">\n<title>136125141704448&#45;&gt;136125141707856+</title>\n<path fill=\"none\" stroke=\"black\" d=\"M543.84,-119.37C554.01,-120.98 563.76,-122.51 572.44,-123.89\"/>\n<polygon fill=\"black\" stroke=\"black\" points=\"572.05,-127.37 582.47,-125.47 573.14,-120.45 572.05,-127.37\"/>\n</g>\n<!-- 136125141704448*&#45;&gt;136125141704448 -->\n<g id=\"edge4\" class=\"edge\">\n<title>136125141704448*&#45;&gt;136125141704448</title>\n<path fill=\"none\" stroke=\"black\" d=\"M290.34,-102.5C298.51,-102.5 308.08,-102.5 318.36,-102.5\"/>\n<polygon fill=\"black\" stroke=\"black\" points=\"318.39,-106 328.39,-102.5 318.39,-99 318.39,-106\"/>\n</g>\n<!-- 136125141703968 -->\n<g id=\"node15\" class=\"node\">\n<title>136125141703968</title>\n<polygon fill=\"none\" stroke=\"black\" points=\"326,-139.5 326,-175.5 546,-175.5 546,-139.5 326,-139.5\"/>\n<text text-anchor=\"middle\" x=\"352.5\" y=\"-153.8\" font-family=\"Times,serif\" font-size=\"14.00\">x1*w1</text>\n<polyline fill=\"none\" stroke=\"black\" points=\"379,-139.5 379,-175.5 \"/>\n<text text-anchor=\"middle\" x=\"421.5\" y=\"-153.8\" font-family=\"Times,serif\" font-size=\"14.00\">data &#45;6.0000</text>\n<polyline fill=\"none\" stroke=\"black\" points=\"464,-139.5 464,-175.5 \"/>\n<text text-anchor=\"middle\" x=\"505\" y=\"-153.8\" font-family=\"Times,serif\" font-size=\"14.00\">grad 0.0000</text>\n</g>\n<!-- 136125141703968&#45;&gt;136125141707856+ -->\n<g id=\"edge23\" class=\"edge\">\n<title>136125141703968&#45;&gt;136125141707856+</title>\n<path fill=\"none\" stroke=\"black\" d=\"M546.27,-139.61C555.64,-138.07 564.6,-136.61 572.65,-135.29\"/>\n<polygon fill=\"black\" stroke=\"black\" points=\"573.35,-138.72 582.65,-133.65 572.22,-131.81 573.35,-138.72\"/>\n</g>\n<!-- 136125141703968*&#45;&gt;136125141703968 -->\n<g id=\"edge5\" class=\"edge\">\n<title>136125141703968*&#45;&gt;136125141703968</title>\n<path fill=\"none\" stroke=\"black\" d=\"M290.34,-157.5C297.77,-157.5 306.37,-157.5 315.6,-157.5\"/>\n<polygon fill=\"black\" stroke=\"black\" points=\"315.84,-161 325.84,-157.5 315.84,-154 315.84,-161\"/>\n</g>\n<!-- 136125141696816 -->\n<g id=\"node17\" class=\"node\">\n<title>136125141696816</title>\n<polygon fill=\"none\" stroke=\"black\" points=\"2747,-54.5 2747,-90.5 2932,-90.5 2932,-54.5 2747,-54.5\"/>\n<text text-anchor=\"middle\" x=\"2758.5\" y=\"-68.8\" font-family=\"Times,serif\" font-size=\"14.00\">o</text>\n<polyline fill=\"none\" stroke=\"black\" points=\"2770,-54.5 2770,-90.5 \"/>\n<text text-anchor=\"middle\" x=\"2810\" y=\"-68.8\" font-family=\"Times,serif\" font-size=\"14.00\">data 0.7071</text>\n<polyline fill=\"none\" stroke=\"black\" points=\"2850,-54.5 2850,-90.5 \"/>\n<text text-anchor=\"middle\" x=\"2891\" y=\"-68.8\" font-family=\"Times,serif\" font-size=\"14.00\">grad 0.0000</text>\n</g>\n<!-- 136125141696816*&#45;&gt;136125141696816 -->\n<g id=\"edge6\" class=\"edge\">\n<title>136125141696816*&#45;&gt;136125141696816</title>\n<path fill=\"none\" stroke=\"black\" d=\"M2711.04,-72.5C2718.58,-72.5 2727.3,-72.5 2736.57,-72.5\"/>\n<polygon fill=\"black\" stroke=\"black\" points=\"2736.81,-76 2746.81,-72.5 2736.81,-69 2736.81,-76\"/>\n</g>\n<!-- 136125141706560 -->\n<g id=\"node19\" class=\"node\">\n<title>136125141706560</title>\n<polygon fill=\"none\" stroke=\"black\" points=\"716,-56.5 716,-92.5 901,-92.5 901,-56.5 716,-56.5\"/>\n<text text-anchor=\"middle\" x=\"727.5\" y=\"-70.8\" font-family=\"Times,serif\" font-size=\"14.00\">b</text>\n<polyline fill=\"none\" stroke=\"black\" points=\"739,-56.5 739,-92.5 \"/>\n<text text-anchor=\"middle\" x=\"779\" y=\"-70.8\" font-family=\"Times,serif\" font-size=\"14.00\">data 6.8814</text>\n<polyline fill=\"none\" stroke=\"black\" points=\"819,-56.5 819,-92.5 \"/>\n<text text-anchor=\"middle\" x=\"860\" y=\"-70.8\" font-family=\"Times,serif\" font-size=\"14.00\">grad 0.0000</text>\n</g>\n<!-- 136125141706560&#45;&gt;136125141708144+ -->\n<g id=\"edge18\" class=\"edge\">\n<title>136125141706560&#45;&gt;136125141708144+</title>\n<path fill=\"none\" stroke=\"black\" d=\"M901.02,-87.01C926,-90.43 951.59,-93.93 971.37,-96.63\"/>\n<polygon fill=\"black\" stroke=\"black\" points=\"971.05,-100.12 981.43,-98.01 972,-93.18 971.05,-100.12\"/>\n</g>\n<!-- 136125141708144 -->\n<g id=\"node20\" class=\"node\">\n<title>136125141708144</title>\n<polygon fill=\"none\" stroke=\"black\" points=\"1071,-83.5 1071,-119.5 1256,-119.5 1256,-83.5 1071,-83.5\"/>\n<text text-anchor=\"middle\" x=\"1082.5\" y=\"-97.8\" font-family=\"Times,serif\" font-size=\"14.00\">n</text>\n<polyline fill=\"none\" stroke=\"black\" points=\"1094,-83.5 1094,-119.5 \"/>\n<text text-anchor=\"middle\" x=\"1134\" y=\"-97.8\" font-family=\"Times,serif\" font-size=\"14.00\">data 0.8814</text>\n<polyline fill=\"none\" stroke=\"black\" points=\"1174,-83.5 1174,-119.5 \"/>\n<text text-anchor=\"middle\" x=\"1215\" y=\"-97.8\" font-family=\"Times,serif\" font-size=\"14.00\">grad 0.0000</text>\n</g>\n<!-- 136125141708144&#45;&gt;136125141700992* -->\n<g id=\"edge12\" class=\"edge\">\n<title>136125141708144&#45;&gt;136125141700992*</title>\n<path fill=\"none\" stroke=\"black\" d=\"M1256.01,-84.81C1265.49,-83.08 1274.66,-81.41 1282.9,-79.9\"/>\n<polygon fill=\"black\" stroke=\"black\" points=\"1283.6,-83.33 1292.81,-78.09 1282.35,-76.45 1283.6,-83.33\"/>\n</g>\n<!-- 136125141708144+&#45;&gt;136125141708144 -->\n<g id=\"edge7\" class=\"edge\">\n<title>136125141708144+&#45;&gt;136125141708144</title>\n<path fill=\"none\" stroke=\"black\" d=\"M1035.04,-101.5C1042.58,-101.5 1051.3,-101.5 1060.57,-101.5\"/>\n<polygon fill=\"black\" stroke=\"black\" points=\"1060.81,-105 1070.81,-101.5 1060.81,-98 1060.81,-105\"/>\n</g>\n<!-- 136125141700992 -->\n<g id=\"node22\" class=\"node\">\n<title>136125141700992</title>\n<polygon fill=\"none\" stroke=\"black\" points=\"1382,-55.5 1382,-91.5 1564,-91.5 1564,-55.5 1382,-55.5\"/>\n<text text-anchor=\"middle\" x=\"1392\" y=\"-69.8\" font-family=\"Times,serif\" font-size=\"14.00\"> </text>\n<polyline fill=\"none\" stroke=\"black\" points=\"1402,-55.5 1402,-91.5 \"/>\n<text text-anchor=\"middle\" x=\"1442\" y=\"-69.8\" font-family=\"Times,serif\" font-size=\"14.00\">data 1.7627</text>\n<polyline fill=\"none\" stroke=\"black\" points=\"1482,-55.5 1482,-91.5 \"/>\n<text text-anchor=\"middle\" x=\"1523\" y=\"-69.8\" font-family=\"Times,serif\" font-size=\"14.00\">grad 0.0000</text>\n</g>\n<!-- 136125141708192exp -->\n<g id=\"node25\" class=\"node\">\n<title>136125141708192exp</title>\n<ellipse fill=\"none\" stroke=\"black\" cx=\"1627\" cy=\"-73.5\" rx=\"27\" ry=\"18\"/>\n<text text-anchor=\"middle\" x=\"1627\" y=\"-69.8\" font-family=\"Times,serif\" font-size=\"14.00\">exp</text>\n</g>\n<!-- 136125141700992&#45;&gt;136125141708192exp -->\n<g id=\"edge14\" class=\"edge\">\n<title>136125141700992&#45;&gt;136125141708192exp</title>\n<path fill=\"none\" stroke=\"black\" d=\"M1564.18,-73.5C1573.14,-73.5 1581.83,-73.5 1589.73,-73.5\"/>\n<polygon fill=\"black\" stroke=\"black\" points=\"1589.96,-77 1599.96,-73.5 1589.96,-70 1589.96,-77\"/>\n</g>\n<!-- 136125141700992*&#45;&gt;136125141700992 -->\n<g id=\"edge8\" class=\"edge\">\n<title>136125141700992*&#45;&gt;136125141700992</title>\n<path fill=\"none\" stroke=\"black\" d=\"M1346.13,-73.5C1353.67,-73.5 1362.39,-73.5 1371.64,-73.5\"/>\n<polygon fill=\"black\" stroke=\"black\" points=\"1371.87,-77 1381.87,-73.5 1371.87,-70 1371.87,-77\"/>\n</g>\n<!-- 136125141708192 -->\n<g id=\"node24\" class=\"node\">\n<title>136125141708192</title>\n<polygon fill=\"none\" stroke=\"black\" points=\"1692.5,-55.5 1692.5,-91.5 1874.5,-91.5 1874.5,-55.5 1692.5,-55.5\"/>\n<text text-anchor=\"middle\" x=\"1702.5\" y=\"-69.8\" font-family=\"Times,serif\" font-size=\"14.00\"> </text>\n<polyline fill=\"none\" stroke=\"black\" points=\"1712.5,-55.5 1712.5,-91.5 \"/>\n<text text-anchor=\"middle\" x=\"1752.5\" y=\"-69.8\" font-family=\"Times,serif\" font-size=\"14.00\">data 5.8284</text>\n<polyline fill=\"none\" stroke=\"black\" points=\"1792.5,-55.5 1792.5,-91.5 \"/>\n<text text-anchor=\"middle\" x=\"1833.5\" y=\"-69.8\" font-family=\"Times,serif\" font-size=\"14.00\">grad 0.0000</text>\n</g>\n<!-- 136125141708192&#45;&gt;136125141698784+ -->\n<g id=\"edge22\" class=\"edge\">\n<title>136125141708192&#45;&gt;136125141698784+</title>\n<path fill=\"none\" stroke=\"black\" d=\"M1874.82,-89.28C1885.07,-91.08 1895.01,-92.81 1903.88,-94.36\"/>\n<polygon fill=\"black\" stroke=\"black\" points=\"1903.3,-97.81 1913.75,-96.09 1904.5,-90.92 1903.3,-97.81\"/>\n</g>\n<!-- 136125141708192&#45;&gt;136125141706704+ -->\n<g id=\"edge15\" class=\"edge\">\n<title>136125141708192&#45;&gt;136125141706704+</title>\n<path fill=\"none\" stroke=\"black\" d=\"M1874.82,-57.13C1885.07,-55.27 1895.01,-53.47 1903.88,-51.87\"/>\n<polygon fill=\"black\" stroke=\"black\" points=\"1904.54,-55.3 1913.75,-50.08 1903.29,-48.42 1904.54,-55.3\"/>\n</g>\n<!-- 136125141708192exp&#45;&gt;136125141708192 -->\n<g id=\"edge9\" class=\"edge\">\n<title>136125141708192exp&#45;&gt;136125141708192</title>\n<path fill=\"none\" stroke=\"black\" d=\"M1654.21,-73.5C1662.34,-73.5 1671.85,-73.5 1681.94,-73.5\"/>\n<polygon fill=\"black\" stroke=\"black\" points=\"1682.19,-77 1692.19,-73.5 1682.19,-70 1682.19,-77\"/>\n</g>\n<!-- 136125141706704 -->\n<g id=\"node26\" class=\"node\">\n<title>136125141706704</title>\n<polygon fill=\"none\" stroke=\"black\" points=\"2003,-27.5 2003,-63.5 2185,-63.5 2185,-27.5 2003,-27.5\"/>\n<text text-anchor=\"middle\" x=\"2013\" y=\"-41.8\" font-family=\"Times,serif\" font-size=\"14.00\"> </text>\n<polyline fill=\"none\" stroke=\"black\" points=\"2023,-27.5 2023,-63.5 \"/>\n<text text-anchor=\"middle\" x=\"2063\" y=\"-41.8\" font-family=\"Times,serif\" font-size=\"14.00\">data 6.8284</text>\n<polyline fill=\"none\" stroke=\"black\" points=\"2103,-27.5 2103,-63.5 \"/>\n<text text-anchor=\"middle\" x=\"2144\" y=\"-41.8\" font-family=\"Times,serif\" font-size=\"14.00\">grad 0.0000</text>\n</g>\n<!-- 136125141706704&#45;&gt;136125141696672**&#45;1 -->\n<g id=\"edge17\" class=\"edge\">\n<title>136125141706704&#45;&gt;136125141696672**&#45;1</title>\n<path fill=\"none\" stroke=\"black\" d=\"M2185.04,-45.5C2216.5,-45.5 2250.05,-45.5 2274.61,-45.5\"/>\n<polygon fill=\"black\" stroke=\"black\" points=\"2274.89,-49 2284.89,-45.5 2274.89,-42 2274.89,-49\"/>\n</g>\n<!-- 136125141706704+&#45;&gt;136125141706704 -->\n<g id=\"edge10\" class=\"edge\">\n<title>136125141706704+&#45;&gt;136125141706704</title>\n<path fill=\"none\" stroke=\"black\" d=\"M1967.13,-45.5C1974.67,-45.5 1983.39,-45.5 1992.64,-45.5\"/>\n<polygon fill=\"black\" stroke=\"black\" points=\"1992.87,-49 2002.87,-45.5 1992.87,-42 1992.87,-49\"/>\n</g>\n<!-- 136125141518320 -->\n<g id=\"node28\" class=\"node\">\n<title>136125141518320</title>\n<polygon fill=\"none\" stroke=\"black\" points=\"0,-139.5 0,-175.5 200,-175.5 200,-139.5 0,-139.5\"/>\n<text text-anchor=\"middle\" x=\"16.5\" y=\"-153.8\" font-family=\"Times,serif\" font-size=\"14.00\">w1</text>\n<polyline fill=\"none\" stroke=\"black\" points=\"33,-139.5 33,-175.5 \"/>\n<text text-anchor=\"middle\" x=\"75.5\" y=\"-153.8\" font-family=\"Times,serif\" font-size=\"14.00\">data &#45;3.0000</text>\n<polyline fill=\"none\" stroke=\"black\" points=\"118,-139.5 118,-175.5 \"/>\n<text text-anchor=\"middle\" x=\"159\" y=\"-153.8\" font-family=\"Times,serif\" font-size=\"14.00\">grad 0.0000</text>\n</g>\n<!-- 136125141518320&#45;&gt;136125141703968* -->\n<g id=\"edge13\" class=\"edge\">\n<title>136125141518320&#45;&gt;136125141703968*</title>\n<path fill=\"none\" stroke=\"black\" d=\"M200.21,-157.5C209.2,-157.5 217.86,-157.5 225.7,-157.5\"/>\n<polygon fill=\"black\" stroke=\"black\" points=\"225.85,-161 235.85,-157.5 225.85,-154 225.85,-161\"/>\n</g>\n</g>\n</svg>\n",
            "text/plain": [
              "<graphviz.graphs.Digraph at 0x7bce1ab74400>"
            ]
          },
          "metadata": {},
          "execution_count": 5
        }
      ]
    },
    {
      "cell_type": "code",
      "source": [
        "o.backward()\n",
        "\n",
        "draw_dot(o)"
      ],
      "metadata": {
        "colab": {
          "base_uri": "https://localhost:8080/",
          "height": 360
        },
        "id": "iZ-Y8zR4Kp6q",
        "outputId": "518bb902-e711-479e-8e0b-9d8c3fb3e817"
      },
      "execution_count": null,
      "outputs": [
        {
          "output_type": "execute_result",
          "data": {
            "image/svg+xml": "<?xml version=\"1.0\" encoding=\"UTF-8\" standalone=\"no\"?>\n<!DOCTYPE svg PUBLIC \"-//W3C//DTD SVG 1.1//EN\"\n \"http://www.w3.org/Graphics/SVG/1.1/DTD/svg11.dtd\">\n<!-- Generated by graphviz version 2.43.0 (0)\n -->\n<!-- Title: %3 Pages: 1 -->\n<svg width=\"2951pt\" height=\"239pt\"\n viewBox=\"0.00 0.00 2951.00 239.00\" xmlns=\"http://www.w3.org/2000/svg\" xmlns:xlink=\"http://www.w3.org/1999/xlink\">\n<g id=\"graph0\" class=\"graph\" transform=\"scale(1 1) rotate(0) translate(4 235)\">\n<title>%3</title>\n<polygon fill=\"white\" stroke=\"transparent\" points=\"-4,4 -4,-235 2947,-235 2947,4 -4,4\"/>\n<!-- 136125141520384 -->\n<g id=\"node1\" class=\"node\">\n<title>136125141520384</title>\n<polygon fill=\"none\" stroke=\"black\" points=\"2,-194.5 2,-230.5 205,-230.5 205,-194.5 2,-194.5\"/>\n<text text-anchor=\"middle\" x=\"17\" y=\"-208.8\" font-family=\"Times,serif\" font-size=\"14.00\">x1</text>\n<polyline fill=\"none\" stroke=\"black\" points=\"32,-194.5 32,-230.5 \"/>\n<text text-anchor=\"middle\" x=\"72\" y=\"-208.8\" font-family=\"Times,serif\" font-size=\"14.00\">data 2.0000</text>\n<polyline fill=\"none\" stroke=\"black\" points=\"112,-194.5 112,-230.5 \"/>\n<text text-anchor=\"middle\" x=\"158.5\" y=\"-208.8\" font-family=\"Times,serif\" font-size=\"14.00\">grad &#45;16.8640</text>\n</g>\n<!-- 136125141703968* -->\n<g id=\"node16\" class=\"node\">\n<title>136125141703968*</title>\n<ellipse fill=\"none\" stroke=\"black\" cx=\"270\" cy=\"-157.5\" rx=\"27\" ry=\"18\"/>\n<text text-anchor=\"middle\" x=\"270\" y=\"-153.8\" font-family=\"Times,serif\" font-size=\"14.00\">*</text>\n</g>\n<!-- 136125141520384&#45;&gt;136125141703968* -->\n<g id=\"edge16\" class=\"edge\">\n<title>136125141520384&#45;&gt;136125141703968*</title>\n<path fill=\"none\" stroke=\"black\" d=\"M178.85,-194.48C188.4,-191.71 197.98,-188.7 207,-185.5 217.54,-181.76 228.77,-176.95 238.74,-172.38\"/>\n<polygon fill=\"black\" stroke=\"black\" points=\"240.27,-175.53 247.84,-168.11 237.3,-169.19 240.27,-175.53\"/>\n</g>\n<!-- 136125141701664 -->\n<g id=\"node2\" class=\"node\">\n<title>136125141701664</title>\n<polygon fill=\"none\" stroke=\"black\" points=\"1697.5,-0.5 1697.5,-36.5 1883.5,-36.5 1883.5,-0.5 1697.5,-0.5\"/>\n<text text-anchor=\"middle\" x=\"1707.5\" y=\"-14.8\" font-family=\"Times,serif\" font-size=\"14.00\"> </text>\n<polyline fill=\"none\" stroke=\"black\" points=\"1717.5,-0.5 1717.5,-36.5 \"/>\n<text text-anchor=\"middle\" x=\"1757.5\" y=\"-14.8\" font-family=\"Times,serif\" font-size=\"14.00\">data 1.0000</text>\n<polyline fill=\"none\" stroke=\"black\" points=\"1797.5,-0.5 1797.5,-36.5 \"/>\n<text text-anchor=\"middle\" x=\"1840.5\" y=\"-14.8\" font-family=\"Times,serif\" font-size=\"14.00\">grad &#45;0.1036</text>\n</g>\n<!-- 136125141706704+ -->\n<g id=\"node27\" class=\"node\">\n<title>136125141706704+</title>\n<ellipse fill=\"none\" stroke=\"black\" cx=\"1947\" cy=\"-45.5\" rx=\"27\" ry=\"18\"/>\n<text text-anchor=\"middle\" x=\"1947\" y=\"-41.8\" font-family=\"Times,serif\" font-size=\"14.00\">+</text>\n</g>\n<!-- 136125141701664&#45;&gt;136125141706704+ -->\n<g id=\"edge28\" class=\"edge\">\n<title>136125141701664&#45;&gt;136125141706704+</title>\n<path fill=\"none\" stroke=\"black\" d=\"M1883.6,-34.6C1893.15,-36.26 1902.37,-37.88 1910.68,-39.33\"/>\n<polygon fill=\"black\" stroke=\"black\" points=\"1910.2,-42.8 1920.65,-41.07 1911.4,-35.9 1910.2,-42.8\"/>\n</g>\n<!-- 136125141708336 -->\n<g id=\"node3\" class=\"node\">\n<title>136125141708336</title>\n<polygon fill=\"none\" stroke=\"black\" points=\"1697,-110.5 1697,-146.5 1884,-146.5 1884,-110.5 1697,-110.5\"/>\n<text text-anchor=\"middle\" x=\"1707\" y=\"-124.8\" font-family=\"Times,serif\" font-size=\"14.00\"> </text>\n<polyline fill=\"none\" stroke=\"black\" points=\"1717,-110.5 1717,-146.5 \"/>\n<text text-anchor=\"middle\" x=\"1759.5\" y=\"-124.8\" font-family=\"Times,serif\" font-size=\"14.00\">data &#45;1.0000</text>\n<polyline fill=\"none\" stroke=\"black\" points=\"1802,-110.5 1802,-146.5 \"/>\n<text text-anchor=\"middle\" x=\"1843\" y=\"-124.8\" font-family=\"Times,serif\" font-size=\"14.00\">grad 0.1464</text>\n</g>\n<!-- 136125141698784+ -->\n<g id=\"node12\" class=\"node\">\n<title>136125141698784+</title>\n<ellipse fill=\"none\" stroke=\"black\" cx=\"1947\" cy=\"-100.5\" rx=\"27\" ry=\"18\"/>\n<text text-anchor=\"middle\" x=\"1947\" y=\"-96.8\" font-family=\"Times,serif\" font-size=\"14.00\">+</text>\n</g>\n<!-- 136125141708336&#45;&gt;136125141698784+ -->\n<g id=\"edge11\" class=\"edge\">\n<title>136125141708336&#45;&gt;136125141698784+</title>\n<path fill=\"none\" stroke=\"black\" d=\"M1884.05,-111.73C1893.54,-110.01 1902.71,-108.35 1910.95,-106.85\"/>\n<polygon fill=\"black\" stroke=\"black\" points=\"1911.64,-110.28 1920.85,-105.06 1910.39,-103.4 1911.64,-110.28\"/>\n</g>\n<!-- 136125141707856 -->\n<g id=\"node4\" class=\"node\">\n<title>136125141707856</title>\n<polygon fill=\"none\" stroke=\"black\" points=\"679,-111.5 679,-147.5 952,-147.5 952,-111.5 679,-111.5\"/>\n<text text-anchor=\"middle\" x=\"732\" y=\"-125.8\" font-family=\"Times,serif\" font-size=\"14.00\">x1*w1 + x2*w2</text>\n<polyline fill=\"none\" stroke=\"black\" points=\"785,-111.5 785,-147.5 \"/>\n<text text-anchor=\"middle\" x=\"827.5\" y=\"-125.8\" font-family=\"Times,serif\" font-size=\"14.00\">data &#45;6.0000</text>\n<polyline fill=\"none\" stroke=\"black\" points=\"870,-111.5 870,-147.5 \"/>\n<text text-anchor=\"middle\" x=\"911\" y=\"-125.8\" font-family=\"Times,serif\" font-size=\"14.00\">grad 3.9142</text>\n</g>\n<!-- 136125141708144+ -->\n<g id=\"node21\" class=\"node\">\n<title>136125141708144+</title>\n<ellipse fill=\"none\" stroke=\"black\" cx=\"1015\" cy=\"-101.5\" rx=\"27\" ry=\"18\"/>\n<text text-anchor=\"middle\" x=\"1015\" y=\"-97.8\" font-family=\"Times,serif\" font-size=\"14.00\">+</text>\n</g>\n<!-- 136125141707856&#45;&gt;136125141708144+ -->\n<g id=\"edge19\" class=\"edge\">\n<title>136125141707856&#45;&gt;136125141708144+</title>\n<path fill=\"none\" stroke=\"black\" d=\"M943.53,-111.49C956.09,-109.71 967.99,-108.02 978.3,-106.56\"/>\n<polygon fill=\"black\" stroke=\"black\" points=\"979.03,-109.99 988.44,-105.12 978.05,-103.06 979.03,-109.99\"/>\n</g>\n<!-- 136125141707856+ -->\n<g id=\"node5\" class=\"node\">\n<title>136125141707856+</title>\n<ellipse fill=\"none\" stroke=\"black\" cx=\"616\" cy=\"-129.5\" rx=\"27\" ry=\"18\"/>\n<text text-anchor=\"middle\" x=\"616\" y=\"-125.8\" font-family=\"Times,serif\" font-size=\"14.00\">+</text>\n</g>\n<!-- 136125141707856+&#45;&gt;136125141707856 -->\n<g id=\"edge1\" class=\"edge\">\n<title>136125141707856+&#45;&gt;136125141707856</title>\n<path fill=\"none\" stroke=\"black\" d=\"M643.23,-129.5C650.7,-129.5 659.41,-129.5 668.87,-129.5\"/>\n<polygon fill=\"black\" stroke=\"black\" points=\"668.98,-133 678.98,-129.5 668.98,-126 668.98,-133\"/>\n</g>\n<!-- 136125141712464 -->\n<g id=\"node6\" class=\"node\">\n<title>136125141712464</title>\n<polygon fill=\"none\" stroke=\"black\" points=\"6,-84.5 6,-120.5 201,-120.5 201,-84.5 6,-84.5\"/>\n<text text-anchor=\"middle\" x=\"22.5\" y=\"-98.8\" font-family=\"Times,serif\" font-size=\"14.00\">w2</text>\n<polyline fill=\"none\" stroke=\"black\" points=\"39,-84.5 39,-120.5 \"/>\n<text text-anchor=\"middle\" x=\"79\" y=\"-98.8\" font-family=\"Times,serif\" font-size=\"14.00\">data 1.0000</text>\n<polyline fill=\"none\" stroke=\"black\" points=\"119,-84.5 119,-120.5 \"/>\n<text text-anchor=\"middle\" x=\"160\" y=\"-98.8\" font-family=\"Times,serif\" font-size=\"14.00\">grad 0.0000</text>\n</g>\n<!-- 136125141704448* -->\n<g id=\"node14\" class=\"node\">\n<title>136125141704448*</title>\n<ellipse fill=\"none\" stroke=\"black\" cx=\"270\" cy=\"-102.5\" rx=\"27\" ry=\"18\"/>\n<text text-anchor=\"middle\" x=\"270\" y=\"-98.8\" font-family=\"Times,serif\" font-size=\"14.00\">*</text>\n</g>\n<!-- 136125141712464&#45;&gt;136125141704448* -->\n<g id=\"edge26\" class=\"edge\">\n<title>136125141712464&#45;&gt;136125141704448*</title>\n<path fill=\"none\" stroke=\"black\" d=\"M201.14,-102.5C212.32,-102.5 223.13,-102.5 232.72,-102.5\"/>\n<polygon fill=\"black\" stroke=\"black\" points=\"232.97,-106 242.97,-102.5 232.97,-99 232.97,-106\"/>\n</g>\n<!-- 136125141696672 -->\n<g id=\"node7\" class=\"node\">\n<title>136125141696672</title>\n<polygon fill=\"none\" stroke=\"black\" points=\"2450,-31.5 2450,-67.5 2632,-67.5 2632,-31.5 2450,-31.5\"/>\n<text text-anchor=\"middle\" x=\"2460\" y=\"-45.8\" font-family=\"Times,serif\" font-size=\"14.00\"> </text>\n<polyline fill=\"none\" stroke=\"black\" points=\"2470,-31.5 2470,-67.5 \"/>\n<text text-anchor=\"middle\" x=\"2510\" y=\"-45.8\" font-family=\"Times,serif\" font-size=\"14.00\">data 0.1464</text>\n<polyline fill=\"none\" stroke=\"black\" points=\"2550,-31.5 2550,-67.5 \"/>\n<text text-anchor=\"middle\" x=\"2591\" y=\"-45.8\" font-family=\"Times,serif\" font-size=\"14.00\">grad 4.8284</text>\n</g>\n<!-- 136125141696816* -->\n<g id=\"node18\" class=\"node\">\n<title>136125141696816*</title>\n<ellipse fill=\"none\" stroke=\"black\" cx=\"2695\" cy=\"-72.5\" rx=\"27\" ry=\"18\"/>\n<text text-anchor=\"middle\" x=\"2695\" y=\"-68.8\" font-family=\"Times,serif\" font-size=\"14.00\">*</text>\n</g>\n<!-- 136125141696672&#45;&gt;136125141696816* -->\n<g id=\"edge24\" class=\"edge\">\n<title>136125141696672&#45;&gt;136125141696816*</title>\n<path fill=\"none\" stroke=\"black\" d=\"M2632.18,-63.15C2641.42,-64.54 2650.38,-65.9 2658.47,-67.12\"/>\n<polygon fill=\"black\" stroke=\"black\" points=\"2658.15,-70.61 2668.56,-68.65 2659.19,-63.69 2658.15,-70.61\"/>\n</g>\n<!-- 136125141696672**&#45;1 -->\n<g id=\"node8\" class=\"node\">\n<title>136125141696672**&#45;1</title>\n<ellipse fill=\"none\" stroke=\"black\" cx=\"2323\" cy=\"-45.5\" rx=\"27\" ry=\"18\"/>\n<text text-anchor=\"middle\" x=\"2323\" y=\"-41.8\" font-family=\"Times,serif\" font-size=\"14.00\">**&#45;1</text>\n</g>\n<!-- 136125141696672**&#45;1&#45;&gt;136125141696672 -->\n<g id=\"edge2\" class=\"edge\">\n<title>136125141696672**&#45;1&#45;&gt;136125141696672</title>\n<path fill=\"none\" stroke=\"black\" d=\"M2350.05,-45.98C2372.53,-46.4 2406.48,-47.03 2439.5,-47.64\"/>\n<polygon fill=\"black\" stroke=\"black\" points=\"2439.64,-51.14 2449.7,-47.83 2439.77,-44.14 2439.64,-51.14\"/>\n</g>\n<!-- 136125141700512 -->\n<g id=\"node9\" class=\"node\">\n<title>136125141700512</title>\n<polygon fill=\"none\" stroke=\"black\" points=\"1079.5,-28.5 1079.5,-64.5 1261.5,-64.5 1261.5,-28.5 1079.5,-28.5\"/>\n<text text-anchor=\"middle\" x=\"1089.5\" y=\"-42.8\" font-family=\"Times,serif\" font-size=\"14.00\"> </text>\n<polyline fill=\"none\" stroke=\"black\" points=\"1099.5,-28.5 1099.5,-64.5 \"/>\n<text text-anchor=\"middle\" x=\"1139.5\" y=\"-42.8\" font-family=\"Times,serif\" font-size=\"14.00\">data 2.0000</text>\n<polyline fill=\"none\" stroke=\"black\" points=\"1179.5,-28.5 1179.5,-64.5 \"/>\n<text text-anchor=\"middle\" x=\"1220.5\" y=\"-42.8\" font-family=\"Times,serif\" font-size=\"14.00\">grad 0.9726</text>\n</g>\n<!-- 136125141700992* -->\n<g id=\"node23\" class=\"node\">\n<title>136125141700992*</title>\n<ellipse fill=\"none\" stroke=\"black\" cx=\"1326\" cy=\"-73.5\" rx=\"27\" ry=\"18\"/>\n<text text-anchor=\"middle\" x=\"1326\" y=\"-69.8\" font-family=\"Times,serif\" font-size=\"14.00\">*</text>\n</g>\n<!-- 136125141700512&#45;&gt;136125141700992* -->\n<g id=\"edge21\" class=\"edge\">\n<title>136125141700512&#45;&gt;136125141700992*</title>\n<path fill=\"none\" stroke=\"black\" d=\"M1261.68,-62.36C1271.61,-64.11 1281.23,-65.8 1289.84,-67.32\"/>\n<polygon fill=\"black\" stroke=\"black\" points=\"1289.36,-70.78 1299.81,-69.07 1290.57,-63.89 1289.36,-70.78\"/>\n</g>\n<!-- 136125141518512 -->\n<g id=\"node10\" class=\"node\">\n<title>136125141518512</title>\n<polygon fill=\"none\" stroke=\"black\" points=\"7.5,-29.5 7.5,-65.5 199.5,-65.5 199.5,-29.5 7.5,-29.5\"/>\n<text text-anchor=\"middle\" x=\"22.5\" y=\"-43.8\" font-family=\"Times,serif\" font-size=\"14.00\">x2</text>\n<polyline fill=\"none\" stroke=\"black\" points=\"37.5,-29.5 37.5,-65.5 \"/>\n<text text-anchor=\"middle\" x=\"77.5\" y=\"-43.8\" font-family=\"Times,serif\" font-size=\"14.00\">data 0.0000</text>\n<polyline fill=\"none\" stroke=\"black\" points=\"117.5,-29.5 117.5,-65.5 \"/>\n<text text-anchor=\"middle\" x=\"158.5\" y=\"-43.8\" font-family=\"Times,serif\" font-size=\"14.00\">grad 5.6213</text>\n</g>\n<!-- 136125141518512&#45;&gt;136125141704448* -->\n<g id=\"edge25\" class=\"edge\">\n<title>136125141518512&#45;&gt;136125141704448*</title>\n<path fill=\"none\" stroke=\"black\" d=\"M175.76,-65.54C186.31,-68.62 197,-71.98 207,-75.5 217.3,-79.13 228.3,-83.68 238.13,-88.01\"/>\n<polygon fill=\"black\" stroke=\"black\" points=\"236.94,-91.32 247.5,-92.23 239.81,-84.93 236.94,-91.32\"/>\n</g>\n<!-- 136125141698784 -->\n<g id=\"node11\" class=\"node\">\n<title>136125141698784</title>\n<polygon fill=\"none\" stroke=\"black\" points=\"2232,-82.5 2232,-118.5 2414,-118.5 2414,-82.5 2232,-82.5\"/>\n<text text-anchor=\"middle\" x=\"2242\" y=\"-96.8\" font-family=\"Times,serif\" font-size=\"14.00\"> </text>\n<polyline fill=\"none\" stroke=\"black\" points=\"2252,-82.5 2252,-118.5 \"/>\n<text text-anchor=\"middle\" x=\"2292\" y=\"-96.8\" font-family=\"Times,serif\" font-size=\"14.00\">data 4.8284</text>\n<polyline fill=\"none\" stroke=\"black\" points=\"2332,-82.5 2332,-118.5 \"/>\n<text text-anchor=\"middle\" x=\"2373\" y=\"-96.8\" font-family=\"Times,serif\" font-size=\"14.00\">grad 0.1464</text>\n</g>\n<!-- 136125141698784&#45;&gt;136125141696816* -->\n<g id=\"edge20\" class=\"edge\">\n<title>136125141698784&#45;&gt;136125141696816*</title>\n<path fill=\"none\" stroke=\"black\" d=\"M2414.31,-93.9C2475.7,-89.37 2558.76,-83.19 2632,-77.5 2640.42,-76.85 2649.48,-76.13 2658.01,-75.44\"/>\n<polygon fill=\"black\" stroke=\"black\" points=\"2658.37,-78.92 2668.06,-74.63 2657.81,-71.94 2658.37,-78.92\"/>\n</g>\n<!-- 136125141698784+&#45;&gt;136125141698784 -->\n<g id=\"edge3\" class=\"edge\">\n<title>136125141698784+&#45;&gt;136125141698784</title>\n<path fill=\"none\" stroke=\"black\" d=\"M1974,-100.5C2024.46,-100.5 2138.06,-100.5 2221.81,-100.5\"/>\n<polygon fill=\"black\" stroke=\"black\" points=\"2221.87,-104 2231.87,-100.5 2221.87,-97 2221.87,-104\"/>\n</g>\n<!-- 136125141704448 -->\n<g id=\"node13\" class=\"node\">\n<title>136125141704448</title>\n<polygon fill=\"none\" stroke=\"black\" points=\"335.5,-84.5 335.5,-120.5 550.5,-120.5 550.5,-84.5 335.5,-84.5\"/>\n<text text-anchor=\"middle\" x=\"362\" y=\"-98.8\" font-family=\"Times,serif\" font-size=\"14.00\">x2*w2</text>\n<polyline fill=\"none\" stroke=\"black\" points=\"388.5,-84.5 388.5,-120.5 \"/>\n<text text-anchor=\"middle\" x=\"428.5\" y=\"-98.8\" font-family=\"Times,serif\" font-size=\"14.00\">data 0.0000</text>\n<polyline fill=\"none\" stroke=\"black\" points=\"468.5,-84.5 468.5,-120.5 \"/>\n<text text-anchor=\"middle\" x=\"509.5\" y=\"-98.8\" font-family=\"Times,serif\" font-size=\"14.00\">grad 5.6213</text>\n</g>\n<!-- 136125141704448&#45;&gt;136125141707856+ -->\n<g id=\"edge27\" class=\"edge\">\n<title>136125141704448&#45;&gt;136125141707856+</title>\n<path fill=\"none\" stroke=\"black\" d=\"M550.84,-119.37C561.01,-120.98 570.76,-122.51 579.44,-123.89\"/>\n<polygon fill=\"black\" stroke=\"black\" points=\"579.05,-127.37 589.47,-125.47 580.14,-120.45 579.05,-127.37\"/>\n</g>\n<!-- 136125141704448*&#45;&gt;136125141704448 -->\n<g id=\"edge4\" class=\"edge\">\n<title>136125141704448*&#45;&gt;136125141704448</title>\n<path fill=\"none\" stroke=\"black\" d=\"M297.34,-102.5C305.51,-102.5 315.08,-102.5 325.36,-102.5\"/>\n<polygon fill=\"black\" stroke=\"black\" points=\"325.39,-106 335.39,-102.5 325.39,-99 325.39,-106\"/>\n</g>\n<!-- 136125141703968 -->\n<g id=\"node15\" class=\"node\">\n<title>136125141703968</title>\n<polygon fill=\"none\" stroke=\"black\" points=\"333,-139.5 333,-175.5 553,-175.5 553,-139.5 333,-139.5\"/>\n<text text-anchor=\"middle\" x=\"359.5\" y=\"-153.8\" font-family=\"Times,serif\" font-size=\"14.00\">x1*w1</text>\n<polyline fill=\"none\" stroke=\"black\" points=\"386,-139.5 386,-175.5 \"/>\n<text text-anchor=\"middle\" x=\"428.5\" y=\"-153.8\" font-family=\"Times,serif\" font-size=\"14.00\">data &#45;6.0000</text>\n<polyline fill=\"none\" stroke=\"black\" points=\"471,-139.5 471,-175.5 \"/>\n<text text-anchor=\"middle\" x=\"512\" y=\"-153.8\" font-family=\"Times,serif\" font-size=\"14.00\">grad 5.6213</text>\n</g>\n<!-- 136125141703968&#45;&gt;136125141707856+ -->\n<g id=\"edge23\" class=\"edge\">\n<title>136125141703968&#45;&gt;136125141707856+</title>\n<path fill=\"none\" stroke=\"black\" d=\"M553.27,-139.61C562.64,-138.07 571.6,-136.61 579.65,-135.29\"/>\n<polygon fill=\"black\" stroke=\"black\" points=\"580.35,-138.72 589.65,-133.65 579.22,-131.81 580.35,-138.72\"/>\n</g>\n<!-- 136125141703968*&#45;&gt;136125141703968 -->\n<g id=\"edge5\" class=\"edge\">\n<title>136125141703968*&#45;&gt;136125141703968</title>\n<path fill=\"none\" stroke=\"black\" d=\"M297.34,-157.5C304.77,-157.5 313.37,-157.5 322.6,-157.5\"/>\n<polygon fill=\"black\" stroke=\"black\" points=\"322.84,-161 332.84,-157.5 322.84,-154 322.84,-161\"/>\n</g>\n<!-- 136125141696816 -->\n<g id=\"node17\" class=\"node\">\n<title>136125141696816</title>\n<polygon fill=\"none\" stroke=\"black\" points=\"2758,-54.5 2758,-90.5 2943,-90.5 2943,-54.5 2758,-54.5\"/>\n<text text-anchor=\"middle\" x=\"2769.5\" y=\"-68.8\" font-family=\"Times,serif\" font-size=\"14.00\">o</text>\n<polyline fill=\"none\" stroke=\"black\" points=\"2781,-54.5 2781,-90.5 \"/>\n<text text-anchor=\"middle\" x=\"2821\" y=\"-68.8\" font-family=\"Times,serif\" font-size=\"14.00\">data 0.7071</text>\n<polyline fill=\"none\" stroke=\"black\" points=\"2861,-54.5 2861,-90.5 \"/>\n<text text-anchor=\"middle\" x=\"2902\" y=\"-68.8\" font-family=\"Times,serif\" font-size=\"14.00\">grad 1.0000</text>\n</g>\n<!-- 136125141696816*&#45;&gt;136125141696816 -->\n<g id=\"edge6\" class=\"edge\">\n<title>136125141696816*&#45;&gt;136125141696816</title>\n<path fill=\"none\" stroke=\"black\" d=\"M2722.04,-72.5C2729.58,-72.5 2738.3,-72.5 2747.57,-72.5\"/>\n<polygon fill=\"black\" stroke=\"black\" points=\"2747.81,-76 2757.81,-72.5 2747.81,-69 2747.81,-76\"/>\n</g>\n<!-- 136125141706560 -->\n<g id=\"node19\" class=\"node\">\n<title>136125141706560</title>\n<polygon fill=\"none\" stroke=\"black\" points=\"723,-56.5 723,-92.5 908,-92.5 908,-56.5 723,-56.5\"/>\n<text text-anchor=\"middle\" x=\"734.5\" y=\"-70.8\" font-family=\"Times,serif\" font-size=\"14.00\">b</text>\n<polyline fill=\"none\" stroke=\"black\" points=\"746,-56.5 746,-92.5 \"/>\n<text text-anchor=\"middle\" x=\"786\" y=\"-70.8\" font-family=\"Times,serif\" font-size=\"14.00\">data 6.8814</text>\n<polyline fill=\"none\" stroke=\"black\" points=\"826,-56.5 826,-92.5 \"/>\n<text text-anchor=\"middle\" x=\"867\" y=\"-70.8\" font-family=\"Times,serif\" font-size=\"14.00\">grad 3.9142</text>\n</g>\n<!-- 136125141706560&#45;&gt;136125141708144+ -->\n<g id=\"edge18\" class=\"edge\">\n<title>136125141706560&#45;&gt;136125141708144+</title>\n<path fill=\"none\" stroke=\"black\" d=\"M908.02,-87.01C933,-90.43 958.59,-93.93 978.37,-96.63\"/>\n<polygon fill=\"black\" stroke=\"black\" points=\"978.05,-100.12 988.43,-98.01 979,-93.18 978.05,-100.12\"/>\n</g>\n<!-- 136125141708144 -->\n<g id=\"node20\" class=\"node\">\n<title>136125141708144</title>\n<polygon fill=\"none\" stroke=\"black\" points=\"1078,-83.5 1078,-119.5 1263,-119.5 1263,-83.5 1078,-83.5\"/>\n<text text-anchor=\"middle\" x=\"1089.5\" y=\"-97.8\" font-family=\"Times,serif\" font-size=\"14.00\">n</text>\n<polyline fill=\"none\" stroke=\"black\" points=\"1101,-83.5 1101,-119.5 \"/>\n<text text-anchor=\"middle\" x=\"1141\" y=\"-97.8\" font-family=\"Times,serif\" font-size=\"14.00\">data 0.8814</text>\n<polyline fill=\"none\" stroke=\"black\" points=\"1181,-83.5 1181,-119.5 \"/>\n<text text-anchor=\"middle\" x=\"1222\" y=\"-97.8\" font-family=\"Times,serif\" font-size=\"14.00\">grad 2.2071</text>\n</g>\n<!-- 136125141708144&#45;&gt;136125141700992* -->\n<g id=\"edge12\" class=\"edge\">\n<title>136125141708144&#45;&gt;136125141700992*</title>\n<path fill=\"none\" stroke=\"black\" d=\"M1263.01,-84.81C1272.49,-83.08 1281.66,-81.41 1289.9,-79.9\"/>\n<polygon fill=\"black\" stroke=\"black\" points=\"1290.6,-83.33 1299.81,-78.09 1289.35,-76.45 1290.6,-83.33\"/>\n</g>\n<!-- 136125141708144+&#45;&gt;136125141708144 -->\n<g id=\"edge7\" class=\"edge\">\n<title>136125141708144+&#45;&gt;136125141708144</title>\n<path fill=\"none\" stroke=\"black\" d=\"M1042.04,-101.5C1049.58,-101.5 1058.3,-101.5 1067.57,-101.5\"/>\n<polygon fill=\"black\" stroke=\"black\" points=\"1067.81,-105 1077.81,-101.5 1067.81,-98 1067.81,-105\"/>\n</g>\n<!-- 136125141700992 -->\n<g id=\"node22\" class=\"node\">\n<title>136125141700992</title>\n<polygon fill=\"none\" stroke=\"black\" points=\"1389,-55.5 1389,-91.5 1571,-91.5 1571,-55.5 1389,-55.5\"/>\n<text text-anchor=\"middle\" x=\"1399\" y=\"-69.8\" font-family=\"Times,serif\" font-size=\"14.00\"> </text>\n<polyline fill=\"none\" stroke=\"black\" points=\"1409,-55.5 1409,-91.5 \"/>\n<text text-anchor=\"middle\" x=\"1449\" y=\"-69.8\" font-family=\"Times,serif\" font-size=\"14.00\">data 1.7627</text>\n<polyline fill=\"none\" stroke=\"black\" points=\"1489,-55.5 1489,-91.5 \"/>\n<text text-anchor=\"middle\" x=\"1530\" y=\"-69.8\" font-family=\"Times,serif\" font-size=\"14.00\">grad 1.1036</text>\n</g>\n<!-- 136125141708192exp -->\n<g id=\"node25\" class=\"node\">\n<title>136125141708192exp</title>\n<ellipse fill=\"none\" stroke=\"black\" cx=\"1634\" cy=\"-73.5\" rx=\"27\" ry=\"18\"/>\n<text text-anchor=\"middle\" x=\"1634\" y=\"-69.8\" font-family=\"Times,serif\" font-size=\"14.00\">exp</text>\n</g>\n<!-- 136125141700992&#45;&gt;136125141708192exp -->\n<g id=\"edge14\" class=\"edge\">\n<title>136125141700992&#45;&gt;136125141708192exp</title>\n<path fill=\"none\" stroke=\"black\" d=\"M1571.18,-73.5C1580.14,-73.5 1588.83,-73.5 1596.73,-73.5\"/>\n<polygon fill=\"black\" stroke=\"black\" points=\"1596.96,-77 1606.96,-73.5 1596.96,-70 1596.96,-77\"/>\n</g>\n<!-- 136125141700992*&#45;&gt;136125141700992 -->\n<g id=\"edge8\" class=\"edge\">\n<title>136125141700992*&#45;&gt;136125141700992</title>\n<path fill=\"none\" stroke=\"black\" d=\"M1353.13,-73.5C1360.67,-73.5 1369.39,-73.5 1378.64,-73.5\"/>\n<polygon fill=\"black\" stroke=\"black\" points=\"1378.87,-77 1388.87,-73.5 1378.87,-70 1378.87,-77\"/>\n</g>\n<!-- 136125141708192 -->\n<g id=\"node24\" class=\"node\">\n<title>136125141708192</title>\n<polygon fill=\"none\" stroke=\"black\" points=\"1699.5,-55.5 1699.5,-91.5 1881.5,-91.5 1881.5,-55.5 1699.5,-55.5\"/>\n<text text-anchor=\"middle\" x=\"1709.5\" y=\"-69.8\" font-family=\"Times,serif\" font-size=\"14.00\"> </text>\n<polyline fill=\"none\" stroke=\"black\" points=\"1719.5,-55.5 1719.5,-91.5 \"/>\n<text text-anchor=\"middle\" x=\"1759.5\" y=\"-69.8\" font-family=\"Times,serif\" font-size=\"14.00\">data 5.8284</text>\n<polyline fill=\"none\" stroke=\"black\" points=\"1799.5,-55.5 1799.5,-91.5 \"/>\n<text text-anchor=\"middle\" x=\"1840.5\" y=\"-69.8\" font-family=\"Times,serif\" font-size=\"14.00\">grad 0.0429</text>\n</g>\n<!-- 136125141708192&#45;&gt;136125141698784+ -->\n<g id=\"edge22\" class=\"edge\">\n<title>136125141708192&#45;&gt;136125141698784+</title>\n<path fill=\"none\" stroke=\"black\" d=\"M1881.82,-89.28C1892.07,-91.08 1902.01,-92.81 1910.88,-94.36\"/>\n<polygon fill=\"black\" stroke=\"black\" points=\"1910.3,-97.81 1920.75,-96.09 1911.5,-90.92 1910.3,-97.81\"/>\n</g>\n<!-- 136125141708192&#45;&gt;136125141706704+ -->\n<g id=\"edge15\" class=\"edge\">\n<title>136125141708192&#45;&gt;136125141706704+</title>\n<path fill=\"none\" stroke=\"black\" d=\"M1881.82,-57.13C1892.07,-55.27 1902.01,-53.47 1910.88,-51.87\"/>\n<polygon fill=\"black\" stroke=\"black\" points=\"1911.54,-55.3 1920.75,-50.08 1910.29,-48.42 1911.54,-55.3\"/>\n</g>\n<!-- 136125141708192exp&#45;&gt;136125141708192 -->\n<g id=\"edge9\" class=\"edge\">\n<title>136125141708192exp&#45;&gt;136125141708192</title>\n<path fill=\"none\" stroke=\"black\" d=\"M1661.21,-73.5C1669.34,-73.5 1678.85,-73.5 1688.94,-73.5\"/>\n<polygon fill=\"black\" stroke=\"black\" points=\"1689.19,-77 1699.19,-73.5 1689.19,-70 1689.19,-77\"/>\n</g>\n<!-- 136125141706704 -->\n<g id=\"node26\" class=\"node\">\n<title>136125141706704</title>\n<polygon fill=\"none\" stroke=\"black\" points=\"2010,-27.5 2010,-63.5 2196,-63.5 2196,-27.5 2010,-27.5\"/>\n<text text-anchor=\"middle\" x=\"2020\" y=\"-41.8\" font-family=\"Times,serif\" font-size=\"14.00\"> </text>\n<polyline fill=\"none\" stroke=\"black\" points=\"2030,-27.5 2030,-63.5 \"/>\n<text text-anchor=\"middle\" x=\"2070\" y=\"-41.8\" font-family=\"Times,serif\" font-size=\"14.00\">data 6.8284</text>\n<polyline fill=\"none\" stroke=\"black\" points=\"2110,-27.5 2110,-63.5 \"/>\n<text text-anchor=\"middle\" x=\"2153\" y=\"-41.8\" font-family=\"Times,serif\" font-size=\"14.00\">grad &#45;0.1036</text>\n</g>\n<!-- 136125141706704&#45;&gt;136125141696672**&#45;1 -->\n<g id=\"edge17\" class=\"edge\">\n<title>136125141706704&#45;&gt;136125141696672**&#45;1</title>\n<path fill=\"none\" stroke=\"black\" d=\"M2196.14,-45.5C2227.72,-45.5 2261.24,-45.5 2285.74,-45.5\"/>\n<polygon fill=\"black\" stroke=\"black\" points=\"2285.98,-49 2295.98,-45.5 2285.98,-42 2285.98,-49\"/>\n</g>\n<!-- 136125141706704+&#45;&gt;136125141706704 -->\n<g id=\"edge10\" class=\"edge\">\n<title>136125141706704+&#45;&gt;136125141706704</title>\n<path fill=\"none\" stroke=\"black\" d=\"M1974.12,-45.5C1981.62,-45.5 1990.29,-45.5 1999.5,-45.5\"/>\n<polygon fill=\"black\" stroke=\"black\" points=\"1999.69,-49 2009.69,-45.5 1999.69,-42 1999.69,-49\"/>\n</g>\n<!-- 136125141518320 -->\n<g id=\"node28\" class=\"node\">\n<title>136125141518320</title>\n<polygon fill=\"none\" stroke=\"black\" points=\"0,-139.5 0,-175.5 207,-175.5 207,-139.5 0,-139.5\"/>\n<text text-anchor=\"middle\" x=\"16.5\" y=\"-153.8\" font-family=\"Times,serif\" font-size=\"14.00\">w1</text>\n<polyline fill=\"none\" stroke=\"black\" points=\"33,-139.5 33,-175.5 \"/>\n<text text-anchor=\"middle\" x=\"75.5\" y=\"-153.8\" font-family=\"Times,serif\" font-size=\"14.00\">data &#45;3.0000</text>\n<polyline fill=\"none\" stroke=\"black\" points=\"118,-139.5 118,-175.5 \"/>\n<text text-anchor=\"middle\" x=\"162.5\" y=\"-153.8\" font-family=\"Times,serif\" font-size=\"14.00\">grad 11.2426</text>\n</g>\n<!-- 136125141518320&#45;&gt;136125141703968* -->\n<g id=\"edge13\" class=\"edge\">\n<title>136125141518320&#45;&gt;136125141703968*</title>\n<path fill=\"none\" stroke=\"black\" d=\"M207.28,-157.5C216.3,-157.5 224.96,-157.5 232.81,-157.5\"/>\n<polygon fill=\"black\" stroke=\"black\" points=\"232.95,-161 242.95,-157.5 232.95,-154 232.95,-161\"/>\n</g>\n</g>\n</svg>\n",
            "text/plain": [
              "<graphviz.graphs.Digraph at 0x7bce1ab48550>"
            ]
          },
          "metadata": {},
          "execution_count": 6
        }
      ]
    },
    {
      "cell_type": "markdown",
      "source": [
        "## Pytorch Implementation"
      ],
      "metadata": {
        "id": "43qv1LVjYZyE"
      }
    },
    {
      "cell_type": "code",
      "source": [
        "x1 = torch.Tensor([2.0]).double()                ; x1.requires_grad = True\n",
        "x2 = torch.Tensor([0.0]).double()                ; x2.requires_grad = True\n",
        "w1 = torch.Tensor([-3.0]).double()               ; w1.requires_grad = True\n",
        "w2 = torch.Tensor([1.0]).double()                ; w2.requires_grad = True\n",
        "b = torch.Tensor([6.8813735870195432]).double()  ; b.requires_grad = True\n",
        "n = x1*w1 + x2*w2 + b\n",
        "o = torch.tanh(n)\n",
        "\n",
        "print(o.data.item())\n",
        "\n",
        "o.backward()\n",
        "\n",
        "print('---')\n",
        "print('x2', x2.grad.item())\n",
        "print('w2', w2.grad.item())\n",
        "print('x1', x1.grad.item())\n",
        "print('w1', w1.grad.item())"
      ],
      "metadata": {
        "colab": {
          "base_uri": "https://localhost:8080/"
        },
        "id": "dJ0vXfaSY123",
        "outputId": "12537401-a1d2-4fa0-8803-2a5f44b543dd"
      },
      "execution_count": null,
      "outputs": [
        {
          "output_type": "stream",
          "name": "stdout",
          "text": [
            "0.7071066904050358\n",
            "---\n",
            "x2 0.5000001283844369\n",
            "w2 0.0\n",
            "x1 -1.5000003851533106\n",
            "w1 1.0000002567688737\n"
          ]
        }
      ]
    },
    {
      "cell_type": "code",
      "source": [
        "class Neuron:\n",
        "\n",
        "  def __init__(self, nin):\n",
        "\n",
        "        self.w = [Value(random.uniform(-1,1)) for _ in range(nin)]\n",
        "        self.b = Value(random.uniform(-1,1))\n",
        "\n",
        "  def __call__(self, x):\n",
        "\n",
        "    act = sum((xi*wi for wi, xi, in zip(self.w, x)), self.b)\n",
        "    out = act.tanh()\n",
        "    return out\n",
        "\n",
        "  def parameters(self):\n",
        "    return self.w + [self.b]\n",
        "\n",
        "class Layer:\n",
        "\n",
        "  def __init__(self, nin, nout):\n",
        "    self.neurons = [Neuron(nin) for _ in range(nout)]\n",
        "\n",
        "  def __call__(self, x):\n",
        "    outs = [n(x) for n in self.neurons]\n",
        "    return outs[0] if len(outs) == 1 else outs\n",
        "\n",
        "  def parameters(self):\n",
        "    return [p for neuron in self.neurons for p in neuron.parameters()]\n",
        "\n",
        "class MLP:\n",
        "\n",
        "  def __init__(self, nin, nouts):\n",
        "    sz = [nin] + nouts\n",
        "    self.layers = [Layer(sz[i], sz[i+1]) for i in range(len(nouts))]\n",
        "\n",
        "  def __call__(self, x):\n",
        "    for layer in self.layers:\n",
        "      x = layer(x)\n",
        "    return x\n",
        "\n",
        "  def parameters(self):\n",
        "    return [p for layer in self.layers for p in layer.parameters()]"
      ],
      "metadata": {
        "id": "09P5a76ckV4x"
      },
      "execution_count": null,
      "outputs": []
    },
    {
      "cell_type": "code",
      "source": [
        "x = [2.0, 3.0, -1.0]\n",
        "n = MLP(3,[4, 4, 1])\n",
        "n(x)"
      ],
      "metadata": {
        "colab": {
          "base_uri": "https://localhost:8080/"
        },
        "id": "MaS5JWfHlsYl",
        "outputId": "05b3751e-bb6f-4705-dd63-8f2bbb337663"
      },
      "execution_count": null,
      "outputs": [
        {
          "output_type": "execute_result",
          "data": {
            "text/plain": [
              "Value(data=0.8264443072899422)"
            ]
          },
          "metadata": {},
          "execution_count": 9
        }
      ]
    },
    {
      "cell_type": "code",
      "source": [
        "xs = [\n",
        "  [2.0, 3.0, -1.0],\n",
        "  [3.0, -1.0, 0.5],\n",
        "  [0.5, 1.0, 1.0],\n",
        "  [1.0, 1.0, -1.0],\n",
        "]\n",
        "\n",
        "ys = [1.0, -1.0, -1.0, 1.0]"
      ],
      "metadata": {
        "id": "s5iWyW-Io5jV"
      },
      "execution_count": null,
      "outputs": []
    },
    {
      "cell_type": "code",
      "source": [
        "ypred = [n(x) for x in xs]\n",
        "loss = sum((yout - ygt)**2 for ygt, yout in zip(ys, ypred))\n",
        "loss"
      ],
      "metadata": {
        "colab": {
          "base_uri": "https://localhost:8080/"
        },
        "id": "f7pQcdv6wOgo",
        "outputId": "1cdeb46a-e67f-4dd1-e681-196966cca1ff"
      },
      "execution_count": null,
      "outputs": [
        {
          "output_type": "execute_result",
          "data": {
            "text/plain": [
              "Value(data=2.4104150148571106)"
            ]
          },
          "metadata": {},
          "execution_count": 11
        }
      ]
    },
    {
      "cell_type": "code",
      "source": [
        "loss.backward()\n",
        "n.layers[0].neurons[0].w[0].grad"
      ],
      "metadata": {
        "id": "0jBOjtbQoNmb",
        "outputId": "c184780c-f552-4138-bfe0-9e4b3463cb29",
        "colab": {
          "base_uri": "https://localhost:8080/"
        }
      },
      "execution_count": null,
      "outputs": [
        {
          "output_type": "execute_result",
          "data": {
            "text/plain": [
              "0.2607812184124737"
            ]
          },
          "metadata": {},
          "execution_count": 20
        }
      ]
    },
    {
      "cell_type": "code",
      "source": [
        "n.layers[0].neurons[0].w[0].data"
      ],
      "metadata": {
        "id": "xwYjPxVyrKm6",
        "outputId": "4b0fd2f1-28ad-435c-b8e5-c05b48cbb179",
        "colab": {
          "base_uri": "https://localhost:8080/"
        }
      },
      "execution_count": null,
      "outputs": [
        {
          "output_type": "execute_result",
          "data": {
            "text/plain": [
              "0.2581133797353503"
            ]
          },
          "metadata": {},
          "execution_count": 14
        }
      ]
    },
    {
      "cell_type": "code",
      "source": [
        "for p in n.parameters():\n",
        "  p.data += -0.01 * p.grad"
      ],
      "metadata": {
        "id": "we-y6EcEpN9R"
      },
      "execution_count": null,
      "outputs": []
    },
    {
      "cell_type": "code",
      "source": [
        "ypred = [n(x) for x in xs]\n",
        "loss = sum((yout - ygt)**2 for ygt, yout in zip(ys, ypred))\n",
        "loss"
      ],
      "metadata": {
        "id": "3y6kZcSVtySF",
        "outputId": "5d2f6de1-b603-49d8-a861-c2b74c194ad1",
        "colab": {
          "base_uri": "https://localhost:8080/"
        }
      },
      "execution_count": null,
      "outputs": [
        {
          "output_type": "execute_result",
          "data": {
            "text/plain": [
              "Value(data=1.8165538847847726)"
            ]
          },
          "metadata": {},
          "execution_count": 16
        }
      ]
    },
    {
      "cell_type": "code",
      "source": [
        "# Initialize lists to store loss values\n",
        "loss_history = []\n",
        "\n",
        "# Training loop\n",
        "for epoch in range(100):  # Adjust the number of epochs as needed\n",
        "    # Forward pass: compute predictions\n",
        "    ypred = [n(x) for x in xs]\n",
        "\n",
        "    # Compute loss\n",
        "    loss = sum((yout - ygt)**2 for ygt, yout in zip(ys, ypred))\n",
        "    loss_history.append(loss.data)  # Store the loss value\n",
        "\n",
        "    # Backward pass: compute gradients\n",
        "    loss.backward()\n",
        "\n",
        "    # Update weights\n",
        "    for p in n.parameters():\n",
        "        p.data -= 0.01 * p.grad  # Learning rate of 0.01\n",
        "\n",
        "    # Zero the gradients for the next iteration\n",
        "    for p in n.parameters():\n",
        "        p.grad = 0.0\n",
        "\n",
        "# Plot the loss curve\n",
        "plt.plot(loss_history, label=\"Loss\")\n",
        "plt.xlabel(\"Epoch\")\n",
        "plt.ylabel(\"Loss\")\n",
        "plt.title(\"Loss Curve\")\n",
        "plt.legend()\n",
        "plt.show()"
      ],
      "metadata": {
        "id": "XOUkfqjr2g04",
        "outputId": "f211a896-5603-416a-c94d-8e3c88fffbd3",
        "colab": {
          "base_uri": "https://localhost:8080/",
          "height": 472
        }
      },
      "execution_count": null,
      "outputs": [
        {
          "output_type": "display_data",
          "data": {
            "text/plain": [
              "<Figure size 640x480 with 1 Axes>"
            ],
            "image/png": "[encoded data removed]"
          },
          "metadata": {}
        }
      ]
    }
  ]
}